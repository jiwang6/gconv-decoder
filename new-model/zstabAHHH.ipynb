{
 "cells": [
  {
   "cell_type": "markdown",
   "metadata": {},
   "source": [
    "# Toric code example\n",
    "\n",
    "In this example, we'll use PyMatching to estimate the threshold of the toric code \n",
    "under an independent noise model with perfect syndrome measurements.\n",
    "The decoding problem for the toric code is identical for $X$-type and $Z$-type \n",
    "errors, so we will only simulate decoding $Z$-type errors using $X$-type stabilisers in this example.\n",
    "\n",
    "First, we will construct a check matrix $H_X$ corresponding to the $X$-type stabilisers.\n",
    "Each element $H_X[i,j]$ will be 1 if the $i$th $X$ stabiliser acts non-trivially on \n",
    "the $j$th qubit, and is 0 otherwise.\n",
    "\n",
    "\n",
    "We will construct $H_X$ by taking the [hypergraph product](https://arxiv.org/abs/0903.0566) of two repetition codes.\n",
    "The hypergraph product code construction $HGP(H_1,H_2)$ takes as input the parity check \n",
    "matrices of two linear codes $C_1:=\\ker H_1$ and $C_2:= \\ker H_2$. The code $HGP(H_1,H_2)$ \n",
    "is a CSS code with the check matrix for the $X$ stabilisers given by\n",
    "\n",
    "$$H_X=[H_1\\otimes I_{n_2},I_{r_1}\\otimes H_2^T]$$\n",
    "\n",
    "and with the check matrix for the $Z$ stabilisers given by \n",
    "\n",
    "$$H_Z=[I_{n_1}\\otimes H_2,H_1^T\\otimes I_{r_2}]$$\n",
    "\n",
    "where $H_1$ has dimensions $r_1\\times n_1$, $H_2$ has dimensions $r_2\\times n_2$ and $I_l$ denotes the $l\\times l$ identity matrix.\n",
    "\n",
    "Since we only need the $X$ stabilisers of the toric code with lattice size L, we only need to construct $H_X$, using the check matrix of a repetition code with length L for both $H_1$ and $H_2$:"
   ]
  },
  {
   "cell_type": "code",
   "execution_count": 13,
   "metadata": {},
   "outputs": [],
   "source": [
    "import numpy as np\n",
    "import matplotlib.pyplot as plt\n",
    "from scipy.sparse import hstack, kron, eye, csc_matrix, block_diag\n",
    "\n",
    "\n",
    "def repetition_code(n):\n",
    "    \"\"\"\n",
    "    Parity check matrix of a repetition code with length n.\n",
    "    \"\"\"\n",
    "    row_ind, col_ind = zip(*((i, j) for i in range(n) for j in (i, (i+1)%n)))\n",
    "    data = np.ones(2*n, dtype=np.uint8)\n",
    "    return csc_matrix((data, (row_ind, col_ind)))\n",
    "\n",
    "\n",
    "def toric_code_x_stabilisers(L):\n",
    "    \"\"\"\n",
    "    Sparse check matrix for the X stabilisers of a toric code with \n",
    "    lattice size L, constructed as the hypergraph product of \n",
    "    two repetition codes.\n",
    "    \"\"\"\n",
    "    Hr = repetition_code(L)\n",
    "    H = hstack(\n",
    "            [kron(Hr, eye(Hr.shape[1])), kron(eye(Hr.shape[0]), Hr.T)],\n",
    "            dtype=np.uint8\n",
    "        )\n",
    "    H.data = H.data % 2\n",
    "    H.eliminate_zeros()\n",
    "    return csc_matrix(H)\n",
    "\n",
    "def toric_code_z_stabilisers(L):\n",
    "    \"\"\"\n",
    "    Sparse check matrix for the Z stabilisers of a toric code with \n",
    "    lattice size L, constructed as the hypergraph product of \n",
    "    two repetition codes.\n",
    "    \"\"\"\n",
    "    Hr = repetition_code(L)\n",
    "    H = hstack(\n",
    "            [kron(eye(Hr.shape[0]), Hr), kron(Hr.T, eye(Hr.shape[1]))],\n",
    "            dtype=np.uint8\n",
    "        )\n",
    "    H.data = H.data % 2\n",
    "    H.eliminate_zeros()\n",
    "    return csc_matrix(H)"
   ]
  },
  {
   "cell_type": "markdown",
   "metadata": {},
   "source": [
    "From the [K&uuml;nneth theorem](https://en.wikipedia.org/wiki/K%C3%BCnneth_theorem), the $X$ logical operators of the toric code are given by\n",
    "\n",
    "$$L_X=\\left(\n",
    "  \\begin{array}{cc}\n",
    "  \\mathcal{H}^1\\otimes \\mathcal{H}^0 & 0 \\\\\n",
    "  0 & \\mathcal{H}^0\\otimes \\mathcal{H}^1\n",
    "\\end{array} \\right)$$\n",
    "\n",
    "where $\\mathcal{H}^0$ and $\\mathcal{H}^1$ are the zeroth and first cohomology groups of the length-one chain complex that has the repetition code parity check matrix as its boundary operator. We can construct this matrix with the following function:"
   ]
  },
  {
   "cell_type": "markdown",
   "metadata": {},
   "source": [
    "$$L_X=\\left(\n",
    "  \\begin{array}{cc}\n",
    "  \\mathcal{H}_1\\otimes \\mathcal{H}_0 & 0 \\\\\n",
    "  0 & \\mathcal{H}_0\\otimes \\mathcal{H}_1\n",
    "\\end{array} \\right)$$\n"
   ]
  },
  {
   "cell_type": "code",
   "execution_count": 14,
   "metadata": {},
   "outputs": [],
   "source": [
    "def toric_code_x_logicals(L):\n",
    "    \"\"\"\n",
    "    Sparse binary matrix with each row corresponding to an X logical operator \n",
    "    of a toric code with lattice size L. Constructed from the \n",
    "    homology groups of the repetition codes using the Kunneth \n",
    "    theorem.\n",
    "    \"\"\"\n",
    "    H1 = csc_matrix(([1], ([0],[0])), shape=(1,L), dtype=np.uint8)\n",
    "    H0 = csc_matrix(np.ones((1, L), dtype=np.uint8))\n",
    "    x_logicals = block_diag([kron(H1, H0), kron(H0, H1)])\n",
    "    x_logicals.data = x_logicals.data % 2\n",
    "    x_logicals.eliminate_zeros()\n",
    "    return csc_matrix(x_logicals)\n",
    "\n",
    "def toric_code_z_logicals(L):\n",
    "    \"\"\"\n",
    "    Sparse binary matrix with each row corresponding to a Z logical operator \n",
    "    of a toric code with lattice size L. Constructed from the \n",
    "    homology groups of the repetition codes using the Kunneth \n",
    "    theorem.\n",
    "    \"\"\"\n",
    "    H1 = csc_matrix(([1], ([0],[0])), shape=(1,L), dtype=np.uint8)\n",
    "    H0 = csc_matrix(np.ones((1, L), dtype=np.uint8))\n",
    "    z_logicals = block_diag([kron(H0, H1), kron(H1, H0)])\n",
    "    z_logicals.data = z_logicals.data % 2\n",
    "    z_logicals.eliminate_zeros()\n",
    "    return csc_matrix(z_logicals)"
   ]
  },
  {
   "cell_type": "code",
   "execution_count": 15,
   "metadata": {},
   "outputs": [
    {
     "name": "stdout",
     "output_type": "stream",
     "text": [
      "Noise: \n",
      " [[0 0 0]\n",
      " [1 0 0]\n",
      " [0 0 0]\n",
      " [0 0 1]\n",
      " [0 0 0]\n",
      " [0 0 0]]\n",
      "Syndrome: \n",
      " [[0 0 1]\n",
      " [1 0 0]\n",
      " [0 0 0]]\n",
      "Actual logicals flipped:  [1 1]\n"
     ]
    },
    {
     "data": {
      "image/png": "[encoded data removed]",
      "text/plain": [
       "<Figure size 600x600 with 1 Axes>"
      ]
     },
     "metadata": {},
     "output_type": "display_data"
    }
   ],
   "source": [
    "from Datavis import pp_code_Z\n",
    "\n",
    "L = 3\n",
    "error_probability = 0.1\n",
    "\n",
    "Hz = toric_code_z_stabilisers(L)\n",
    "logZ = toric_code_z_logicals(L)\n",
    "noise = (np.random.random(Hz.shape[1]) < error_probability).astype(np.uint8)\n",
    "\n",
    "syndrome = Hz@noise % 2\n",
    "actual_logicals_flipped = logZ@noise % 2\n",
    "\n",
    "# reshape syndrome into a 2D array\n",
    "syn2D = syndrome.reshape((L, L))\n",
    "# reshape npise into a 2D array\n",
    "noi2D = noise.reshape((2*L, L))\n",
    "\n",
    "print(\"Noise: \\n\", noi2D)\n",
    "print(\"Syndrome: \\n\", syn2D)\n",
    "print(\"Actual logicals flipped: \", actual_logicals_flipped)\n",
    "\n",
    "# concatenate the syndrome and noise arrays\n",
    "obs = np.concatenate((syndrome, noise), axis=0)\n",
    "\n",
    "pp_code_Z(syn2D, noi2D)"
   ]
  },
  {
   "cell_type": "code",
   "execution_count": 16,
   "metadata": {},
   "outputs": [
    {
     "name": "stdout",
     "output_type": "stream",
     "text": [
      "noise:\n",
      " [0 0 0 0 0 0 0 0 0 0 0 0 0 0 0 0 0 0] \n",
      "\n",
      "parity matrix:\n",
      "[[1 1 0 0 0 0 0 0 0 1 0 0 0 0 0 1 0 0]\n",
      " [0 1 1 0 0 0 0 0 0 0 1 0 0 0 0 0 1 0]\n",
      " [1 0 1 0 0 0 0 0 0 0 0 1 0 0 0 0 0 1]\n",
      " [0 0 0 1 1 0 0 0 0 1 0 0 1 0 0 0 0 0]\n",
      " [0 0 0 0 1 1 0 0 0 0 1 0 0 1 0 0 0 0]\n",
      " [0 0 0 1 0 1 0 0 0 0 0 1 0 0 1 0 0 0]\n",
      " [0 0 0 0 0 0 1 1 0 0 0 0 1 0 0 1 0 0]\n",
      " [0 0 0 0 0 0 0 1 1 0 0 0 0 1 0 0 1 0]\n",
      " [0 0 0 0 0 0 1 0 1 0 0 0 0 0 1 0 0 1]] \n",
      "\n",
      "logical operators\n",
      " [[1 0 0 1 0 0 1 0 0 0 0 0 0 0 0 0 0 0]\n",
      " [0 0 0 0 0 0 0 0 0 1 1 1 0 0 0 0 0 0]] \n",
      "\n",
      "syndrome [0 0 0 0 0 0 0 0 0] \n",
      "\n",
      "logicals flipped [0 0] \n",
      "\n"
     ]
    }
   ],
   "source": [
    "from Datavis import pp_code_Z, pp_code_X\n",
    "\n",
    "L = 3\n",
    "\n",
    "\n",
    "error_probability = 0.1\n",
    "\n",
    "\n",
    "Hz = toric_code_z_stabilisers(L).toarray()\n",
    "logZ = toric_code_z_logicals(L)\n",
    "noise = (np.random.random(Hz.shape[1]) < error_probability).astype(np.uint8)\n",
    "#noise = [1,0,1,0,1,0,0,0]\n",
    "#        1,2,3,4,5,6,7,8\n",
    "\n",
    "syndrome = Hz@noise % 2\n",
    "actual_logicals_flipped = logZ@noise % 2\n",
    "\n",
    "print(f\"noise:\\n {noise}\",'\\n')\n",
    "\n",
    "print(f\"parity matrix:\\n{Hz}\", '\\n')\n",
    "\n",
    "\n",
    "print(f\"logical operators\\n\", logZ.toarray(),'\\n')\n",
    "\n",
    "print(\"syndrome\", syndrome,'\\n')\n",
    "\n",
    "print(\"logicals flipped\", actual_logicals_flipped,'\\n')"
   ]
  },
  {
   "cell_type": "code",
   "execution_count": 17,
   "metadata": {},
   "outputs": [
    {
     "name": "stdout",
     "output_type": "stream",
     "text": [
      "[ 1  2 10 16] a\n",
      "[ 2  3 11 17] b\n",
      "[ 1  3 12 18] c\n",
      "[ 4  5 10 13] d\n",
      "[ 5  6 11 14] e\n",
      "[ 4  6 12 15] f\n",
      "[ 7  8 13 16] g\n",
      "[ 8  9 14 17] h\n",
      "[ 7  9 15 18] i\n"
     ]
    }
   ],
   "source": [
    "for row, rownum in zip(Hz, range(len(Hz))):\n",
    "    # print index of non-zero elements\n",
    "    print(np.nonzero(row)[0]+1, chr(rownum+97))\n",
    "\n"
   ]
  },
  {
   "cell_type": "code",
   "execution_count": 18,
   "metadata": {},
   "outputs": [
    {
     "name": "stdout",
     "output_type": "stream",
     "text": [
      "  16  17  18  \n",
      "01  02  03  \n",
      "  10  11  12  \n",
      "04  05  06  \n",
      "  13  14  15  \n",
      "07  08  09  \n"
     ]
    }
   ],
   "source": [
    "physical_qubits = np.arange(1, 2*L**2+1)\n",
    "# arrange into 2D array\n",
    "physical_qubits = physical_qubits.reshape((2*L, L))\n",
    "\n",
    "# split in two\n",
    "half = int(len(physical_qubits)/2)\n",
    "left = physical_qubits[:half]\n",
    "right = physical_qubits[half:]\n",
    "\n",
    "# zip together\n",
    "physical_qubits = np.array(list(zip(left, right)))\n",
    "# reshape into 2D array\n",
    "physical_qubits = physical_qubits.reshape(2*L, L)\n",
    "\n",
    "#move last row to the top\n",
    "physical_qubits = np.roll(physical_qubits, 1, axis=0)\n",
    "\n",
    "for row, index in zip(physical_qubits, range (len(physical_qubits))):\n",
    "    rowstring = ''\n",
    "    for qubit in row:\n",
    "        if qubit < 10:\n",
    "            rowstring += '0' + str(qubit) + '  '\n",
    "        else:\n",
    "            rowstring += str(qubit) + '  '\n",
    "    if index%2 == 0:\n",
    "        print('  ' + rowstring)\n",
    "    else:\n",
    "        print(rowstring)\n",
    "\n",
    "# syndrom is just the roll method once\n"
   ]
  },
  {
   "cell_type": "code",
   "execution_count": 19,
   "metadata": {},
   "outputs": [
    {
     "name": "stdout",
     "output_type": "stream",
     "text": [
      "[[7 8 9]\n",
      " [1 2 3]\n",
      " [4 5 6]]\n",
      "[[16 17 18]\n",
      " [ 1  2  3]\n",
      " [10 11 12]\n",
      " [ 4  5  6]\n",
      " [13 14 15]\n",
      " [ 7  8  9]]\n"
     ]
    }
   ],
   "source": [
    "\n",
    "def arrange_x_syndrome(syndrome):\n",
    "    L = int(np.sqrt(len(syndrome)))\n",
    "    syndrome = syndrome.reshape((L, L))\n",
    "    # bring last row to the top\n",
    "    syndrome = np.roll(syndrome, 1, axis=0)\n",
    "    syndrome = syndrome.flatten()\n",
    "    return syndrome\n",
    "\n",
    "def arrange_physical_qubits(qubits):\n",
    "    # arrange into 2D array\n",
    "    # sqrt length of qubits\n",
    "    L = int(np.sqrt(len(qubits)/2))\n",
    "    qubits = qubits.reshape((2*L, L))\n",
    "\n",
    "    # split in two\n",
    "    half = int(len(qubits)/2)\n",
    "    left = qubits[:half]\n",
    "    right = qubits[half:]\n",
    "\n",
    "    # zip together\n",
    "    qubits = np.array(list(zip(left, right)))\n",
    "    # reshape into 2D array\n",
    "    qubits = qubits.reshape(2*L, L)\n",
    "\n",
    "    #move last row to the top\n",
    "    qubits = np.roll(qubits, 1, axis=0)\n",
    "\n",
    "    #flatten\n",
    "    qubits = qubits.flatten()\n",
    "    return qubits\n",
    "\n",
    "syn = [1,2,3,4,5,6,7,8,9]\n",
    "# convert to np array\n",
    "syn = arrange_x_syndrome(np.array(syn))\n",
    "print(syn.reshape((3,3)))\n",
    "\n",
    "qb = [1,2,3,4,5,6,7,8,9,10,11,12,13,14,15,16,17,18]\n",
    "\n",
    "qb = arrange_physical_qubits(np.array(qb))\n",
    "print(qb.reshape((6,3)))\n"
   ]
  },
  {
   "cell_type": "code",
   "execution_count": 20,
   "metadata": {},
   "outputs": [
    {
     "name": "stdout",
     "output_type": "stream",
     "text": [
      "logical operators\n",
      " [[1 0 0 1 0 0 1 0 0 0 0 0 0 0 0 0 0 0]\n",
      " [0 0 0 0 0 0 0 0 0 1 1 1 0 0 0 0 0 0]] \n",
      "\n",
      "Actual logicals flipped:  [0 0]\n"
     ]
    },
    {
     "data": {
      "image/png": "[encoded data removed]",
      "text/plain": [
       "<Figure size 600x600 with 1 Axes>"
      ]
     },
     "metadata": {},
     "output_type": "display_data"
    }
   ],
   "source": [
    "L = 3\n",
    "error_probability = 0.1\n",
    "\n",
    "Hz = toric_code_z_stabilisers(L)\n",
    "logZ = toric_code_z_logicals(L)\n",
    "noise = (np.random.random(Hz.shape[1]) < error_probability).astype(np.uint8)\n",
    "\n",
    "syndrome = Hz@noise % 2\n",
    "actual_logicals_flipped = logZ@noise % 2\n",
    "\n",
    "\n",
    "\n",
    "#syndrome = arrange_syndrome(syndrome)\n",
    "noise = arrange_physical_qubits(noise)\n",
    "\n",
    "# reshape syndrome into a 2D array\n",
    "syn2D = syndrome.reshape((L, L))\n",
    "# reshape npise into a 2D array\n",
    "noi2D = noise.reshape((2*L, L))\n",
    "\n",
    "\n",
    "print(f\"logical operators\\n\", logZ.toarray(),'\\n')\n",
    "print(\"Actual logicals flipped: \", actual_logicals_flipped)\n",
    "\n",
    "\n",
    "# concatenate the syndrome and noise arrays\n",
    "obs = np.concatenate((syndrome, noise), axis=0)\n",
    "\n",
    "pp_code_Z(syn2D, noi2D)"
   ]
  },
  {
   "cell_type": "code",
   "execution_count": 27,
   "metadata": {},
   "outputs": [
    {
     "name": "stdout",
     "output_type": "stream",
     "text": [
      "[0 0 0 0 0 0 0 0 0 0 0 0 1 0 0 1 0 0]\n",
      "[0 0 0 1 1 0 1 1 0]\n",
      "Noise: \n",
      " [[1 0 0]\n",
      " [0 0 0]\n",
      " [0 0 0]\n",
      " [0 0 0]\n",
      " [1 0 0]\n",
      " [0 0 0]]\n",
      "Syndrome: \n",
      " [[1 1 0]\n",
      " [0 0 0]\n",
      " [1 1 0]]\n",
      "Actual logicals flipped:  [0 0]\n"
     ]
    },
    {
     "data": {
      "image/png": "[encoded data removed]",
      "text/plain": [
       "<Figure size 600x600 with 1 Axes>"
      ]
     },
     "metadata": {},
     "output_type": "display_data"
    }
   ],
   "source": [
    "\n",
    "\n",
    "L = 3\n",
    "error_probability = 0.1\n",
    "\n",
    "Hx = toric_code_x_stabilisers(L)\n",
    "logX = toric_code_x_logicals(L)\n",
    "noise = (np.random.random(Hx.shape[1]) < error_probability).astype(np.uint8)\n",
    "\n",
    "print(noise)\n",
    "\n",
    "syndrome = Hx@noise % 2\n",
    "actual_logicals_flipped = logX@noise % 2\n",
    "\n",
    "print(syndrome)\n",
    "\n",
    "syndrome = arrange_x_syndrome(syndrome)\n",
    "noise = arrange_physical_qubits(noise)\n",
    "\n",
    "# reshape syndrome into a 2D array\n",
    "syn2D = syndrome.reshape((L, L))\n",
    "# reshape npise into a 2D array\n",
    "noi2D = noise.reshape((2*L, L))\n",
    "\n",
    "print(\"Noise: \\n\", noi2D)\n",
    "print(\"Syndrome: \\n\", syn2D)\n",
    "print(\"Actual logicals flipped: \", actual_logicals_flipped)\n",
    "\n",
    "pp_code_X(syn2D, noi2D)"
   ]
  },
  {
   "cell_type": "code",
   "execution_count": 22,
   "metadata": {},
   "outputs": [
    {
     "name": "stdout",
     "output_type": "stream",
     "text": [
      "Hz * logZ:\n",
      "[[ True  True]\n",
      " [ True  True]\n",
      " [ True  True]\n",
      " [ True  True]\n",
      " [ True  True]\n",
      " [ True  True]\n",
      " [ True  True]\n",
      " [ True  True]\n",
      " [ True  True]]\n",
      "Hx * logX:\n",
      "[[ True  True]\n",
      " [ True  True]\n",
      " [ True  True]\n",
      " [ True  True]\n",
      " [ True  True]\n",
      " [ True  True]\n",
      " [ True  True]\n",
      " [ True  True]\n",
      " [ True  True]]\n"
     ]
    }
   ],
   "source": [
    "## commutivity check\n",
    "\n",
    "L = 3\n",
    "error_probability = 0.1\n",
    "\n",
    "Hz = toric_code_z_stabilisers(L)\n",
    "logZ = toric_code_z_logicals(L)\n",
    "\n",
    "#print(f\"parity matrix:\\n{Hz.toarray()}, \\n logZ:\\n{logZ.toarray()}\")\n",
    "\n",
    "print(f\"Hz * logZ:\\n{(Hz@logZ.T).toarray()==(logZ@Hz.T).toarray().T}\")\n",
    "\n",
    "Hx = toric_code_x_stabilisers(L)\n",
    "logX = toric_code_x_logicals(L)\n",
    "\n",
    "print(f\"Hx * logX:\\n{(Hx@logX.T).toarray()==(logX@Hx.T).toarray().T}\")\n",
    "\n",
    "\n",
    "\n"
   ]
  },
  {
   "cell_type": "code",
   "execution_count": 23,
   "metadata": {},
   "outputs": [
    {
     "name": "stdout",
     "output_type": "stream",
     "text": [
      "logicals product:\n",
      "[[1 0]\n",
      " [0 1]]\n",
      "logicals product:\n",
      "[[1 0]\n",
      " [0 1]]\n"
     ]
    }
   ],
   "source": [
    "print(f\"logicals product:\\n{(logZ@logX.T).toarray()}\")\n",
    "print(f\"logicals product:\\n{(logX@logZ.T).toarray()}\")"
   ]
  }
 ],
 "metadata": {
  "kernelspec": {
   "display_name": "Python 3.10.8 ('DOCS_ENV': venv)",
   "language": "python",
   "name": "python3"
  },
  "language_info": {
   "codemirror_mode": {
    "name": "ipython",
    "version": 3
   },
   "file_extension": ".py",
   "mimetype": "text/x-python",
   "name": "python",
   "nbconvert_exporter": "python",
   "pygments_lexer": "ipython3",
   "version": "3.9.18"
  },
  "vscode": {
   "interpreter": {
    "hash": "f974771f0564b5ae695921bcf938d6264317d92cdc47360159288a59986c7a85"
   }
  }
 },
 "nbformat": 4,
 "nbformat_minor": 2
}
