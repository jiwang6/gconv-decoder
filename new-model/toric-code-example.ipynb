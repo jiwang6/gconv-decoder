{
 "cells": [
  {
   "cell_type": "markdown",
   "metadata": {},
   "source": [
    "# Toric code example\n",
    "\n",
    "In this example, we'll use PyMatching to estimate the threshold of the toric code \n",
    "under an independent noise model with perfect syndrome measurements.\n",
    "The decoding problem for the toric code is identical for $X$-type and $Z$-type \n",
    "errors, so we will only simulate decoding $Z$-type errors using $X$-type stabilisers in this example.\n",
    "\n",
    "First, we will construct a check matrix $H_X$ corresponding to the $X$-type stabilisers.\n",
    "Each element $H_X[i,j]$ will be 1 if the $i$th $X$ stabiliser acts non-trivially on \n",
    "the $j$th qubit, and is 0 otherwise.\n",
    "\n",
    "\n",
    "We will construct $H_X$ by taking the [hypergraph product](https://arxiv.org/abs/0903.0566) of two repetition codes.\n",
    "The hypergraph product code construction $HGP(H_1,H_2)$ takes as input the parity check \n",
    "matrices of two linear codes $C_1:=\\ker H_1$ and $C_2:= \\ker H_2$. The code $HGP(H_1,H_2)$ \n",
    "is a CSS code with the check matrix for the $X$ stabilisers given by\n",
    "\n",
    "$$H_X=[H_1\\otimes I_{n_2},I_{r_1}\\otimes H_2^T]$$\n",
    "\n",
    "and with the check matrix for the $Z$ stabilisers given by \n",
    "\n",
    "$$H_Z=[I_{n_1}\\otimes H_2,H_1^T\\otimes I_{r_2}]$$\n",
    "\n",
    "where $H_1$ has dimensions $r_1\\times n_1$, $H_2$ has dimensions $r_2\\times n_2$ and $I_l$ denotes the $l\\times l$ identity matrix.\n",
    "\n",
    "Since we only need the $X$ stabilisers of the toric code with lattice size L, we only need to construct $H_X$, using the check matrix of a repetition code with length L for both $H_1$ and $H_2$:"
   ]
  },
  {
   "cell_type": "code",
   "execution_count": 1,
   "metadata": {},
   "outputs": [],
   "source": [
    "import numpy as np\n",
    "import matplotlib.pyplot as plt\n",
    "from scipy.sparse import hstack, kron, eye, csc_matrix, block_diag\n",
    "\n",
    "\n",
    "def repetition_code(n):\n",
    "    \"\"\"\n",
    "    Parity check matrix of a repetition code with length n.\n",
    "    \"\"\"\n",
    "    row_ind, col_ind = zip(*((i, j) for i in range(n) for j in (i, (i+1)%n)))\n",
    "    data = np.ones(2*n, dtype=np.uint8)\n",
    "    return csc_matrix((data, (row_ind, col_ind)))\n",
    "\n",
    "\n",
    "def toric_code_x_stabilisers(L):\n",
    "    \"\"\"\n",
    "    Sparse check matrix for the X stabilisers of a toric code with \n",
    "    lattice size L, constructed as the hypergraph product of \n",
    "    two repetition codes.\n",
    "    \"\"\"\n",
    "    Hr = repetition_code(L)\n",
    "    H = hstack(\n",
    "            [kron(Hr, eye(Hr.shape[1])), kron(eye(Hr.shape[0]), Hr.T)],\n",
    "            dtype=np.uint8\n",
    "        )\n",
    "    H.data = H.data % 2\n",
    "    H.eliminate_zeros()\n",
    "    return csc_matrix(H)\n",
    "\n",
    "def toric_code_z_stabilisers(L):\n",
    "    \"\"\"\n",
    "    Sparse check matrix for the Z stabilisers of a toric code with \n",
    "    lattice size L, constructed as the hypergraph product of \n",
    "    two repetition codes.\n",
    "    \"\"\"\n",
    "    Hr = repetition_code(L)\n",
    "    H = hstack(\n",
    "            [kron(eye(Hr.shape[0]), Hr), kron(Hr.T, eye(Hr.shape[1]))],\n",
    "            dtype=np.uint8\n",
    "        )\n",
    "    H.data = H.data % 2\n",
    "    H.eliminate_zeros()\n",
    "    return csc_matrix(H)"
   ]
  },
  {
   "cell_type": "markdown",
   "metadata": {},
   "source": [
    "From the [K&uuml;nneth theorem](https://en.wikipedia.org/wiki/K%C3%BCnneth_theorem), the $X$ logical operators of the toric code are given by\n",
    "\n",
    "$$L_X=\\left(\n",
    "  \\begin{array}{cc}\n",
    "  \\mathcal{H}^1\\otimes \\mathcal{H}^0 & 0 \\\\\n",
    "  0 & \\mathcal{H}^0\\otimes \\mathcal{H}^1\n",
    "\\end{array} \\right)$$\n",
    "\n",
    "where $\\mathcal{H}^0$ and $\\mathcal{H}^1$ are the zeroth and first cohomology groups of the length-one chain complex that has the repetition code parity check matrix as its boundary operator. We can construct this matrix with the following function:"
   ]
  },
  {
   "cell_type": "code",
   "execution_count": 2,
   "metadata": {},
   "outputs": [],
   "source": [
    "def toric_code_x_logicals(L):\n",
    "    \"\"\"\n",
    "    Sparse binary matrix with each row corresponding to an X logical operator \n",
    "    of a toric code with lattice size L. Constructed from the \n",
    "    homology groups of the repetition codes using the Kunneth \n",
    "    theorem.\n",
    "    \"\"\"\n",
    "    H1 = csc_matrix(([1], ([0],[0])), shape=(1,L), dtype=np.uint8)\n",
    "    H0 = csc_matrix(np.ones((1, L), dtype=np.uint8))\n",
    "    x_logicals = block_diag([kron(H1, H0), kron(H0, H1)])\n",
    "    x_logicals.data = x_logicals.data % 2\n",
    "    x_logicals.eliminate_zeros()\n",
    "    return csc_matrix(x_logicals)\n",
    "\n",
    "def toric_code_z_logicals(L):\n",
    "    \"\"\"\n",
    "    Sparse binary matrix with each row corresponding to a Z logical operator \n",
    "    of a toric code with lattice size L. Constructed from the \n",
    "    homology groups of the repetition codes using the Kunneth \n",
    "    theorem.\n",
    "    \"\"\"\n",
    "    H1 = csc_matrix(([1], ([0],[0])), shape=(1,L), dtype=np.uint8)\n",
    "    H0 = csc_matrix(np.ones((1, L), dtype=np.uint8))\n",
    "    z_logicals = block_diag([kron(H0, H1), kron(H1, H0)])\n",
    "    z_logicals.data = z_logicals.data % 2\n",
    "    z_logicals.eliminate_zeros()\n",
    "    return csc_matrix(z_logicals)"
   ]
  },
  {
   "cell_type": "code",
   "execution_count": 3,
   "metadata": {},
   "outputs": [
    {
     "name": "stdout",
     "output_type": "stream",
     "text": [
      "Noise: \n",
      " [[0 0 0]\n",
      " [0 0 1]\n",
      " [0 0 0]\n",
      " [0 0 0]\n",
      " [0 0 0]\n",
      " [1 1 0]]\n",
      "Syndrome: \n",
      " [[0 0 1]\n",
      " [0 0 1]\n",
      " [1 0 1]]\n",
      "Actual logicals flipped:  [0 1]\n"
     ]
    },
    {
     "data": {
      "image/png": "[encoded data removed]",
      "text/plain": [
       "<Figure size 600x600 with 1 Axes>"
      ]
     },
     "metadata": {},
     "output_type": "display_data"
    }
   ],
   "source": [
    "from Datavis import pp_code_X\n",
    "\n",
    "L = 3\n",
    "error_probability = 0.1\n",
    "\n",
    "Hx = toric_code_x_stabilisers(L)\n",
    "logX = toric_code_x_logicals(L)\n",
    "noise = (np.random.random(Hx.shape[1]) < error_probability).astype(np.uint8)\n",
    "\n",
    "syndrome = Hx@noise % 2\n",
    "actual_logicals_flipped = logX@noise % 2\n",
    "\n",
    "# reshape syndrome into a 2D array\n",
    "syn2D = syndrome.reshape((L, L))\n",
    "# reshape npise into a 2D array\n",
    "noi2D = noise.reshape((2*L, L))\n",
    "\n",
    "print(\"Noise: \\n\", noi2D)\n",
    "print(\"Syndrome: \\n\", syn2D)\n",
    "print(\"Actual logicals flipped: \", actual_logicals_flipped)\n",
    "\n",
    "# concatenate the syndrome and noise arrays\n",
    "obs = np.concatenate((syndrome, noise), axis=0)\n",
    "\n",
    "pp_code_X(syn2D, noi2D)"
   ]
  },
  {
   "cell_type": "code",
   "execution_count": 4,
   "metadata": {},
   "outputs": [
    {
     "name": "stdout",
     "output_type": "stream",
     "text": [
      "noise:\n",
      " [0 0 0 0 0 0 0 1 0 0 0 0 0 0 0 0 0 0] \n",
      "\n",
      "parity matrix:\n",
      "[[1 0 0 1 0 0 0 0 0 1 0 1 0 0 0 0 0 0]\n",
      " [0 1 0 0 1 0 0 0 0 1 1 0 0 0 0 0 0 0]\n",
      " [0 0 1 0 0 1 0 0 0 0 1 1 0 0 0 0 0 0]\n",
      " [0 0 0 1 0 0 1 0 0 0 0 0 1 0 1 0 0 0]\n",
      " [0 0 0 0 1 0 0 1 0 0 0 0 1 1 0 0 0 0]\n",
      " [0 0 0 0 0 1 0 0 1 0 0 0 0 1 1 0 0 0]\n",
      " [1 0 0 0 0 0 1 0 0 0 0 0 0 0 0 1 0 1]\n",
      " [0 1 0 0 0 0 0 1 0 0 0 0 0 0 0 1 1 0]\n",
      " [0 0 1 0 0 0 0 0 1 0 0 0 0 0 0 0 1 1]] \n",
      "\n",
      "logical operators\n",
      " [[1 1 1 0 0 0 0 0 0 0 0 0 0 0 0 0 0 0]\n",
      " [0 0 0 0 0 0 0 0 0 1 0 0 1 0 0 1 0 0]] \n",
      "\n",
      "syndrome [0 0 0 0 1 0 0 1 0] \n",
      "\n",
      "logicals flipped [0 0] \n",
      "\n"
     ]
    }
   ],
   "source": [
    "from Datavis import pp_code_X\n",
    "\n",
    "L = 3\n",
    "\n",
    "\n",
    "error_probability = 0.1\n",
    "\n",
    "\n",
    "Hx = toric_code_x_stabilisers(L).toarray()\n",
    "logX = toric_code_x_logicals(L)\n",
    "noise = (np.random.random(Hx.shape[1]) < error_probability).astype(np.uint8)\n",
    "#noise = [1,0,1,0,1,0,0,0]\n",
    "#        1,2,3,4,5,6,7,8\n",
    "\n",
    "syndrome = Hx@noise % 2\n",
    "actual_logicals_flipped = logX@noise % 2\n",
    "\n",
    "print(f\"noise:\\n {noise}\",'\\n')\n",
    "\n",
    "print(f\"parity matrix:\\n{Hx}\", '\\n')\n",
    "\n",
    "\n",
    "print(f\"logical operators\\n\", logX.toarray(),'\\n')\n",
    "\n",
    "print(\"syndrome\", syndrome,'\\n')\n",
    "\n",
    "print(\"logicals flipped\", actual_logicals_flipped,'\\n')"
   ]
  },
  {
   "cell_type": "code",
   "execution_count": 5,
   "metadata": {},
   "outputs": [
    {
     "name": "stdout",
     "output_type": "stream",
     "text": [
      "[ 1  4 10 12] a\n",
      "[ 2  5 10 11] b\n",
      "[ 3  6 11 12] c\n",
      "[ 4  7 13 15] d\n",
      "[ 5  8 13 14] e\n",
      "[ 6  9 14 15] f\n",
      "[ 1  7 16 18] g\n",
      "[ 2  8 16 17] h\n",
      "[ 3  9 17 18] i\n"
     ]
    }
   ],
   "source": [
    "for row, rownum in zip(Hx, range(len(Hx))):\n",
    "    # print index of non-zero elements\n",
    "    print(np.nonzero(row)[0]+1, chr(rownum+97))\n",
    "\n"
   ]
  },
  {
   "cell_type": "code",
   "execution_count": 6,
   "metadata": {},
   "outputs": [
    {
     "name": "stdout",
     "output_type": "stream",
     "text": [
      "  16  17  18  \n",
      "01  02  03  \n",
      "  10  11  12  \n",
      "04  05  06  \n",
      "  13  14  15  \n",
      "07  08  09  \n"
     ]
    }
   ],
   "source": [
    "physical_qubits = np.arange(1, 2*L**2+1)\n",
    "# arrange into 2D array\n",
    "physical_qubits = physical_qubits.reshape((2*L, L))\n",
    "\n",
    "# split in two\n",
    "half = int(len(physical_qubits)/2)\n",
    "left = physical_qubits[:half]\n",
    "right = physical_qubits[half:]\n",
    "\n",
    "# zip together\n",
    "physical_qubits = np.array(list(zip(left, right)))\n",
    "# reshape into 2D array\n",
    "physical_qubits = physical_qubits.reshape(2*L, L)\n",
    "\n",
    "#move last row to the top\n",
    "physical_qubits = np.roll(physical_qubits, 1, axis=0)\n",
    "\n",
    "for row, index in zip(physical_qubits, range (len(physical_qubits))):\n",
    "    rowstring = ''\n",
    "    for qubit in row:\n",
    "        if qubit < 10:\n",
    "            rowstring += '0' + str(qubit) + '  '\n",
    "        else:\n",
    "            rowstring += str(qubit) + '  '\n",
    "    if index%2 == 0:\n",
    "        print('  ' + rowstring)\n",
    "    else:\n",
    "        print(rowstring)\n",
    "\n",
    "# syndrom is just the roll method once\n"
   ]
  },
  {
   "cell_type": "code",
   "execution_count": 22,
   "metadata": {},
   "outputs": [
    {
     "name": "stdout",
     "output_type": "stream",
     "text": [
      "[[1 2 3]\n",
      " [4 5 6]\n",
      " [7 8 9]]\n"
     ]
    }
   ],
   "source": [
    "\n",
    "def arrange_syndrome(syndrome):\n",
    "    L = int(np.sqrt(len(syndrome)))\n",
    "    syndrome = syndrome.reshape((L, L))\n",
    "    # bring last row to the top\n",
    "    syndrome = np.roll(syndrome, -1, axis=0)\n",
    "    syndrome = syndrome.flatten()\n",
    "    return syndrome\n",
    "\n",
    "def arrange_physical_qubits(qubits):\n",
    "    # arrange into 2D array\n",
    "    # sqrt length of qubits\n",
    "    L = int(np.sqrt(len(qubits)/2))\n",
    "    qubits = qubits.reshape((2*L, L))\n",
    "\n",
    "    # split in two\n",
    "    half = int(len(qubits)/2)\n",
    "    left = qubits[:half]\n",
    "    right = qubits[half:]\n",
    "\n",
    "    # zip together\n",
    "    qubits = np.array(list(zip(left, right)))\n",
    "    # reshape into 2D array\n",
    "    qubits = qubits.reshape(2*L, L)\n",
    "\n",
    "    #move last row to the top\n",
    "    qubits = np.roll(qubits, 1, axis=0)\n",
    "\n",
    "    #flatten\n",
    "    qubits = qubits.flatten()\n",
    "    return qubits\n",
    "\n",
    "syn = [1,2,3,4,5,6,7,8,9]\n",
    "# convert to np array\n",
    "syn = arrange_syndrome(np.array(syn))\n",
    "#print(syn)\n"
   ]
  },
  {
   "cell_type": "code",
   "execution_count": 8,
   "metadata": {},
   "outputs": [
    {
     "name": "stdout",
     "output_type": "stream",
     "text": [
      "[0 0 0 0 0 0 0 0 0 0 0 0 1 0 0 0 1 0]\n",
      "[0 0 0 1 1 0 0 1 1]\n",
      "[[0 0 0]\n",
      " [1 1 0]\n",
      " [0 1 1]]\n",
      "Noise: \n",
      " [[0 1 0]\n",
      " [0 0 0]\n",
      " [0 0 0]\n",
      " [0 0 0]\n",
      " [1 0 0]\n",
      " [0 0 0]]\n",
      "Syndrome: \n",
      " [[0 0 0]\n",
      " [1 1 0]\n",
      " [0 1 1]]\n",
      "Actual logicals flipped:  [0 1]\n"
     ]
    },
    {
     "data": {
      "image/png": "[encoded data removed]",
      "text/plain": [
       "<Figure size 600x600 with 1 Axes>"
      ]
     },
     "metadata": {},
     "output_type": "display_data"
    }
   ],
   "source": [
    "\n",
    "\n",
    "L = 3\n",
    "error_probability = 0.1\n",
    "\n",
    "Hx = toric_code_x_stabilisers(L)\n",
    "logX = toric_code_x_logicals(L)\n",
    "noise = (np.random.random(Hx.shape[1]) < error_probability).astype(np.uint8)\n",
    "\n",
    "print(noise)\n",
    "\n",
    "syndrome = Hx@noise % 2\n",
    "actual_logicals_flipped = logX@noise % 2\n",
    "\n",
    "print(syndrome)\n",
    "\n",
    "syndrome = arrange_syndrome(syndrome)\n",
    "noise = arrange_physical_qubits(noise)\n",
    "\n",
    "# reshape syndrome into a 2D array\n",
    "syn2D = syndrome.reshape((L, L))\n",
    "# reshape npise into a 2D array\n",
    "noi2D = noise.reshape((2*L, L))\n",
    "\n",
    "print(\"Noise: \\n\", noi2D)\n",
    "print(\"Syndrome: \\n\", syn2D)\n",
    "print(\"Actual logicals flipped: \", actual_logicals_flipped)\n",
    "\n",
    "# concatenate the syndrome and noise arrays\n",
    "obs = np.concatenate((syndrome, noise), axis=0)\n",
    "\n",
    "pp_code_X(syn2D, noi2D)"
   ]
  },
  {
   "cell_type": "markdown",
   "metadata": {},
   "source": [
    "Now that we have the $X$ check matrix and $X$ logicals of the toric code, we can use PyMatching to simulate its performance using the minimum-weight perfect matching decoder and an error model of our choice.\n",
    "\n",
    "To do so, we first import the Matching class from PyMatching, and use it to construct a Matching object from the check matrix of the stabilisers:\n",
    "```\n",
    "from pymatching import Matching\n",
    "matching=Matching(H)\n",
    "```\n",
    "Constructing the Matching object, while efficient, is often slower than the decoding step itself. As a result, it's best to construct the Matching object only at the beginning of the experiment, and not before every use of the decoder, in order to obtain the best performance.\n",
    "\n",
    "We also choose a number of trials, `num_shots`.  For each trial, we simulate a $Z$ error under an independent noise model, in which each qubit independently suffers a $Z$ error with probability $p$:\n",
    "```\n",
    "noise = np.random.binomial(1, p, H.shape[1])\n",
    "```\n",
    "Here, `noise` is a binary vector and `noise[i]` is 1 if qubit $i$ suffers a $Z$ error, and 0 otherwise.\n",
    "\n",
    "The syndrome of the $X$ stabilisers is then calculated from the dot product (modulo 2) with the $X$ check matrix $H$:\n",
    "```\n",
    "syndrome = H@noise % 2\n",
    "```\n",
    "\n",
    "We can now use PyMatching to infer the most probable individual error given the syndrome:\n",
    "```\n",
    "prediction = matching.decode(syndrome)\n",
    "```\n",
    "\n",
    "We use this to predict which logical X operators have been flipped:\n",
    "\n",
    "```\n",
    "predicted_logicals_flipped = logicals@prediction % 2\n",
    "```\n",
    "\n",
    "The actual logicals that were flipped are:\n",
    "\n",
    "```\n",
    "actual_logicals_flipped = logicals@noise % 2\n",
    "```\n",
    "\n",
    "Our decoder was successful if `actual_logical_observables` equals `predicted_logical_observables`.\n",
    "\n",
    "Taken together, we obtain the following function `num_decoding_failures` that returns the number of logical errors after `num_shots` Monte Carlo trials, simulating an independent error model with error probability `p`, with the $X$ stabiliser check matrix `H` and $X$ logical matrix `logicals`:"
   ]
  },
  {
   "cell_type": "code",
   "execution_count": 9,
   "metadata": {},
   "outputs": [],
   "source": [
    "from pymatching import Matching\n",
    "\n",
    "def num_decoding_failures_via_physical_frame_changes(H, logicals, error_probability, num_shots):\n",
    "    matching = Matching.from_check_matrix(H, weights=np.log((1-error_probability)/error_probability))\n",
    "    num_errors = 0\n",
    "    for i in range(num_shots):\n",
    "        noise = (np.random.random(H.shape[1]) < error_probability).astype(np.uint8)\n",
    "        syndrome = H@noise % 2\n",
    "        prediction = matching.decode(syndrome)\n",
    "        predicted_logicals_flipped = logicals@prediction % 2\n",
    "        actual_logicals_flipped = logicals@noise % 2\n",
    "        if not np.array_equal(predicted_logicals_flipped, actual_logicals_flipped):\n",
    "            num_errors += 1\n",
    "    return num_errors"
   ]
  },
  {
   "cell_type": "markdown",
   "metadata": {},
   "source": [
    "We can speed this up slightly by telling PyMatching about the logical operators matrix when we create the `pymatching.Matching` object, \n",
    "using the `faults_matrix` argument. \n",
    "By doing this, `pymatching.Matching.decode` directly predicts which logicals have been flipped. This is a bit faster, as it allows the decoder to make some more optimisations."
   ]
  },
  {
   "cell_type": "code",
   "execution_count": 10,
   "metadata": {},
   "outputs": [],
   "source": [
    "def num_decoding_failures(H, logicals, p, num_shots):\n",
    "    matching = Matching.from_check_matrix(H, weights=np.log((1-p)/p), faults_matrix=logicals)\n",
    "    num_errors = 0\n",
    "    for i in range(num_shots):\n",
    "        noise = (np.random.random(H.shape[1]) < p).astype(np.uint8)\n",
    "        syndrome = H@noise % 2\n",
    "        predicted_logicals_flipped = matching.decode(syndrome)\n",
    "        actual_logicals_flipped = logicals@noise % 2\n",
    "        if not np.array_equal(predicted_logicals_flipped, actual_logicals_flipped):\n",
    "            num_errors += 1\n",
    "    return num_errors"
   ]
  },
  {
   "cell_type": "markdown",
   "metadata": {},
   "source": [
    "We can optimise the code a bit further by vectorising over the shots, using the `Matching.decode_batch` method. This method takes in a binary numpy array with dimensions (num_shots, syndrome_length), where syndrome_length should be large enough to include all detector nodes, and be no larger than the number of nodes (including boundary nodes). By vectorising, the iteration over shots is done in C++ rather than Python, which can be significantly faster when the decoding problem itself is easy."
   ]
  },
  {
   "cell_type": "code",
   "execution_count": 11,
   "metadata": {},
   "outputs": [],
   "source": [
    "def num_decoding_failures_vectorised(H, logicals, error_probability, num_shots):\n",
    "    matching = Matching.from_check_matrix(H, weights=np.log((1-p)/p), faults_matrix=logicals)\n",
    "    noise = (np.random.random((num_shots, H.shape[1])) < error_probability).astype(np.uint8)\n",
    "    shots = (noise @ H.T) % 2\n",
    "    actual_observables = (noise @ logicals.T) % 2\n",
    "    predicted_observables = matching.decode_batch(shots)\n",
    "    num_errors = np.sum(np.any(predicted_observables != actual_observables, axis=1))\n",
    "    return num_errors"
   ]
  },
  {
   "cell_type": "markdown",
   "metadata": {},
   "source": [
    "Using this function, we can now estimate the threshold of the toric code by varying the error rate $p$, for a range of lattice sizes $L$:"
   ]
  },
  {
   "cell_type": "code",
   "execution_count": 12,
   "metadata": {},
   "outputs": [
    {
     "name": "stdout",
     "output_type": "stream",
     "text": [
      "Simulating L=4...\n",
      "Simulating L=8...\n",
      "Simulating L=12...\n",
      "CPU times: total: 1.48 s\n",
      "Wall time: 1.56 s\n"
     ]
    }
   ],
   "source": [
    "%%time\n",
    "\n",
    "num_shots = 5000\n",
    "Ls = range(4,14,4)\n",
    "ps = np.linspace(0.01, 0.2, 9)\n",
    "np.random.seed(2)\n",
    "log_errors_all_L = []\n",
    "for L in Ls:\n",
    "    print(\"Simulating L={}...\".format(L))\n",
    "    Hx = toric_code_x_stabilisers(L)\n",
    "    logX = toric_code_x_logicals(L)\n",
    "    log_errors = []\n",
    "    for p in ps:\n",
    "        num_errors = num_decoding_failures_vectorised(Hx, logX, p, num_shots)\n",
    "        log_errors.append(num_errors/num_shots)\n",
    "    log_errors_all_L.append(np.array(log_errors))"
   ]
  },
  {
   "cell_type": "markdown",
   "metadata": {},
   "source": [
    "Finally, let's plot the results! We expect to see a threshold of around 10.3%, although a precise estimate requires using more trials, larger lattice sizes and scanning more values of $p$:"
   ]
  },
  {
   "cell_type": "code",
   "execution_count": 13,
   "metadata": {},
   "outputs": [
    {
     "data": {
      "image/png": "[encoded data removed]",
      "text/plain": [
       "<Figure size 640x480 with 1 Axes>"
      ]
     },
     "metadata": {},
     "output_type": "display_data"
    }
   ],
   "source": [
    "%matplotlib inline\n",
    "\n",
    "plt.figure()\n",
    "for L, logical_errors in zip(Ls, log_errors_all_L):\n",
    "    std_err = (logical_errors*(1-logical_errors)/num_shots)**0.5\n",
    "    plt.errorbar(ps, logical_errors, yerr=std_err, label=\"L={}\".format(L))\n",
    "plt.xlabel(\"Physical error rate\")\n",
    "plt.ylabel(\"Logical error rate\")\n",
    "plt.legend(loc=0);"
   ]
  },
  {
   "cell_type": "markdown",
   "metadata": {},
   "source": [
    "## Noisy syndromes\n",
    "\n",
    "In the presence of measurement errors, each syndrome measurement is repeated $O(L)$ times, and decoding instead takes place over a 3D matching graph with an additional time dimension (see Section IV B of [this paper](https://arxiv.org/abs/quant-ph/0110143)). The time dimension can be added to the matching graph by specifying the number of repetitions when constructing the matching object:\n",
    "```\n",
    "matching = Matching(H, repetitions=T)\n",
    "```\n",
    "where here $T$ is the number of repetitions. For decoding, the difference syndrome should be supplied as an $r\\times T$ binary numpy matrix, where $r$ is the number of checks (rows in $H$). The difference syndrome in time step $t$ is the difference (modulo 2) between the syndrome measurement in time step $t$ and $t-1$, and ensures that any single measurement error results in two syndrome defects (at the endpoints of a timelike edge in the matching graph). The last round of syndrome measurements should be free of measurement errors to ensure that the overall syndrome has even parity: when qubits are measured individually at the end of a computation then the final round of syndrome measurement is indeed error-free (stabilisers can be determined exactly in post-processing), however the [overlapping recovery method](https://arxiv.org/abs/quant-ph/0110143) should be implemented when decoding must be completed before all qubits are measured.\n",
    "\n",
    "The following example demonstrates decoding in the presence of measurement errors using a phenomenological error model. In this error model, in each round of measurements each qubit suffers an error with probability $p$, and each syndrome is measured incorrectly with probability $q$."
   ]
  },
  {
   "cell_type": "code",
   "execution_count": 14,
   "metadata": {},
   "outputs": [],
   "source": [
    "def num_decoding_failures_noisy_syndromes(H, logicals, p, q, num_shots, repetitions):\n",
    "    matching = Matching(H, weights=np.log((1-p)/p),\n",
    "                repetitions=repetitions, timelike_weights=np.log((1-q)/q), faults_matrix=logicals)\n",
    "    num_stabilisers, num_qubits = H.shape\n",
    "    num_errors = 0\n",
    "    for i in range(num_shots):\n",
    "        noise_new = (np.random.rand(num_qubits, repetitions) < p).astype(np.uint8)\n",
    "        noise_cumulative = (np.cumsum(noise_new, 1) % 2).astype(np.uint8)\n",
    "        noise_total = noise_cumulative[:,-1]\n",
    "        syndrome = H@noise_cumulative % 2\n",
    "        syndrome_error = (np.random.rand(num_stabilisers, repetitions) < q).astype(np.uint8)\n",
    "        syndrome_error[:,-1] = 0 # Perfect measurements in last round to ensure even parity\n",
    "        noisy_syndrome = (syndrome + syndrome_error) % 2\n",
    "        # Convert to difference syndrome\n",
    "        noisy_syndrome[:,1:] = (noisy_syndrome[:,1:] - noisy_syndrome[:,0:-1]) % 2\n",
    "        predicted_logicals_flipped = matching.decode(noisy_syndrome)\n",
    "        actual_logicals_flipped = noise_total@logicals.T % 2\n",
    "        if not np.array_equal(predicted_logicals_flipped, actual_logicals_flipped):\n",
    "            num_errors += 1\n",
    "    return num_errors"
   ]
  },
  {
   "cell_type": "markdown",
   "metadata": {},
   "source": [
    "We'll now simulate the performance of the decoder for a range of lattice sizes $L$ and physical error rate $p$ (taking $q=p$) and estimate the threshold:"
   ]
  },
  {
   "cell_type": "code",
   "execution_count": 15,
   "metadata": {},
   "outputs": [
    {
     "name": "stdout",
     "output_type": "stream",
     "text": [
      "Simulating L=8...\n",
      "Simulating L=10...\n",
      "Simulating L=12...\n"
     ]
    },
    {
     "ename": "KeyboardInterrupt",
     "evalue": "",
     "output_type": "error",
     "traceback": [
      "\u001b[1;31m---------------------------------------------------------------------------\u001b[0m",
      "\u001b[1;31mKeyboardInterrupt\u001b[0m                         Traceback (most recent call last)",
      "File \u001b[1;32m<timed exec>:11\u001b[0m\n",
      "Cell \u001b[1;32mIn[14], line 7\u001b[0m, in \u001b[0;36mnum_decoding_failures_noisy_syndromes\u001b[1;34m(H, logicals, p, q, num_shots, repetitions)\u001b[0m\n\u001b[0;32m      5\u001b[0m num_errors \u001b[38;5;241m=\u001b[39m \u001b[38;5;241m0\u001b[39m\n\u001b[0;32m      6\u001b[0m \u001b[38;5;28;01mfor\u001b[39;00m i \u001b[38;5;129;01min\u001b[39;00m \u001b[38;5;28mrange\u001b[39m(num_shots):\n\u001b[1;32m----> 7\u001b[0m     noise_new \u001b[38;5;241m=\u001b[39m (\u001b[43mnp\u001b[49m\u001b[38;5;241;43m.\u001b[39;49m\u001b[43mrandom\u001b[49m\u001b[38;5;241;43m.\u001b[39;49m\u001b[43mrand\u001b[49m\u001b[43m(\u001b[49m\u001b[43mnum_qubits\u001b[49m\u001b[43m,\u001b[49m\u001b[43m \u001b[49m\u001b[43mrepetitions\u001b[49m\u001b[43m)\u001b[49m \u001b[38;5;241m<\u001b[39m p)\u001b[38;5;241m.\u001b[39mastype(np\u001b[38;5;241m.\u001b[39muint8)\n\u001b[0;32m      8\u001b[0m     noise_cumulative \u001b[38;5;241m=\u001b[39m (np\u001b[38;5;241m.\u001b[39mcumsum(noise_new, \u001b[38;5;241m1\u001b[39m) \u001b[38;5;241m%\u001b[39m \u001b[38;5;241m2\u001b[39m)\u001b[38;5;241m.\u001b[39mastype(np\u001b[38;5;241m.\u001b[39muint8)\n\u001b[0;32m      9\u001b[0m     noise_total \u001b[38;5;241m=\u001b[39m noise_cumulative[:,\u001b[38;5;241m-\u001b[39m\u001b[38;5;241m1\u001b[39m]\n",
      "\u001b[1;31mKeyboardInterrupt\u001b[0m: "
     ]
    }
   ],
   "source": [
    "%%time\n",
    "\n",
    "num_shots = 3000\n",
    "Ls = range(8,13,2)\n",
    "ps = np.linspace(0.02, 0.04, 7)\n",
    "log_errors_all_L = []\n",
    "for L in Ls:\n",
    "    print(\"Simulating L={}...\".format(L))\n",
    "    Hx = toric_code_x_stabilisers(L)\n",
    "    logX = toric_code_x_logicals(L)\n",
    "    log_errors = []\n",
    "    for p in ps:\n",
    "        num_errors = num_decoding_failures_noisy_syndromes(Hx, logX, p, p, num_shots, L)\n",
    "        log_errors.append(num_errors/num_shots)\n",
    "    log_errors_all_L.append(np.array(log_errors))"
   ]
  },
  {
   "cell_type": "markdown",
   "metadata": {},
   "source": [
    "Plotting the results, we find a threshold of around 3%, consistent with the threshold of 2.9% found in [this paper](https://arxiv.org/abs/quant-ph/0207088):"
   ]
  },
  {
   "cell_type": "code",
   "execution_count": null,
   "metadata": {},
   "outputs": [],
   "source": [
    "%matplotlib inline\n",
    "\n",
    "plt.figure()\n",
    "for L, logical_errors in zip(Ls, log_errors_all_L):\n",
    "    std_err = (logical_errors*(1-logical_errors)/num_shots)**0.5\n",
    "    plt.errorbar(ps, logical_errors, yerr=std_err, label=\"L={}\".format(L))\n",
    "plt.yscale(\"log\")\n",
    "plt.xlabel(\"Physical error rate\")\n",
    "plt.ylabel(\"Logical error rate\")\n",
    "plt.legend(loc=0);"
   ]
  },
  {
   "cell_type": "markdown",
   "metadata": {},
   "source": [
    "## Simulating circuit-level noise\n",
    "\n",
    "PyMatching can be combined with [Stim](https://github.com/quantumlib/Stim) to decode in the presence of more realistic noise models, where errors can occur during any gate in the syndrome extraction circuit. To do this, you construct a Stim circuit for the noisy quantum error correction circuit you want to simulate (e.g. a toric code memory experiment). Stim can sample syndromes (detector measurement outcomes) from the circuit and also provides a DetectorErrorModel (essentially a generalisation of a matching graph) which PyMatching uses to construct the `Matching` object for decoding the syndrome.\n",
    "\n",
    "Note that the [sinter](https://github.com/quantumlib/Stim/tree/main/glue/sample) package combines Stim and PyMatching and uses parallelisation over shots to run error correction simulations more efficiently. It also includes other tools (such as for plotting and analysing data). However, here we will use Stim and PyMatching directly to demonstrate how the APIs can be used.\n",
    "\n",
    "We will use the surface code here (instead of the toric code), since surface code example circuits are already included with Stim. In general you should write your own circuits tailored to the research problem you are trying to solve, however the example circuits are useful for getting started. Here we will sample shots from surface code circuits over a range of lattice sizes and circuit-level error rates:\n"
   ]
  },
  {
   "cell_type": "code",
   "execution_count": null,
   "metadata": {},
   "outputs": [],
   "source": [
    "%%time\n",
    "\n",
    "import stim\n",
    "\n",
    "num_shots = 20000\n",
    "Ls = range(5,14,4)\n",
    "ps = np.linspace(0.004, 0.01, 7)\n",
    "log_errors_all_L = []\n",
    "for L in Ls:\n",
    "    print(\"Simulating L={}...\".format(L))\n",
    "    log_errors = []\n",
    "    for p in ps:\n",
    "        circuit = stim.Circuit.generated(\"surface_code:rotated_memory_x\", \n",
    "                                        distance=L, \n",
    "                                        rounds=L, \n",
    "                                        after_clifford_depolarization=p,\n",
    "                                        before_round_data_depolarization=p,\n",
    "                                        after_reset_flip_probability=p,\n",
    "                                        before_measure_flip_probability=p)\n",
    "        model = circuit.detector_error_model(decompose_errors=True)\n",
    "        matching = Matching.from_detector_error_model(model)\n",
    "        sampler = circuit.compile_detector_sampler()\n",
    "        syndrome, actual_observables = sampler.sample(shots=num_shots, separate_observables=True)\n",
    "        predicted_observables = matching.decode_batch(syndrome)\n",
    "        num_errors = np.sum(np.any(predicted_observables != actual_observables, axis=1))\n",
    "        log_errors.append(num_errors/num_shots)\n",
    "    log_errors_all_L.append(np.array(log_errors))"
   ]
  },
  {
   "cell_type": "markdown",
   "metadata": {},
   "source": [
    "Now let's plot the results:"
   ]
  },
  {
   "cell_type": "code",
   "execution_count": null,
   "metadata": {},
   "outputs": [],
   "source": [
    "%matplotlib inline\n",
    "\n",
    "plt.figure()\n",
    "for L, logical_errors in zip(Ls, log_errors_all_L):\n",
    "    std_err = (logical_errors*(1-logical_errors)/num_shots)**0.5\n",
    "    plt.errorbar(ps, logical_errors, yerr=std_err, label=\"L={}\".format(L))\n",
    "plt.yscale(\"log\")\n",
    "plt.xlabel(\"Physical error rate\")\n",
    "plt.ylabel(\"Logical error rate\")\n",
    "plt.legend(loc=0)"
   ]
  },
  {
   "cell_type": "markdown",
   "metadata": {},
   "source": [
    "We see a threshold of around 0.7% for circuit-level depolarising noise in the surface code. For more examples of how to use Stim with PyMatching (e.g. to estimate the required size of a surface code circuit to achieve a given error rate), see the [Stim documentation](https://github.com/quantumlib/Stim/tree/main/doc), including the getting started notebook."
   ]
  },
  {
   "cell_type": "markdown",
   "metadata": {},
   "source": []
  }
 ],
 "metadata": {
  "kernelspec": {
   "display_name": "Python 3.10.8 ('DOCS_ENV': venv)",
   "language": "python",
   "name": "python3"
  },
  "language_info": {
   "codemirror_mode": {
    "name": "ipython",
    "version": 3
   },
   "file_extension": ".py",
   "mimetype": "text/x-python",
   "name": "python",
   "nbconvert_exporter": "python",
   "pygments_lexer": "ipython3",
   "version": "3.9.18"
  },
  "vscode": {
   "interpreter": {
    "hash": "f974771f0564b5ae695921bcf938d6264317d92cdc47360159288a59986c7a85"
   }
  }
 },
 "nbformat": 4,
 "nbformat_minor": 2
}
