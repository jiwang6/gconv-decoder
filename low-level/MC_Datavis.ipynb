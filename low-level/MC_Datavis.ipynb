{
 "cells": [
  {
   "cell_type": "code",
   "execution_count": 8,
   "metadata": {},
   "outputs": [],
   "source": [
    "import numpy as np\n",
    "import matplotlib.pyplot as plt\n",
    "from scipy.sparse import hstack, kron, eye, csc_matrix, block_diag\n",
    "from MC_Datagen import make_grids, print_grid_stab, print_grid_qubits, generate_error\n",
    "\n"
   ]
  },
  {
   "cell_type": "code",
   "execution_count": 9,
   "metadata": {},
   "outputs": [],
   "source": [
    "random_seed = 42\n",
    "\n",
    "L = 5\n",
    "x_stab, z_stab, x_qubits, z_qubits = make_grids(L)\n",
    "x_stab, z_stab, x_qubits, z_qubits = generate_error(x_stab, z_stab, x_qubits, z_qubits, 0.05)"
   ]
  },
  {
   "cell_type": "code",
   "execution_count": 10,
   "metadata": {},
   "outputs": [
    {
     "name": "stdout",
     "output_type": "stream",
     "text": [
      "[[0 0 1 1 0]\n",
      " [0 0 0 0 0]\n",
      " [0 1 1 0 0]\n",
      " [0 0 0 0 0]\n",
      " [0 0 0 0 0]]\n",
      "[[0 0 0 0 0]\n",
      " [0 0 0 1 0]\n",
      " [0 0 0 0 0]\n",
      " [0 0 0 0 0]\n",
      " [0 0 0 0 0]\n",
      " [0 0 1 0 0]\n",
      " [0 0 0 0 0]\n",
      " [0 0 0 0 0]\n",
      " [0 0 0 0 0]\n",
      " [0 0 0 0 0]]\n"
     ]
    }
   ],
   "source": [
    "syndrome = np.array(x_stab)\n",
    "noise = np.array(x_qubits)\n",
    "\n",
    "print(syndrome)\n",
    "print(noise)\n"
   ]
  },
  {
   "cell_type": "code",
   "execution_count": 11,
   "metadata": {},
   "outputs": [
    {
     "data": {
      "image/png": "[encoded data removed]",
      "text/plain": [
       "<Figure size 1000x1000 with 1 Axes>"
      ]
     },
     "metadata": {},
     "output_type": "display_data"
    }
   ],
   "source": [
    "def pp_code(syndrome, noise):\n",
    "    L = noise.shape[0]/2\n",
    "    # initialize empty plot\n",
    "    fig, ax = plt.subplots(figsize=(2*L,2*L))\n",
    "    # set bounds for image\n",
    "    ax.set_xlim(-1, L+1)\n",
    "    ax.set_ylim(-1, L+1)\n",
    "\n",
    "    # draw gridlines\n",
    "    ax.grid(which='major', axis='both', linestyle='-', color='k', linewidth=1)\n",
    "    # remove gridlines to the left of x = 0\n",
    "    for down, row in enumerate(noise): # AWFUL AWFUL COORDINATE SYSTEM\n",
    "        for right, bit in enumerate(row):\n",
    "            print(f\"down: {down}, right: {right}, bit: {bit}\")\n",
    "            if down%2 == 0:\n",
    "                ax.plot(right+0.5, L-(down*0.5), marker='o', color='k', markersize=5)\n",
    "                if bit == 1:\n",
    "                    ax.plot(right+0.5, L-(down*0.5), marker='o', color='r', markersize=5)\n",
    "            else:\n",
    "                ax.plot(right, L-(down*0.5), marker='o', color='k', markersize=5)\n",
    "                if bit == 1:\n",
    "                    ax.plot(right, L-(down*0.5), marker='o', color='r', markersize=5)\n",
    "    print(\"drawing errors\")\n",
    "    for down, row in enumerate(syndrome):\n",
    "        for right, bit in enumerate(row):\n",
    "            print(f\"down: {down}, right: {right}, bit: {bit}\")\n",
    "            if bit == 1:\n",
    "                ax.plot(right+0.5, L-(down+0.5), marker='o', color='b', markersize=10)\n",
    "\n",
    "    plt.show()\n",
    "\n",
    "def pp_code(x_stab, z_stab, x_qubits, z_qubits):\n",
    "    L = x_qubits.shape[0]/2\n",
    "    # initialize empty plot\n",
    "    fig, ax = plt.subplots(figsize=(2*L,2*L))\n",
    "    # set bounds for image\n",
    "    ax.set_xlim(-1, L+1)\n",
    "    ax.set_ylim(-1, L+1)\n",
    "\n",
    "    # draw gridlines\n",
    "    ax.grid(which='major', axis='both', linestyle='-', color='k', linewidth=1)\n",
    "    # remove gridlines to the left of x = 0\n",
    "    for down, row in enumerate(x_qubits): # AWFUL AWFUL COORDINATE SYSTEM\n",
    "        for right, bit in enumerate(row):\n",
    "            #print(f\"down: {down}, right: {right}, bit: {bit}\")\n",
    "            if down%2 == 0:\n",
    "                ax.plot(right+0.5, L-(down*0.5), marker='o', color='k', markersize=5)\n",
    "                if bit == 1:\n",
    "                    ax.plot(right+0.5, L-(down*0.5), marker='o', color='r', markersize=5)\n",
    "                elif z_qubits[down][right] == 1:\n",
    "                    ax.plot(right+0.5, L-(down*0.5), marker='o', color='b', markersize=5)\n",
    "                if z_qubits[down][right] == 1 and bit == 1:\n",
    "                    ax.plot(right+0.5, L-(down*0.5), marker='o', color='g', markersize=5)\n",
    "            else:\n",
    "                ax.plot(right, L-(down*0.5), marker='o', color='k', markersize=5)\n",
    "                if bit == 1:\n",
    "                    ax.plot(right, L-(down*0.5), marker='o', color='r', markersize=5)\n",
    "                elif z_qubits[down][right] == 1:\n",
    "                    ax.plot(right, L-(down*0.5), marker='o', color='b', markersize=5)\n",
    "                if z_qubits[down][right] == 1 and bit == 1:\n",
    "                    ax.plot(right, L-(down*0.5), marker='o', color='g', markersize=5)\n",
    "    #print(\"drawing errors\")\n",
    "    for down, row in enumerate(x_stab):\n",
    "        for right, bit in enumerate(row):\n",
    "            #print(f\"down: {down}, right: {right}, bit: {bit}\")\n",
    "            if bit == 1:\n",
    "                ax.plot(right+0.5, L-(down+0.5), marker='o', color='b', markersize=10)\n",
    "    for down, row in enumerate(z_stab):\n",
    "        for right, bit in enumerate(row):\n",
    "            #print(f\"down: {down}, right: {right}, bit: {bit}\")\n",
    "            if bit == 1:\n",
    "                ax.plot((right + 0)% 5, L-((down+0) %5 ), marker='o', color='b', markersize=10)\n",
    "\n",
    "    plt.show()\n",
    "    \n",
    "\n",
    "\n",
    "\n",
    "\n",
    "\n",
    "pp_code(x_stab, z_stab, x_qubits, z_qubits)\n"
   ]
  },
  {
   "cell_type": "code",
   "execution_count": 12,
   "metadata": {},
   "outputs": [
    {
     "name": "stdout",
     "output_type": "stream",
     "text": [
      "(10000, 75)\n"
     ]
    }
   ],
   "source": [
    "dataset = np.load(\"datasets/MC_data_5_14.npy\")\n",
    "print(dataset.shape)"
   ]
  },
  {
   "cell_type": "code",
   "execution_count": 13,
   "metadata": {},
   "outputs": [
    {
     "name": "stdout",
     "output_type": "stream",
     "text": [
      "[[0 1 0 0 0]\n",
      " [0 0 0 0 1]\n",
      " [1 0 0 0 0]\n",
      " [1 0 0 1 0]\n",
      " [1 0 0 0 0]]\n",
      "[[1 0 0 0 0]\n",
      " [0 1 0 0 0]\n",
      " [0 0 0 0 0]\n",
      " [0 0 0 0 0]\n",
      " [0 0 0 0 1]\n",
      " [0 1 0 0 0]\n",
      " [0 1 0 0 1]\n",
      " [0 1 0 0 1]\n",
      " [0 0 0 0 0]\n",
      " [0 0 0 0 0]]\n"
     ]
    },
    {
     "data": {
      "text/plain": [
       "(None, None)"
      ]
     },
     "execution_count": 13,
     "metadata": {},
     "output_type": "execute_result"
    }
   ],
   "source": [
    "observation = dataset[2]\n",
    "\n",
    "syndrome = observation[:25].reshape(5,5)\n",
    "noise = observation[25:].reshape(10,5)\n",
    "\n",
    "print(syndrome), print(noise)"
   ]
  },
  {
   "cell_type": "code",
   "execution_count": 14,
   "metadata": {},
   "outputs": [
    {
     "data": {
      "image/png": "[encoded data removed]",
      "text/plain": [
       "<Figure size 1000x1000 with 1 Axes>"
      ]
     },
     "metadata": {},
     "output_type": "display_data"
    }
   ],
   "source": [
    "pp_code(x_stab, z_stab, x_qubits, z_qubits)"
   ]
  }
 ],
 "metadata": {
  "kernelspec": {
   "display_name": "ml",
   "language": "python",
   "name": "python3"
  },
  "language_info": {
   "codemirror_mode": {
    "name": "ipython",
    "version": 3
   },
   "file_extension": ".py",
   "mimetype": "text/x-python",
   "name": "python",
   "nbconvert_exporter": "python",
   "pygments_lexer": "ipython3",
   "version": "3.9.16"
  },
  "orig_nbformat": 4
 },
 "nbformat": 4,
 "nbformat_minor": 2
}
