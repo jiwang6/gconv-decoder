{
 "cells": [
  {
   "cell_type": "markdown",
   "metadata": {},
   "source": [
    "*Erik J. Bekkers and Maxime W. Lafarge, Eindhoven University of Technology, the Netherlands*\n",
    "\n",
    "*8 June 2018*\n",
    "\n",
    "***\n",
    "\n",
    "*This DEMO was tested on a laptop with*:\n",
    "- *Windows as OS*\n",
    "- *Jupyter Notebook (version 5.5.0)*\n",
    "- *Python (version 3.5.5)*\n",
    "- *TensorFlow-GPU (versions 1.1 and higher)*\n",
    "- *An NVIDIA Quadro M1000M GPU*\n",
    "- *The following additional libraries installed for this demo to run: sklearn, scipy, and matplotlib*"
   ]
  },
  {
   "cell_type": "markdown",
   "metadata": {},
   "source": [
    "# Basic usage of the se2cnn library"
   ]
  },
  {
   "cell_type": "markdown",
   "metadata": {},
   "source": [
    "This jupyter demo will contain the basic usage examples of the se2cnn library with applications to digit recognition in the MNIST dataset. The se2cnn library contains 3 main layers (check the useage via *help(se2cnn.layers.z2_se2n)*):\n",
    "- **z2_se2n**: a lifting layer from 2D tensor to SE(2) tensor\n",
    "- **se2n_se2n**: a group convolution layer from SE(2) tensor to SE(2) tensor\n",
    "- **spatial_max_pool**: performs 2x2 spatial max-pooling of the spatial axes\n",
    "\n",
    "The following functions are used internally, but may be of interest as well:\n",
    "- **rotate_lifting_kernels**: rotates the raw 2D lifting kernels (output is a set of rotated kernels)\n",
    "- **rotate_gconv_kernels**: rotates (shift-twists) the se2 kernels (planar rotation + orientation shift)\n",
    "\n",
    "\n",
    "\n",
    "In this demo we will construct the following network:\n",
    "\n",
    "| layer nr. | Layer                          | Tensor shape  |\n",
    "| --------- | ------------------------------ | ------------- |\n",
    "| 0         | input                          | (32 x 32 x 1) |\n",
    "| --------- | --------------------------------------------------- | -------------------------- |\n",
    "| 1         | 5x5 lifting convultion (+ReLU) | (28 x 28 x Ntheta x Nc)  |\n",
    "| 1         | 2x2 max pooling                | (14 x 14 x Ntheta x Nc)  |\n",
    "| --------- | --------------------------------------------------- | -------------------------- |\n",
    "| 2         | 5x5 group convultion (+ReLU)   | (10 x 10 x Ntheta x 2*Nc)  |\n",
    "| 2         | 2x2 max pooling                | (5 x 5 x Ntheta x 2*Nc)  |\n",
    "| --------- | --------------------------------------------------- | -------------------------- |\n",
    "| 3         | merge orientation+channel dim  | (5 x 5 x Ntheta 2*Nc) |\n",
    "| 3         | 5x5 2D convultion (+ReLU)      | (1 x 1 x 4*Nc)  |\n",
    "| --------- | --------------------------------------------------- | -------------------------- |\n",
    "| 4         | 1x1 2D convultion (+ReLU)      | (1 x 1 x 128)  |\n",
    "| --------- | --------------------------------------------------- | -------------------------- |\n",
    "| 5         | 1x1 2D convolution: the output layer | (10) |\n",
    "\n",
    "Here Ntheta is the number of orientation samples to discretize the SE(2) group, Nc is the number of channels in the lifting layer. The first two layers are **roto-translation covariant**, meaning that the feature vectors rotate according to rotations of the input patterns (e.g. basic features do not need to be learned for each orientation). In layer 3 the orientation axis is merged with the channel axis, followed by 2D convolutions, making the subsequent layers **only translation covariant**. Here we made this choice due to the fact that in the MNIST dataset the characters always appear under the same orientation, and the task does not need to be rotation invariant.\n",
    "\n",
    "There are several options to make a network completely roto-translation invariant:\n",
    "1. For example one could stick with (5x5 and 1x1) SE(2) group convolutions all the way to the output layer, which would then provide a length 10 feature vector for each orientation. On can then simply do a maximum projection over the orientations (tf.reduce_max) to get the maximal response for each bin, followed by a softmax.\n",
    "2. One coulde reduce the patch size to [1 x 1 x Ntheta x Nc] via group convolutions, apply a maximum projection over theta, and perform 1x1 (fully connected) 2D convolutions all the way to the end."
   ]
  },
  {
   "cell_type": "markdown",
   "metadata": {},
   "source": [
    "***\n",
    "# Part 1: Load the libraries"
   ]
  },
  {
   "cell_type": "markdown",
   "metadata": {},
   "source": [
    "## Load the libraries"
   ]
  },
  {
   "cell_type": "code",
   "execution_count": 1,
   "metadata": {
    "scrolled": true
   },
   "outputs": [
    {
     "name": "stdout",
     "output_type": "stream",
     "text": [
      "WARNING:tensorflow:From c:\\Users\\jimzw\\miniconda3\\envs\\tf_gpu\\lib\\site-packages\\tensorflow\\python\\compat\\v2_compat.py:101: disable_resource_variables (from tensorflow.python.ops.variable_scope) is deprecated and will be removed in a future version.\n",
      "Instructions for updating:\n",
      "non-resource variables are not supported in the long term\n"
     ]
    }
   ],
   "source": [
    "# Impor tensorflow and numpy\n",
    "#import tensorflow as tf\n",
    "import tensorflow.compat.v1 as tf\n",
    "tf.disable_v2_behavior()\n",
    "import numpy as np\n",
    "import math as m\n",
    "import time\n",
    "# For validation\n",
    "from sklearn.metrics import confusion_matrix\n",
    "import itertools\n",
    "\n",
    "\n",
    "\n",
    "# For plotting\n",
    "from matplotlib import pyplot as plt\n",
    "\n",
    "# Add the library to the system path\n",
    "import os,sys\n",
    "se2cnn_source =  os.path.join(os.getcwd(),'..')\n",
    "if se2cnn_source not in sys.path:\n",
    "    sys.path.append(se2cnn_source)\n",
    "\n",
    "# Import the library\n",
    "import se2cnn.layers"
   ]
  },
  {
   "cell_type": "markdown",
   "metadata": {},
   "source": [
    "## Useful functions"
   ]
  },
  {
   "cell_type": "markdown",
   "metadata": {},
   "source": [
    "### The se2cnn layers"
   ]
  },
  {
   "cell_type": "markdown",
   "metadata": {},
   "source": [
    "For useage of the relevant layers defined in se2cnn.layers uncomment and run the following:"
   ]
  },
  {
   "cell_type": "code",
   "execution_count": 2,
   "metadata": {},
   "outputs": [],
   "source": [
    "# help(se2cnn.layers.z2_se2n)\n",
    "# help(se2cnn.layers.se2n_se2n)\n",
    "# help(se2cnn.layers.spatial_max_pool)"
   ]
  },
  {
   "cell_type": "markdown",
   "metadata": {},
   "source": [
    "### Weight initialization"
   ]
  },
  {
   "cell_type": "markdown",
   "metadata": {},
   "source": [
    "For initialization we use the initialization method for ReLU activation functions as proposed in:\n",
    "\n",
    "He, K., Zhang, X., Ren, S., & Sun, J. (2016). Deep residual learning for image recognition. In Proceedings of the IEEE conference on computer vision and pattern recognition (pp. 770-778)."
   ]
  },
  {
   "cell_type": "code",
   "execution_count": 3,
   "metadata": {},
   "outputs": [],
   "source": [
    "# Xavier's/He-Rang-Zhen-Sun initialization for layers that are followed ReLU\n",
    "def weight_initializer(n_in, n_out):\n",
    "    return tf.random_normal_initializer(mean=0.0, stddev=m.sqrt(2.0 / (n_in))\n",
    "    )"
   ]
  },
  {
   "cell_type": "markdown",
   "metadata": {},
   "source": [
    "### Confusion matrix plot"
   ]
  },
  {
   "cell_type": "code",
   "execution_count": 4,
   "metadata": {},
   "outputs": [],
   "source": [
    "def plot_confusion_matrix(cm, classes,\n",
    "                          normalize=False,\n",
    "                          title='Confusion matrix',\n",
    "                          cmap=plt.cm.Blues):\n",
    "    \"\"\"\n",
    "    This function prints and plots the confusion matrix.\n",
    "    Normalization can be applied by setting `normalize=True`.\n",
    "    \"\"\"\n",
    "    if normalize:\n",
    "        cm = cm.astype('float') / cm.sum(axis=1)[:, np.newaxis]\n",
    "        print(\"Normalized confusion matrix\")\n",
    "    else:\n",
    "        print('Confusion matrix, without normalization')\n",
    "\n",
    "    plt.imshow(cm, interpolation='nearest', cmap=cmap)\n",
    "    plt.title(title)\n",
    "    plt.colorbar()\n",
    "    tick_marks = np.arange(len(classes))\n",
    "    plt.xticks(tick_marks, classes, rotation=45)\n",
    "    plt.yticks(tick_marks, classes)\n",
    "\n",
    "    fmt = '.2f' if normalize else 'd'\n",
    "    thresh = cm.max() / 2.\n",
    "    for i, j in itertools.product(range(cm.shape[0]), range(cm.shape[1])):\n",
    "        plt.text(j, i, format(cm[i, j], fmt),\n",
    "                 horizontalalignment=\"center\",\n",
    "                 color=\"white\" if cm[i, j] > thresh else \"black\")\n",
    "\n",
    "    plt.tight_layout()\n",
    "    plt.ylabel('True label')\n",
    "    plt.xlabel('Predicted label')"
   ]
  },
  {
   "cell_type": "markdown",
   "metadata": {},
   "source": [
    "### Size of a tf tensor"
   ]
  },
  {
   "cell_type": "code",
   "execution_count": 5,
   "metadata": {},
   "outputs": [],
   "source": [
    "def size_of(tensor) :\n",
    "    # Multiply elements one by one\n",
    "    result = 1\n",
    "    for x in tensor.get_shape().as_list():\n",
    "         result = result * x \n",
    "    return result "
   ]
  },
  {
   "cell_type": "markdown",
   "metadata": {},
   "source": [
    "***\n",
    "# Part 2: Load and format the MNIST dataset"
   ]
  },
  {
   "cell_type": "markdown",
   "metadata": {},
   "source": [
    "The MNIS dataset consists of 28x28 images of handwritten characters. We are going to classify each input image into 1 of the 10 classes (the digits 0 to 9)."
   ]
  },
  {
   "cell_type": "code",
   "execution_count": 6,
   "metadata": {},
   "outputs": [],
   "source": [
    "mnist = tf.keras.datasets.mnist\n",
    "\"\"\" train_data = mnist.train.images # Returns np.array\n",
    "train_labels = np.asarray(mnist.train.labels, dtype=np.int32)\n",
    "eval_data = mnist.test.images # Returns np.array\n",
    "eval_labels = np.asarray(mnist.test.labels, dtype=np.int32) \"\"\"\n",
    "\n",
    "(train_data, train_labels), (eval_data, eval_labels) = mnist.load_data()"
   ]
  },
  {
   "cell_type": "code",
   "execution_count": 7,
   "metadata": {},
   "outputs": [
    {
     "name": "stdout",
     "output_type": "stream",
     "text": [
      "(10000,)\n",
      "7\n"
     ]
    }
   ],
   "source": [
    "print(eval_labels.shape)\n",
    "print(eval_labels[0])"
   ]
  },
  {
   "cell_type": "markdown",
   "metadata": {},
   "source": [
    "By default the data is formatted as flattened arrays. Here were format them as 2D feature maps (with only 1 channel)."
   ]
  },
  {
   "cell_type": "code",
   "execution_count": 8,
   "metadata": {},
   "outputs": [
    {
     "data": {
      "text/plain": [
       "<matplotlib.image.AxesImage at 0x182a214e6d0>"
      ]
     },
     "execution_count": 8,
     "metadata": {},
     "output_type": "execute_result"
    },
    {
     "data": {
      "image/png": "[encoded data removed]",
      "text/plain": [
       "<Figure size 640x480 with 1 Axes>"
      ]
     },
     "metadata": {},
     "output_type": "display_data"
    }
   ],
   "source": [
    "# Reshape to 2D multi-channel images\n",
    "train_data_2D = train_data.reshape([len(train_data),28,28,1]) # [batch_size, Nx, Ny, Nc]\n",
    "eval_data_2D = eval_data.reshape([len(eval_data),28,28,1])\n",
    "\n",
    "# Plot the first sample\n",
    "plt.plot()\n",
    "plt.title('Digit = %d' % train_labels[0])\n",
    "plt.imshow(train_data_2D[0,:,:,0])"
   ]
  },
  {
   "cell_type": "markdown",
   "metadata": {},
   "source": [
    "We would like to have the patches to be of size 32x32 such that we can reduce it to 1x1 via 5x5 convolutions and max pooling layers. So, here we pad the images on the left and right with zeros."
   ]
  },
  {
   "cell_type": "code",
   "execution_count": 9,
   "metadata": {},
   "outputs": [],
   "source": [
    "train_data_2D = np.pad(train_data_2D,((0,0),(2,2),(2,2),(0,0)),'constant', constant_values=((0,0),(0,0),(0,0),(0,0)))\n",
    "eval_data_2D = np.pad(eval_data_2D,((0,0),(2,2),(2,2),(0,0)),'constant', constant_values=((0,0),(0,0),(0,0),(0,0)))"
   ]
  },
  {
   "cell_type": "markdown",
   "metadata": {},
   "source": [
    "***\n",
    "# Part 3: Build a graph (design the G-CNN)"
   ]
  },
  {
   "cell_type": "markdown",
   "metadata": {},
   "source": [
    "## Build a graph"
   ]
  },
  {
   "cell_type": "code",
   "execution_count": 10,
   "metadata": {},
   "outputs": [],
   "source": [
    "graph = tf.Graph()\n",
    "graph.as_default()\n",
    "tf.reset_default_graph()"
   ]
  },
  {
   "cell_type": "markdown",
   "metadata": {},
   "source": [
    "## Settings"
   ]
  },
  {
   "cell_type": "markdown",
   "metadata": {},
   "source": [
    "Kernel size and number of orientations"
   ]
  },
  {
   "cell_type": "code",
   "execution_count": 11,
   "metadata": {},
   "outputs": [],
   "source": [
    "Ntheta = 12 # Kernel size in angular direction\n",
    "Nxy=5       # Kernel size in spatial direction\n",
    "Nc = 4      # Number of channels in the initial layer"
   ]
  },
  {
   "cell_type": "markdown",
   "metadata": {},
   "source": [
    "### Placeholders"
   ]
  },
  {
   "cell_type": "code",
   "execution_count": 12,
   "metadata": {},
   "outputs": [],
   "source": [
    "inputs_ph = tf.placeholder( dtype = tf.float32, shape = [None,32,32,1] )\n",
    "labels_ph = tf.placeholder( dtype = tf.int32, shape = [None,] )"
   ]
  },
  {
   "cell_type": "markdown",
   "metadata": {},
   "source": [
    "### Prepare for the first layer"
   ]
  },
  {
   "cell_type": "code",
   "execution_count": 13,
   "metadata": {},
   "outputs": [],
   "source": [
    "tensor_in = inputs_ph\n",
    "Nc_in = 1"
   ]
  },
  {
   "cell_type": "markdown",
   "metadata": {},
   "source": [
    "### Save the kernels to a library for later inspection"
   ]
  },
  {
   "cell_type": "code",
   "execution_count": 14,
   "metadata": {},
   "outputs": [],
   "source": [
    "kernels={}"
   ]
  },
  {
   "cell_type": "markdown",
   "metadata": {},
   "source": [
    "## Layer 1: The lifting layer"
   ]
  },
  {
   "cell_type": "code",
   "execution_count": 15,
   "metadata": {},
   "outputs": [
    {
     "name": "stdout",
     "output_type": "stream",
     "text": [
      "Z2-SE2N BASE KERNEL SHAPE: (5, 5, 1, 4)\n",
      "Z2-SE2N ROTATED KERNEL SET SHAPE: (12, 5, 5, 1, 4)\n",
      "OUTPUT SE2N ACTIVATIONS SHAPE: (?, 28, 28, 12, 4)\n"
     ]
    }
   ],
   "source": [
    "with tf.variable_scope(\"Layer_{}\".format(1)) as _scope:\n",
    "    ## Settings\n",
    "    Nc_out = Nc\n",
    "\n",
    "    ## Perform lifting convolution\n",
    "    # The kernels used in the lifting layer\n",
    "    kernels_raw = tf.get_variable(\n",
    "                        'kernel', \n",
    "                        [Nxy,Nxy,Nc_in,Nc_out],\n",
    "                        initializer=weight_initializer(Nxy*Nxy*Nc_in,Nc_out))\n",
    "    tf.add_to_collection('raw_kernels', kernels_raw)\n",
    "    bias = tf.get_variable( # Same bias for all orientations\n",
    "                        \"bias\",\n",
    "                        [1, 1, 1, 1, Nc_out], \n",
    "                        initializer=tf.constant_initializer(value=0.01))\n",
    "    # Lifting layer\n",
    "    tensor_out, kernels_formatted = se2cnn.layers.z2_se2n(\n",
    "                            input_tensor = tensor_in,\n",
    "                            kernel = kernels_raw,\n",
    "                            orientations_nb = Ntheta)\n",
    "    # Add bias\n",
    "    tensor_out = tensor_out + bias\n",
    "    \n",
    "    ## Perform (spatial) max-pooling\n",
    "    tensor_out = se2cnn.layers.spatial_max_pool( input_tensor=tensor_out, nbOrientations=Ntheta)\n",
    "    \n",
    "    ## Apply ReLU\n",
    "    tensor_out = tf.nn.relu(tensor_out)\n",
    "\n",
    "    ## Prepare for the next layer\n",
    "    tensor_in = tensor_out\n",
    "    Nc_in = Nc_out\n",
    "    \n",
    "    ## Save kernels for inspection\n",
    "    kernels[_scope.name] = kernels_formatted"
   ]
  },
  {
   "cell_type": "code",
   "execution_count": 16,
   "metadata": {},
   "outputs": [
    {
     "data": {
      "text/plain": [
       "TensorShape([Dimension(None), Dimension(14), Dimension(14), Dimension(12), Dimension(4)])"
      ]
     },
     "execution_count": 16,
     "metadata": {},
     "output_type": "execute_result"
    }
   ],
   "source": [
    "tensor_in.get_shape()"
   ]
  },
  {
   "cell_type": "markdown",
   "metadata": {},
   "source": [
    "## Layer 2: SE2-conv, max-pool, relu"
   ]
  },
  {
   "cell_type": "code",
   "execution_count": 17,
   "metadata": {},
   "outputs": [
    {
     "name": "stdout",
     "output_type": "stream",
     "text": [
      "SE2N-SE2N BASE KERNEL SHAPE: (5, 5, 12, 4, 8)\n",
      "SE2N-SE2N ROTATED KERNEL SET SHAPE: (12, 5, 5, 12, 4, 8)\n",
      "OUTPUT SE2N ACTIVATIONS SHAPE: (?, 10, 10, 12, 8)\n"
     ]
    }
   ],
   "source": [
    "with tf.variable_scope(\"Layer_{}\".format(2)) as _scope:\n",
    "    ## Settings\n",
    "    Nc_out = 2*Nc\n",
    "\n",
    "    ## Perform group convolution\n",
    "    # The kernels used in the group convolution layer\n",
    "    kernels_raw = tf.get_variable(\n",
    "                        'kernel', \n",
    "                        [Nxy,Nxy,Ntheta,Nc_in,Nc_out],\n",
    "                        initializer=weight_initializer(Nxy*Nxy*Ntheta*Nc_in,Nc_out))\n",
    "    tf.add_to_collection('raw_kernels', kernels_raw)\n",
    "    bias = tf.get_variable( # Same bias for all orientations\n",
    "                        \"bias\",\n",
    "                        [1, 1, 1, 1, Nc_out], \n",
    "                        initializer=tf.constant_initializer(value=0.01))\n",
    "    # The group convolution layer\n",
    "    tensor_out, kernels_formatted = se2cnn.layers.se2n_se2n(\n",
    "                            input_tensor = tensor_in,\n",
    "                            kernel = kernels_raw)\n",
    "    tensor_out = tensor_out + bias\n",
    "    \n",
    "    ## Perform max-pooling # get rid of this to maintain spatial resolution\n",
    "    tensor_out = se2cnn.layers.spatial_max_pool( input_tensor=tensor_out, nbOrientations=Ntheta)\n",
    "    \n",
    "    ## Apply ReLU\n",
    "    tensor_out = tf.nn.relu(tensor_out)\n",
    "\n",
    "    ## Prepare for the next layer\n",
    "    tensor_in = tensor_out\n",
    "    Nc_in = Nc_out\n",
    "    \n",
    "    ## Save kernels for inspection\n",
    "    kernels[_scope.name] = kernels_formatted"
   ]
  },
  {
   "cell_type": "code",
   "execution_count": 18,
   "metadata": {},
   "outputs": [
    {
     "data": {
      "text/plain": [
       "TensorShape([Dimension(None), Dimension(5), Dimension(5), Dimension(12), Dimension(8)])"
      ]
     },
     "execution_count": 18,
     "metadata": {},
     "output_type": "execute_result"
    }
   ],
   "source": [
    "tensor_in.get_shape()"
   ]
  },
  {
   "cell_type": "markdown",
   "metadata": {},
   "source": [
    "## Layer 3: 2D fully connected layer (5x5)"
   ]
  },
  {
   "cell_type": "code",
   "execution_count": 19,
   "metadata": {},
   "outputs": [],
   "source": [
    "# Concatenate the orientation and channel dimension\n",
    "tensor_in = tf.concat([tensor_in[:,:,:,i,:] for i in range(Ntheta)],3)\n",
    "Nc_in = tensor_in.get_shape().as_list()[-1]\n",
    "\n",
    "# 2D convolution layer\n",
    "with tf.variable_scope(\"Layer_{}\".format(3)) as _scope:\n",
    "    ## Settings\n",
    "    Nc_out = 4*Nc\n",
    "\n",
    "    ## Perform group convolution\n",
    "    # The kernels used in the group convolution layer\n",
    "    kernels_raw = tf.get_variable(\n",
    "                        'kernel', \n",
    "                        [Nxy,Nxy,Nc_in,Nc_out],\n",
    "                        initializer=weight_initializer(Nxy*Nxy*Nc_in,Nc_out))\n",
    "    tf.add_to_collection('raw_kernels', kernels_raw)\n",
    "    bias = tf.get_variable( # Same bias for all orientations\n",
    "                        \"bias\",\n",
    "                        [1, 1, 1, Nc_out], \n",
    "                        initializer=tf.constant_initializer(value=0.01))\n",
    "    # Convolution layer\n",
    "    tensor_out = tf.nn.conv2d(\n",
    "                        input = tensor_in,\n",
    "                        filter=kernels_raw,\n",
    "                        strides=[1, 1, 1, 1],\n",
    "                        padding=\"VALID\")\n",
    "    tensor_out = tensor_out + bias\n",
    "    \n",
    "    ## Apply ReLU\n",
    "    tensor_out = tf.nn.relu(tensor_out)\n",
    "\n",
    "    ## Prepare for the next layer\n",
    "    tensor_in = tensor_out\n",
    "    Nc_in = Nc_out\n",
    "    \n",
    "    ## Save kernels for inspection\n",
    "    kernels[_scope.name] = kernels_raw"
   ]
  },
  {
   "cell_type": "code",
   "execution_count": 20,
   "metadata": {},
   "outputs": [
    {
     "data": {
      "text/plain": [
       "TensorShape([Dimension(None), Dimension(1), Dimension(1), Dimension(16)])"
      ]
     },
     "execution_count": 20,
     "metadata": {},
     "output_type": "execute_result"
    }
   ],
   "source": [
    "tensor_in.get_shape()"
   ]
  },
  {
   "cell_type": "markdown",
   "metadata": {},
   "source": [
    "## Layer 4: Fully connected layer (1x1)"
   ]
  },
  {
   "cell_type": "code",
   "execution_count": 21,
   "metadata": {},
   "outputs": [],
   "source": [
    "# 2D convolution layer\n",
    "with tf.variable_scope(\"Layer_{}\".format(4)) as _scope:\n",
    "    ## Settings\n",
    "    Nc_out = 128\n",
    "\n",
    "    ## Perform group convolution\n",
    "    # The kernels used in the group convolution layer\n",
    "    kernels_raw = tf.get_variable(\n",
    "                        'kernel', \n",
    "                        [1,1,Nc_in,Nc_out],\n",
    "                        initializer=weight_initializer(1*1*Nc_in,Nc_out))\n",
    "    tf.add_to_collection('raw_kernels', kernels_raw)\n",
    "    bias = tf.get_variable( # Same bias for all orientations\n",
    "                        \"bias\",\n",
    "                        [1, 1, 1, Nc_out], \n",
    "                        initializer=tf.constant_initializer(value=0.01))\n",
    "    # Convolution layer\n",
    "    tensor_out = tf.nn.conv2d(\n",
    "                        input = tensor_in,\n",
    "                        filter=kernels_raw,\n",
    "                        strides=[1, 1, 1, 1],\n",
    "                        padding=\"VALID\")\n",
    "    tensor_out = tensor_out + bias\n",
    "    \n",
    "    ## Apply ReLU\n",
    "    tensor_out = tf.nn.relu(tensor_out)\n",
    "\n",
    "    ## Prepare for the next layer\n",
    "    tensor_in = tensor_out\n",
    "    Nc_in = Nc_out\n",
    "    \n",
    "    ## Save kernels for inspection\n",
    "    kernels[_scope.name] = kernels_raw"
   ]
  },
  {
   "cell_type": "code",
   "execution_count": 22,
   "metadata": {},
   "outputs": [
    {
     "data": {
      "text/plain": [
       "TensorShape([Dimension(None), Dimension(1), Dimension(1), Dimension(128)])"
      ]
     },
     "execution_count": 22,
     "metadata": {},
     "output_type": "execute_result"
    }
   ],
   "source": [
    "tensor_in.get_shape()"
   ]
  },
  {
   "cell_type": "markdown",
   "metadata": {},
   "source": [
    "## Layer 5: Fully connected (1x1) to output"
   ]
  },
  {
   "cell_type": "code",
   "execution_count": 23,
   "metadata": {},
   "outputs": [],
   "source": [
    "with tf.variable_scope(\"Layer_{}\".format(5)) as _scope:\n",
    "    ## Settings\n",
    "    Nc_out = 10\n",
    "\n",
    "    ## Perform group convolution\n",
    "    # The kernels used in the group convolution layer\n",
    "    kernels_raw = tf.get_variable(\n",
    "                        'kernel', \n",
    "                        [1,1,Nc_in,Nc_out],\n",
    "                        initializer=weight_initializer(1*1*Nc_in,Nc_out))\n",
    "    tf.add_to_collection('raw_kernels', kernels_raw)\n",
    "    bias = tf.get_variable( # Same bias for all orientations\n",
    "                        \"bias\",\n",
    "                        [1, 1, 1, Nc_out], \n",
    "                        initializer=tf.constant_initializer(value=0.01))\n",
    "\n",
    "    \n",
    "    ## Convolution layer\n",
    "    tensor_out = tf.nn.conv2d(\n",
    "                        input = tensor_in,\n",
    "                        filter=kernels_raw,\n",
    "                        strides=[1, 1, 1, 1],\n",
    "                        padding=\"VALID\")\n",
    "    tensor_out = tensor_out + bias\n",
    "    \n",
    "    ## The output logits\n",
    "    logits = tensor_out[:,0,0,:]\n",
    "    predictions = tf.argmax(input=logits, axis=1)\n",
    "    probabilities = tf.nn.softmax(logits)\n",
    "    \n",
    "    ## Save the kernels for later inspection\n",
    "    kernels[_scope.name] = kernels_raw"
   ]
  },
  {
   "cell_type": "code",
   "execution_count": 24,
   "metadata": {},
   "outputs": [
    {
     "data": {
      "text/plain": [
       "TensorShape([Dimension(None), Dimension(10)])"
      ]
     },
     "execution_count": 24,
     "metadata": {},
     "output_type": "execute_result"
    }
   ],
   "source": [
    "logits.get_shape()"
   ]
  },
  {
   "cell_type": "markdown",
   "metadata": {},
   "source": [
    "## Define the loss and the optimizer"
   ]
  },
  {
   "cell_type": "code",
   "execution_count": 25,
   "metadata": {},
   "outputs": [
    {
     "data": {
      "text/plain": [
       "TensorShape([Dimension(None)])"
      ]
     },
     "execution_count": 25,
     "metadata": {},
     "output_type": "execute_result"
    }
   ],
   "source": [
    "labels_ph.shape"
   ]
  },
  {
   "cell_type": "code",
   "execution_count": 26,
   "metadata": {},
   "outputs": [],
   "source": [
    "# Cross-entropy loss\n",
    "loss = tf.losses.sparse_softmax_cross_entropy(labels=labels_ph, logits=logits)"
   ]
  },
  {
   "cell_type": "code",
   "execution_count": 27,
   "metadata": {},
   "outputs": [
    {
     "name": "stdout",
     "output_type": "stream",
     "text": [
      "-----\n",
      "RAW kernel shapes:\n",
      "[Layer_1/kernel:0]: (5, 5, 1, 4), total nr of weights = 100\n",
      "[Layer_2/kernel:0]: (5, 5, 12, 4, 8), total nr of weights = 9600\n",
      "[Layer_3/kernel:0]: (5, 5, 96, 16), total nr of weights = 38400\n",
      "[Layer_4/kernel:0]: (1, 1, 16, 128), total nr of weights = 2048\n",
      "[Layer_5/kernel:0]: (1, 1, 128, 10), total nr of weights = 1280\n",
      "-----\n"
     ]
    }
   ],
   "source": [
    "#-- Define the l2 loss \n",
    "weightDecay=5e-4\n",
    "# Get the raw kernels\n",
    "variables_wd = tf.get_collection('raw_kernels')\n",
    "print('-----')\n",
    "print('RAW kernel shapes:')\n",
    "for v in variables_wd: print( \"[{}]: {}, total nr of weights = {}\".format(v.name, v.get_shape(), size_of(v)))\n",
    "print('-----')\n",
    "loss_l2 = weightDecay*sum([tf.nn.l2_loss(ker) for ker in variables_wd])"
   ]
  },
  {
   "cell_type": "code",
   "execution_count": 28,
   "metadata": {},
   "outputs": [],
   "source": [
    "# Configure the Training Op (for TRAIN mode)\n",
    "optimizer = tf.train.AdamOptimizer(learning_rate=0.001)\n",
    "\n",
    "train_op = optimizer.minimize(\n",
    "    loss=loss + loss_l2,\n",
    "    global_step=tf.train.get_global_step())"
   ]
  },
  {
   "cell_type": "markdown",
   "metadata": {},
   "source": [
    "***\n",
    "# Part 4: Train and test the G-CNN"
   ]
  },
  {
   "cell_type": "markdown",
   "metadata": {},
   "source": [
    "## Begin session"
   ]
  },
  {
   "cell_type": "code",
   "execution_count": 29,
   "metadata": {},
   "outputs": [],
   "source": [
    "#-- Start the (GPU) session\n",
    "initializer = tf.global_variables_initializer()\n",
    "session = tf.Session(graph=tf.get_default_graph()) #-- Session created\n",
    "session.run(initializer)"
   ]
  },
  {
   "cell_type": "markdown",
   "metadata": {},
   "source": [
    "## Optimization"
   ]
  },
  {
   "cell_type": "markdown",
   "metadata": {},
   "source": [
    "In each epoch we pass over all input samples in batch sizes of batch_size"
   ]
  },
  {
   "cell_type": "code",
   "execution_count": 30,
   "metadata": {},
   "outputs": [],
   "source": [
    "batch_size=100\n",
    "n_epochs=10"
   ]
  },
  {
   "cell_type": "markdown",
   "metadata": {},
   "source": [
    "Loop over the input stack in batch of size \"batch_size\"."
   ]
  },
  {
   "cell_type": "code",
   "execution_count": 38,
   "metadata": {},
   "outputs": [
    {
     "data": {
      "text/plain": [
       "(1000,)"
      ]
     },
     "execution_count": 38,
     "metadata": {},
     "output_type": "execute_result"
    }
   ],
   "source": [
    "train_labels[samples[1*batch_size:(1+1)*batch_size]].shape\n",
    "\n",
    "train_labels[1]"
   ]
  },
  {
   "cell_type": "code",
   "execution_count": 31,
   "metadata": {},
   "outputs": [
    {
     "name": "stdout",
     "output_type": "stream",
     "text": [
      "Epoch  0  finished... Average loss =  2.2949 , time =  10.0344\n",
      "Epoch  1  finished... Average loss =  0.2079 , time =  4.9612\n",
      "Epoch  2  finished... Average loss =  0.1416 , time =  4.7682\n",
      "Epoch  3  finished... Average loss =  0.1187 , time =  7.0672\n",
      "Epoch  4  finished... Average loss =  0.1024 , time =  7.5418\n",
      "Epoch  5  finished... Average loss =  0.0885 , time =  7.3093\n",
      "Epoch  6  finished... Average loss =  0.0769 , time =  7.1296\n",
      "Epoch  7  finished... Average loss =  0.0674 , time =  4.8024\n",
      "Epoch  8  finished... Average loss =  0.0689 , time =  5.0546\n",
      "Epoch  9  finished... Average loss =  0.0554 , time =  5.4435\n"
     ]
    }
   ],
   "source": [
    "for epoch_nr in range(n_epochs):\n",
    "    loss_average = 0\n",
    "    data = train_data_2D\n",
    "    labels = train_labels\n",
    "    # KBatch settings\n",
    "    NItPerEpoch = m.floor(len(data)/batch_size) #number of iterations per epoch\n",
    "    samples=np.random.permutation(len(data))\n",
    "    # Loop over dataset\n",
    "    tStart = time.time()\n",
    "    for iteration in range(NItPerEpoch):\n",
    "        feed_dict = {\n",
    "                inputs_ph: np.array(data[samples[iteration*batch_size:(iteration+1)*batch_size]]),\n",
    "                labels_ph: np.array(labels[samples[iteration*batch_size:(iteration+1)*batch_size]])\n",
    "                }\n",
    "        operators_output = session.run([ loss , train_op ], feed_dict)\n",
    "        loss_average += operators_output[0]/NItPerEpoch\n",
    "    tElapsed = time.time() - tStart\n",
    "    print('Epoch ' , epoch_nr , ' finished... Average loss = ' , round(loss_average,4) , ', time = ',round(tElapsed,4))"
   ]
  },
  {
   "cell_type": "markdown",
   "metadata": {},
   "source": [
    "## Validation"
   ]
  },
  {
   "cell_type": "code",
   "execution_count": 32,
   "metadata": {},
   "outputs": [],
   "source": [
    "batch_size = 1000\n",
    "labels_pred = []\n",
    "for i in range(round(len(eval_data_2D)/batch_size)):\n",
    "    [ labels_pred_batch ] = session.run([ predictions ], { inputs_ph: eval_data_2D[i*batch_size:(i+1)*batch_size] })\n",
    "    labels_pred = labels_pred + list(labels_pred_batch)\n",
    "labels_pred = np.array(labels_pred)"
   ]
  },
  {
   "cell_type": "markdown",
   "metadata": {},
   "source": [
    "Compare the first 10 results with the ground truth"
   ]
  },
  {
   "cell_type": "code",
   "execution_count": 33,
   "metadata": {},
   "outputs": [
    {
     "name": "stdout",
     "output_type": "stream",
     "text": [
      "[7 2 1 0 4 1 4 9 5 9]\n",
      "[7 2 1 0 4 1 4 9 5 9]\n"
     ]
    }
   ],
   "source": [
    "print(labels_pred[0:10])\n",
    "print(eval_labels[0:10])"
   ]
  },
  {
   "cell_type": "markdown",
   "metadata": {},
   "source": [
    "The accuracy (average nr of successes)"
   ]
  },
  {
   "cell_type": "code",
   "execution_count": 34,
   "metadata": {},
   "outputs": [
    {
     "data": {
      "text/plain": [
       "0.9817"
      ]
     },
     "execution_count": 34,
     "metadata": {},
     "output_type": "execute_result"
    }
   ],
   "source": [
    "((labels_pred - eval_labels)**2==0).astype(float).mean()"
   ]
  },
  {
   "cell_type": "markdown",
   "metadata": {},
   "source": [
    "Total nr of errors"
   ]
  },
  {
   "cell_type": "code",
   "execution_count": 35,
   "metadata": {},
   "outputs": [
    {
     "data": {
      "text/plain": [
       "183.0"
      ]
     },
     "execution_count": 35,
     "metadata": {},
     "output_type": "execute_result"
    }
   ],
   "source": [
    "((labels_pred - eval_labels)**2>0).astype(float).sum()"
   ]
  },
  {
   "cell_type": "markdown",
   "metadata": {},
   "source": [
    "Error rate"
   ]
  },
  {
   "cell_type": "code",
   "execution_count": 36,
   "metadata": {},
   "outputs": [
    {
     "data": {
      "text/plain": [
       "1.83"
      ]
     },
     "execution_count": 36,
     "metadata": {},
     "output_type": "execute_result"
    }
   ],
   "source": [
    "100*((labels_pred - eval_labels)**2>0).astype(float).mean()"
   ]
  },
  {
   "cell_type": "markdown",
   "metadata": {},
   "source": [
    "Plot a confusion matrix to see what kind of errors are made"
   ]
  },
  {
   "cell_type": "code",
   "execution_count": 37,
   "metadata": {
    "scrolled": true
   },
   "outputs": [
    {
     "name": "stdout",
     "output_type": "stream",
     "text": [
      "Confusion matrix, without normalization\n"
     ]
    },
    {
     "data": {
      "image/png": "[encoded data removed]",
      "text/plain": [
       "<Figure size 640x480 with 2 Axes>"
      ]
     },
     "metadata": {},
     "output_type": "display_data"
    }
   ],
   "source": [
    "cm = confusion_matrix(eval_labels, labels_pred)\n",
    "plot_confusion_matrix(cm, range(10))"
   ]
  }
 ],
 "metadata": {
  "kernelspec": {
   "display_name": "Python 3",
   "language": "python",
   "name": "python3"
  },
  "language_info": {
   "codemirror_mode": {
    "name": "ipython",
    "version": 3
   },
   "file_extension": ".py",
   "mimetype": "text/x-python",
   "name": "python",
   "nbconvert_exporter": "python",
   "pygments_lexer": "ipython3",
   "version": "3.9.18"
  }
 },
 "nbformat": 4,
 "nbformat_minor": 2
}
