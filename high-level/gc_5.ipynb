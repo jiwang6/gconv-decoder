{
 "cells": [
  {
   "cell_type": "code",
   "execution_count": 1,
   "metadata": {},
   "outputs": [
    {
     "name": "stdout",
     "output_type": "stream",
     "text": [
      "WARNING:tensorflow:From c:\\Users\\jimzw\\miniconda3\\envs\\tf_gpu\\lib\\site-packages\\tensorflow\\python\\compat\\v2_compat.py:101: disable_resource_variables (from tensorflow.python.ops.variable_scope) is deprecated and will be removed in a future version.\n",
      "Instructions for updating:\n",
      "non-resource variables are not supported in the long term\n"
     ]
    }
   ],
   "source": [
    "# Impor tensorflow and numpy\n",
    "#import tensorflow as tf\n",
    "import tensorflow.compat.v1 as tf\n",
    "tf.disable_v2_behavior()\n",
    "import numpy as np\n",
    "import math as m\n",
    "import time\n",
    "# For validation\n",
    "from sklearn.metrics import confusion_matrix\n",
    "import itertools\n",
    "\n",
    "\n",
    "\n",
    "# For plotting\n",
    "from matplotlib import pyplot as plt\n",
    "\n",
    "# Add the library to the system path\n",
    "import os,sys\n",
    "se2cnn_source =  os.path.join(os.getcwd(),'..')\n",
    "if se2cnn_source not in sys.path:\n",
    "    sys.path.append(se2cnn_source)\n",
    "\n",
    "# Import the library\n",
    "import se2cnn.layers"
   ]
  },
  {
   "cell_type": "code",
   "execution_count": 2,
   "metadata": {},
   "outputs": [
    {
     "name": "stdout",
     "output_type": "stream",
     "text": [
      "[name: \"/device:CPU:0\"\n",
      "device_type: \"CPU\"\n",
      "memory_limit: 268435456\n",
      "locality {\n",
      "}\n",
      "incarnation: 11810288059934246058\n",
      ", name: \"/device:GPU:0\"\n",
      "device_type: \"GPU\"\n",
      "memory_limit: 9844031488\n",
      "locality {\n",
      "  bus_id: 1\n",
      "  links {\n",
      "  }\n",
      "}\n",
      "incarnation: 13287641965852175328\n",
      "physical_device_desc: \"device: 0, name: NVIDIA GeForce RTX 4070 Ti, pci bus id: 0000:06:00.0, compute capability: 8.9\"\n",
      "]\n"
     ]
    }
   ],
   "source": [
    "# check tf can see the GPU\n",
    "from tensorflow.python.client import device_lib\n",
    "print(device_lib.list_local_devices())"
   ]
  },
  {
   "cell_type": "code",
   "execution_count": 3,
   "metadata": {},
   "outputs": [],
   "source": [
    "# Xavier's/He-Rang-Zhen-Sun initialization for layers that are followed ReLU\n",
    "def weight_initializer(n_in, n_out):\n",
    "    return tf.random_normal_initializer(mean=0.0, stddev=m.sqrt(2.0 / (n_in))\n",
    "    )\n",
    "\n",
    "def size_of(tensor) :\n",
    "    # Multiply elements one by one\n",
    "    result = 1\n",
    "    for x in tensor.get_shape().as_list():\n",
    "         result = result * x \n",
    "    return result "
   ]
  },
  {
   "cell_type": "markdown",
   "metadata": {},
   "source": [
    "## Load and Format Dataset"
   ]
  },
  {
   "cell_type": "code",
   "execution_count": 4,
   "metadata": {},
   "outputs": [],
   "source": [
    "code_distance = 5\n",
    "error_rate = 1\n",
    "\n",
    "observations = 70000\n",
    "\n",
    "dataset = np.load(f'test-datasets/HL_data_{code_distance}_{error_rate}_{observations}.npy')\n",
    "\n",
    "nontest, test = np.split(dataset, [60000])\n",
    "\n",
    "nontest_data_unzipped = nontest[:, :code_distance**2 *2]\n",
    "# last 4 columns are the labels\n",
    "nontest_labels= nontest[:, -4:]\n",
    "\n",
    "test_data_unzipped = test[:, :code_distance**2 *2]\n",
    "test_labels= test[:, -4:]\n",
    "\n"
   ]
  },
  {
   "cell_type": "code",
   "execution_count": 5,
   "metadata": {},
   "outputs": [
    {
     "name": "stdout",
     "output_type": "stream",
     "text": [
      "distance: 5\n"
     ]
    },
    {
     "data": {
      "image/png": "[encoded data removed]",
      "text/plain": [
       "<Figure size 1000x1000 with 1 Axes>"
      ]
     },
     "metadata": {},
     "output_type": "display_data"
    },
    {
     "name": "stdout",
     "output_type": "stream",
     "text": [
      "[0 0 0 0]\n"
     ]
    }
   ],
   "source": [
    "from Datavis import visualize_observation\n",
    "\n",
    "# visualizing observation and label\n",
    "# red: x-error, yellow: z-error, green: x and z error, blue: stabilizer activation\n",
    "\n",
    "observation_index = 0\n",
    "\n",
    "visualize_observation(nontest[observation_index][:-4])\n",
    "print(nontest[observation_index][-4:])\n"
   ]
  },
  {
   "cell_type": "markdown",
   "metadata": {},
   "source": [
    "## Zip Together Syndromes"
   ]
  },
  {
   "cell_type": "code",
   "execution_count": 6,
   "metadata": {},
   "outputs": [
    {
     "name": "stdout",
     "output_type": "stream",
     "text": [
      "(60000, 50)\n",
      "(10000, 50)\n"
     ]
    }
   ],
   "source": [
    "# new np ndarrays\n",
    "nontest_data = []\n",
    "\n",
    "test_data = []\n",
    "\n",
    "for observation in nontest_data_unzipped:\n",
    "\n",
    "    # split in half\n",
    "    observation = observation.reshape(code_distance *2, code_distance)\n",
    "    first_half = observation[:code_distance]\n",
    "    second_half = observation[code_distance:]\n",
    "    # zip them together\n",
    "    observation = np.array(list(zip(first_half, second_half))).flatten()\n",
    "\n",
    "\n",
    "    nontest_data.append(observation)\n",
    "\n",
    "for observation in test_data_unzipped:\n",
    "    # split in half\n",
    "    observation = observation.reshape(code_distance *2, code_distance)\n",
    "    first_half = observation[:code_distance]\n",
    "    second_half = observation[code_distance:]\n",
    "    # zip them together\n",
    "    observation = np.array(list(zip(first_half, second_half))).flatten()\n",
    "\n",
    "    test_data.append(observation)\n",
    "\n",
    "nontest_data = np.array(nontest_data)\n",
    "test_data = np.array(test_data)\n",
    "\n",
    "print(nontest_data.shape)\n",
    "print(test_data.shape)\n"
   ]
  },
  {
   "cell_type": "markdown",
   "metadata": {},
   "source": [
    "## Closed Surface Padding"
   ]
  },
  {
   "cell_type": "code",
   "execution_count": 7,
   "metadata": {},
   "outputs": [],
   "source": [
    "temp_nt = nontest_data\n",
    "temp_t = test_data\n",
    "\n",
    "nontest_data = []\n",
    "test_data = []\n",
    "\n",
    "kernellll = 3\n",
    "\n",
    "pad_size = kernellll - 1\n",
    "\n",
    "for observation in temp_nt:\n",
    "    # reshape to 2D\n",
    "    observation = observation.reshape(2*code_distance, code_distance)\n",
    "\n",
    "    # left pad is last two columns of observation\n",
    "    left_pad = observation[:,-pad_size:]\n",
    "    # right pad is first two columns of observation\n",
    "    # pad the observation\n",
    "    observation = np.hstack((left_pad, observation))\n",
    "\n",
    "    top_pad = observation[-pad_size:,:]\n",
    "\n",
    "    observation = np.vstack((top_pad, observation))\n",
    "\n",
    "    # flatten the observation\n",
    "    observation = observation.flatten()\n",
    "\n",
    "    nontest_data.append(observation)\n",
    "\n",
    "for observation in temp_t:\n",
    "    # reshape to 2D\n",
    "    observation = observation.reshape(2*code_distance, code_distance)\n",
    "\n",
    "    # left pad is last two columns of observation\n",
    "    # right pad is first two columns of observation\n",
    "    left_pad = observation[:,-pad_size:]\n",
    "\n",
    "    # pad the observation\n",
    "    observation = np.hstack((left_pad, observation))\n",
    "\n",
    "    top_pad = observation[-pad_size:,:]\n",
    "\n",
    "    observation = np.vstack((top_pad, observation))\n",
    "\n",
    "    # flatten the observation\n",
    "    observation = observation.flatten()\n",
    "\n",
    "    test_data.append(observation)\n",
    "\n",
    "nontest_data = np.array(nontest_data)\n",
    "test_data = np.array(test_data)\n"
   ]
  },
  {
   "cell_type": "code",
   "execution_count": 8,
   "metadata": {},
   "outputs": [
    {
     "name": "stdout",
     "output_type": "stream",
     "text": [
      "nontest_data_2D.shape = (60000, 12, 7, 1)\n"
     ]
    }
   ],
   "source": [
    "# Reshape to 2D multi-channel images\n",
    "nontest_data_2D = nontest_data.reshape(len(nontest_data), code_distance*2 +  pad_size, code_distance +  pad_size, 1) # data shape here\n",
    "test_data_2D = test_data.reshape(len(test_data), code_distance*2 + pad_size, code_distance + pad_size, 1)\n",
    "\n",
    "print(f\"nontest_data_2D.shape = {nontest_data_2D.shape}\")\n"
   ]
  },
  {
   "cell_type": "code",
   "execution_count": 9,
   "metadata": {},
   "outputs": [
    {
     "name": "stdout",
     "output_type": "stream",
     "text": [
      "[0 0 0 0 0 0 0 0 1 0 0 0 0 1 1 0 0 1 0 1 0 0 0 1 1 0 0 0 0 0 0 1 0 0 0 0 0\n",
      " 0 0 0 0 0 0 0 0 0 1 0 0 0 0 0 0 0 0 0 0 0 0 0 0 0 0 0 1 0 0 0 0 1 0 0 0 0\n",
      " 0 0 0 0 1 0 0 0 0 1]\n",
      "[[0 0 0 0 0 0 0]\n",
      " [0 1 0 0 0 0 1]\n",
      " [1 0 0 1 0 1 0]\n",
      " [0 0 1 1 0 0 0]\n",
      " [0 0 0 1 0 0 0]\n",
      " [0 0 0 0 0 0 0]\n",
      " [0 0 0 0 1 0 0]\n",
      " [0 0 0 0 0 0 0]\n",
      " [0 0 0 0 0 0 0]\n",
      " [0 1 0 0 0 0 1]\n",
      " [0 0 0 0 0 0 0]\n",
      " [0 1 0 0 0 0 1]]\n"
     ]
    }
   ],
   "source": [
    "print(nontest_data[0])\n",
    "\n",
    "print(nontest_data_2D[0,:,:,0])"
   ]
  },
  {
   "cell_type": "code",
   "execution_count": 10,
   "metadata": {},
   "outputs": [
    {
     "name": "stdout",
     "output_type": "stream",
     "text": [
      "[0 0 0 0 0 0 0 0 0 0 0 0 0 0 0 0 0 0 0 0 0 1 0 0 0 0 1 0 0 0 0 0 1 0 0 1 1\n",
      " 0 1 1 1 1 0 0 0 1 1 0 0 0 0 0 0 1 0 0 1 0 0 0 0 1 0 0 0 0 0 0 0 0 0 0 0 0\n",
      " 0 0 0 0 0 0 0 0 0 0]\n",
      "[[0 0 0 0 0 0 0]\n",
      " [0 0 0 0 0 0 0]\n",
      " [0 0 0 0 0 0 0]\n",
      " [1 0 0 0 0 1 0]\n",
      " [0 0 0 0 1 0 0]\n",
      " [1 1 0 1 1 1 1]\n",
      " [0 0 0 1 1 0 0]\n",
      " [0 0 0 0 1 0 0]\n",
      " [1 0 0 0 0 1 0]\n",
      " [0 0 0 0 0 0 0]\n",
      " [0 0 0 0 0 0 0]\n",
      " [0 0 0 0 0 0 0]]\n",
      "[0 0 1 1]\n"
     ]
    }
   ],
   "source": [
    "print(test_data[0])\n",
    "\n",
    "print(test_data_2D[0,:,:,0])\\\n",
    "\n",
    "print(test_labels[0])"
   ]
  },
  {
   "cell_type": "markdown",
   "metadata": {},
   "source": [
    "# one-hot encode all labels"
   ]
  },
  {
   "cell_type": "code",
   "execution_count": 11,
   "metadata": {},
   "outputs": [
    {
     "name": "stdout",
     "output_type": "stream",
     "text": [
      "[[0 0 0 0]\n",
      " [0 1 1 1]\n",
      " [1 0 1 1]\n",
      " [0 1 0 1]\n",
      " [0 0 0 0]]\n",
      "[ 0  7 11  5  0]\n",
      "[[0 0 1 1]\n",
      " [1 0 0 0]\n",
      " [0 0 0 0]\n",
      " [0 0 1 0]\n",
      " [1 0 0 1]]\n",
      "[3 8 0 2 9]\n"
     ]
    }
   ],
   "source": [
    "nontest_labels_encoded = np.array([int(''.join(map(str,single_label)),2) for single_label in nontest_labels])\n",
    "test_labels_encoded = np.array([int(''.join(map(str,single_label)),2) for single_label in test_labels])\n",
    "\n",
    "print(nontest_labels[:5])\n",
    "print(nontest_labels_encoded[:5])\n",
    "\n",
    "print(test_labels[:5])\n",
    "print(test_labels_encoded[:5])\n",
    "\n"
   ]
  },
  {
   "cell_type": "code",
   "execution_count": 12,
   "metadata": {},
   "outputs": [
    {
     "name": "stdout",
     "output_type": "stream",
     "text": [
      "[[0 0 1 1]\n",
      " [1 0 0 0]\n",
      " [0 0 0 0]\n",
      " [0 0 1 0]\n",
      " [1 0 0 1]]\n",
      "[3 8 0 2 9]\n"
     ]
    }
   ],
   "source": [
    "\n",
    "print(test_labels[:5])\n",
    "# head of labels\n",
    "print(test_labels_encoded[:5])\n"
   ]
  },
  {
   "cell_type": "code",
   "execution_count": 13,
   "metadata": {},
   "outputs": [
    {
     "data": {
      "image/png": "[encoded data removed]",
      "text/plain": [
       "<Figure size 640x480 with 1 Axes>"
      ]
     },
     "metadata": {},
     "output_type": "display_data"
    }
   ],
   "source": [
    "# histogram of nontest_labels_encoded\n",
    "\n",
    "dataset_encoded = np.concatenate((nontest_labels_encoded, test_labels_encoded))\n",
    "plt.title(f\"Dataset Label Counts, L={code_distance}, p={0.155/error_rate}\")\n",
    "plt.hist(dataset_encoded, bins=16)\n",
    "# show all x ticks\n",
    "plt.xticks(np.arange(16))\n",
    "# axis labels\n",
    "plt.xlabel(\"Label\")\n",
    "plt.ylabel(\"Frequency\")\n",
    "\n",
    "plt.show()\n",
    "\n",
    "\n"
   ]
  },
  {
   "cell_type": "markdown",
   "metadata": {},
   "source": [
    "## Define GCNN Structure"
   ]
  },
  {
   "cell_type": "code",
   "execution_count": 14,
   "metadata": {},
   "outputs": [],
   "source": [
    "Ntheta = 4 # Kernel size in angular direction\n",
    "Nxy = kernellll     # Kernel size in spatial direction\n",
    "Nc = 4     # Number of channels in the initial layer\n",
    "\n",
    "graph = tf.Graph()\n",
    "graph.as_default()\n",
    "tf.compat.v1.reset_default_graph()\n",
    "\n",
    "inputs_ph = tf.placeholder( dtype = tf.float32, shape = [\n",
    "    None, \n",
    "    nontest_data_2D.shape[1], \n",
    "    nontest_data_2D.shape[2], \n",
    "    nontest_data_2D.shape[3]] )\n",
    "labels_ph = tf.placeholder( dtype = tf.int32, shape = [None,] )\n",
    "\n",
    "\n",
    "tensor_in = inputs_ph\n",
    "Nc_in = 1\n",
    "\n",
    "kernels={}"
   ]
  },
  {
   "cell_type": "code",
   "execution_count": 15,
   "metadata": {},
   "outputs": [
    {
     "name": "stdout",
     "output_type": "stream",
     "text": [
      "(?, 12, 7, 1)\n",
      "(?,)\n"
     ]
    }
   ],
   "source": [
    "print(inputs_ph.shape)\n",
    "print(labels_ph.shape)"
   ]
  },
  {
   "cell_type": "markdown",
   "metadata": {},
   "source": [
    "### Layer 1"
   ]
  },
  {
   "cell_type": "code",
   "execution_count": 16,
   "metadata": {},
   "outputs": [
    {
     "name": "stdout",
     "output_type": "stream",
     "text": [
      "Z2-SE2N BASE KERNEL SHAPE: (3, 3, 1, 4)\n",
      "Z2-SE2N ROTATED KERNEL SET SHAPE: (4, 3, 3, 1, 4)\n",
      "OUTPUT SE2N ACTIVATIONS SHAPE: (?, 10, 5, 4, 4)\n"
     ]
    }
   ],
   "source": [
    "with tf.variable_scope(\"Layer_{}\".format(1)) as _scope:\n",
    "    ## Settings\n",
    "    Nc_out = Nc\n",
    "\n",
    "    ## Perform lifting convolution\n",
    "    # The kernels used in the lifting layer\n",
    "    kernels_raw = tf.get_variable(\n",
    "                        'kernel', \n",
    "                        [Nxy,Nxy,Nc_in,Nc_out],\n",
    "                        initializer=weight_initializer(Nxy*Nxy*Nc_in,Nc_out))\n",
    "    tf.add_to_collection('raw_kernels', kernels_raw)\n",
    "    bias = tf.get_variable( # Same bias for all orientations\n",
    "                        \"bias\",\n",
    "                        [1, 1, 1, 1, Nc_out], \n",
    "                        initializer=tf.constant_initializer(value=0.01))\n",
    "    # Lifting layer\n",
    "    tensor_out, kernels_formatted = se2cnn.layers.z2_se2n(\n",
    "                            input_tensor = tensor_in,\n",
    "                            kernel = kernels_raw,\n",
    "                            orientations_nb = Ntheta)\n",
    "    # Add bias\n",
    "    tensor_out = tensor_out + bias\n",
    "    \n",
    "    ## Perform (spatial) max-pooling\n",
    "    #tensor_out = se2cnn.layers.spatial_max_pool( input_tensor=tensor_out, nbOrientations=Ntheta)\n",
    "    \n",
    "    ## Apply ReLU\n",
    "    tensor_out = tf.nn.relu(tensor_out)\n",
    "\n",
    "    ## Prepare for the next layer\n",
    "    tensor_in = tensor_out\n",
    "    Nc_in = Nc_out\n",
    "    \n",
    "    ## Save kernels for inspection\n",
    "    kernels[_scope.name] = kernels_formatted"
   ]
  },
  {
   "cell_type": "code",
   "execution_count": 17,
   "metadata": {},
   "outputs": [
    {
     "name": "stdout",
     "output_type": "stream",
     "text": [
      "(?, 10, 5, 4, 4)\n"
     ]
    }
   ],
   "source": [
    "print(tensor_in.get_shape())"
   ]
  },
  {
   "cell_type": "markdown",
   "metadata": {},
   "source": [
    "### Layer 2"
   ]
  },
  {
   "cell_type": "code",
   "execution_count": 18,
   "metadata": {},
   "outputs": [
    {
     "name": "stdout",
     "output_type": "stream",
     "text": [
      "SE2N-SE2N BASE KERNEL SHAPE: (3, 3, 4, 4, 8)\n",
      "SE2N-SE2N ROTATED KERNEL SET SHAPE: (4, 3, 3, 4, 4, 8)\n",
      "OUTPUT SE2N ACTIVATIONS SHAPE: (?, 8, 3, 4, 8)\n"
     ]
    }
   ],
   "source": [
    "with tf.variable_scope(\"Layer_{}\".format(2)) as _scope:\n",
    "    ## Settings\n",
    "    Nc_out = 2*Nc\n",
    "\n",
    "    ## Perform group convolution\n",
    "    # The kernels used in the group convolution layer\n",
    "    kernels_raw = tf.get_variable(\n",
    "                        'kernel', \n",
    "                        [Nxy,Nxy,Ntheta,Nc_in,Nc_out],\n",
    "                        initializer=weight_initializer(Nxy*Nxy*Ntheta*Nc_in,Nc_out))\n",
    "    tf.add_to_collection('raw_kernels', kernels_raw)\n",
    "    bias = tf.get_variable( # Same bias for all orientations\n",
    "                        \"bias\",\n",
    "                        [1, 1, 1, 1, Nc_out], \n",
    "                        initializer=tf.constant_initializer(value=0.01))\n",
    "    # The group convolution layer\n",
    "    tensor_out, kernels_formatted = se2cnn.layers.se2n_se2n(\n",
    "                            input_tensor = tensor_in,\n",
    "                            kernel = kernels_raw)\n",
    "    tensor_out = tensor_out + bias\n",
    "    \n",
    "    #tensor_out = se2cnn.layers.spatial_max_pool( input_tensor=tensor_out, nbOrientations=Ntheta)\n",
    "\n",
    "    ## Apply ReLU\n",
    "    tensor_out = tf.nn.relu(tensor_out)\n",
    "    \n",
    "    ## Prepare for the next layer\n",
    "    tensor_in = tensor_out\n",
    "    Nc_in = Nc_out\n",
    "    \n",
    "    ## Save kernels for inspection\n",
    "    kernels[_scope.name] = kernels_formatted"
   ]
  },
  {
   "cell_type": "code",
   "execution_count": 19,
   "metadata": {},
   "outputs": [
    {
     "name": "stdout",
     "output_type": "stream",
     "text": [
      "(?, 8, 3, 4, 8)\n"
     ]
    }
   ],
   "source": [
    "print(tensor_in.get_shape())"
   ]
  },
  {
   "cell_type": "markdown",
   "metadata": {},
   "source": [
    "### Layer 3"
   ]
  },
  {
   "cell_type": "code",
   "execution_count": 20,
   "metadata": {},
   "outputs": [
    {
     "name": "stdout",
     "output_type": "stream",
     "text": [
      "SE2N-SE2N BASE KERNEL SHAPE: (3, 3, 4, 8, 16)\n",
      "SE2N-SE2N ROTATED KERNEL SET SHAPE: (4, 3, 3, 4, 8, 16)\n",
      "OUTPUT SE2N ACTIVATIONS SHAPE: (?, 6, 1, 4, 16)\n"
     ]
    }
   ],
   "source": [
    "with tf.variable_scope(\"Layer_{}\".format(3)) as _scope:\n",
    "    ## Settings\n",
    "    Nc_out = 4*Nc\n",
    "\n",
    "    ## Perform group convolution\n",
    "    # The kernels used in the group convolution layer\n",
    "    kernels_raw = tf.get_variable(\n",
    "                        'kernel', \n",
    "                        [Nxy,Nxy,Ntheta,Nc_in,Nc_out],\n",
    "                        initializer=weight_initializer(Nxy*Nxy*Ntheta*Nc_in,Nc_out))\n",
    "    tf.add_to_collection('raw_kernels', kernels_raw)\n",
    "    bias = tf.get_variable( # Same bias for all orientations\n",
    "                        \"bias\",\n",
    "                        [1, 1, 1, 1, Nc_out], \n",
    "                        initializer=tf.constant_initializer(value=0.01))\n",
    "    # The group convolution layer\n",
    "    tensor_out, kernels_formatted = se2cnn.layers.se2n_se2n(\n",
    "                            input_tensor = tensor_in,\n",
    "                            kernel = kernels_raw)\n",
    "    tensor_out = tensor_out + bias\n",
    "\n",
    "    #tensor_out = se2cnn.layers.spatial_max_pool( input_tensor=tensor_out, nbOrientations=Ntheta)\n",
    "    \n",
    "    ## Apply ReLU\n",
    "    tensor_out = tf.nn.relu(tensor_out)\n",
    "    \n",
    "    ## Prepare for the next layer\n",
    "    tensor_in = tensor_out\n",
    "    Nc_in = Nc_out\n",
    "    \n",
    "    ## Save kernels for inspection\n",
    "    kernels[_scope.name] = kernels_formatted"
   ]
  },
  {
   "cell_type": "code",
   "execution_count": 21,
   "metadata": {},
   "outputs": [
    {
     "name": "stdout",
     "output_type": "stream",
     "text": [
      "(?, 6, 1, 4, 16)\n"
     ]
    }
   ],
   "source": [
    "print(tensor_in.get_shape())"
   ]
  },
  {
   "cell_type": "markdown",
   "metadata": {},
   "source": [
    "### Layer 4"
   ]
  },
  {
   "cell_type": "code",
   "execution_count": 22,
   "metadata": {},
   "outputs": [
    {
     "name": "stdout",
     "output_type": "stream",
     "text": [
      "SE2N-SE2N BASE KERNEL SHAPE: (1, 1, 4, 16, 16)\n",
      "SE2N-SE2N ROTATED KERNEL SET SHAPE: (4, 1, 1, 4, 16, 16)\n",
      "OUTPUT SE2N ACTIVATIONS SHAPE: (?, 6, 1, 4, 16)\n",
      "(?, 6, 1, 4, 16)\n",
      "(?, 4, 16)\n"
     ]
    }
   ],
   "source": [
    "# create mapping matrix\n",
    "identity = np.identity(4)\n",
    "# swap 2n and 3rd rows\n",
    "identity[[1, 2]] = identity[[2, 1]]\n",
    "rearr = np.kron(identity, identity)\n",
    "\n",
    "\n",
    "with tf.variable_scope(\"Layer_{}\".format(4)) as _scope:\n",
    "    ## Settings\n",
    "    Nc_out = 16\n",
    "\n",
    "    ## Perform group convolution\n",
    "    # The kernels used in the group convolution layer\n",
    "    kernels_raw = tf.get_variable(\n",
    "                        'kernel', \n",
    "                        [1,1,Ntheta,Nc_in,Nc_out],\n",
    "                        initializer=weight_initializer(1*1*Ntheta*Nc_in,Nc_out))\n",
    "    tf.add_to_collection('raw_kernels', kernels_raw)\n",
    "    bias = tf.get_variable( # Same bias for all orientations\n",
    "                        \"bias\",\n",
    "                        [1, 1, 1, 1, Nc_out], \n",
    "                        initializer=tf.constant_initializer(value=0.01))\n",
    "\n",
    "    \n",
    "    ## Convolution layer\n",
    "    tensor_out, kernels_formatted = se2cnn.layers.se2n_se2n(\n",
    "                            input_tensor = tensor_in,\n",
    "                            kernel = kernels_raw)\n",
    "    tensor_out = tensor_out + bias\n",
    "\n",
    "    print(tensor_out.get_shape())\n",
    "    \n",
    "    ## The output logits\n",
    "    logits = tensor_out[:,0,0,:,:] # reduces shape to tensor \n",
    "\n",
    "    print(logits.get_shape())\n",
    "    \n",
    "    logits = logits[:,0,:] + logits[:,1,:] @ rearr + logits[:,2,:] + logits[:,3,:] @ rearr\n",
    "\n",
    "    predictions = tf.argmax(input=logits, axis=1)\n",
    "    probabilities = tf.nn.softmax(logits)\n",
    "    \n",
    "    ## Save the kernels for later inspection\n",
    "    kernels[_scope.name] = kernels_formatted"
   ]
  },
  {
   "cell_type": "markdown",
   "metadata": {},
   "source": [
    "## Loss Function and Optimizers"
   ]
  },
  {
   "cell_type": "code",
   "execution_count": 23,
   "metadata": {},
   "outputs": [],
   "source": [
    "# Cross-entropy loss\n",
    "loss = tf.losses.sparse_softmax_cross_entropy(labels=labels_ph, logits=logits)"
   ]
  },
  {
   "cell_type": "code",
   "execution_count": 24,
   "metadata": {},
   "outputs": [
    {
     "name": "stdout",
     "output_type": "stream",
     "text": [
      "-----\n",
      "RAW kernel shapes:\n",
      "[Layer_1/kernel:0]: (3, 3, 1, 4), total nr of weights = 36\n",
      "[Layer_2/kernel:0]: (3, 3, 4, 4, 8), total nr of weights = 1152\n",
      "[Layer_3/kernel:0]: (3, 3, 4, 8, 16), total nr of weights = 4608\n",
      "[Layer_4/kernel:0]: (1, 1, 4, 16, 16), total nr of weights = 1024\n",
      "-----\n"
     ]
    }
   ],
   "source": [
    "#-- Define the l2 loss \n",
    "weightDecay=5e-4\n",
    "# Get the raw kernels\n",
    "variables_wd = tf.get_collection('raw_kernels')\n",
    "print('-----')\n",
    "print('RAW kernel shapes:')\n",
    "for v in variables_wd: print( \"[{}]: {}, total nr of weights = {}\".format(v.name, v.get_shape(), size_of(v)))\n",
    "print('-----')\n",
    "loss_l2 = weightDecay*sum([tf.nn.l2_loss(ker) for ker in variables_wd])"
   ]
  },
  {
   "cell_type": "code",
   "execution_count": 25,
   "metadata": {},
   "outputs": [],
   "source": [
    "# Configure the Training Op (for TRAIN mode)\n",
    "optimizer = tf.train.AdamOptimizer(learning_rate=0.001)\n",
    "\n",
    "train_op = optimizer.minimize(\n",
    "    loss=loss + loss_l2,\n",
    "    global_step=tf.train.get_global_step())"
   ]
  },
  {
   "cell_type": "code",
   "execution_count": 26,
   "metadata": {},
   "outputs": [],
   "source": [
    "#-- Start the (GPU) session\n",
    "initializer = tf.global_variables_initializer()\n",
    "session = tf.Session(graph=tf.get_default_graph()) #-- Session created\n",
    "session.run(initializer)"
   ]
  },
  {
   "cell_type": "code",
   "execution_count": 27,
   "metadata": {},
   "outputs": [],
   "source": [
    "batch_size=100\n",
    "n_epochs=200"
   ]
  },
  {
   "cell_type": "code",
   "execution_count": 28,
   "metadata": {},
   "outputs": [
    {
     "name": "stdout",
     "output_type": "stream",
     "text": [
      "Validation loss improved... Saving model...\n",
      "Epoch  1  finished... Average loss =  2.4995 , time =  6.2264\n",
      "Validation loss =  2.4294\n",
      "Validation loss improved... Saving model...\n",
      "Epoch  2  finished... Average loss =  2.4018 , time =  2.7876\n",
      "Validation loss =  2.3912\n",
      "Validation loss improved... Saving model...\n",
      "Epoch  3  finished... Average loss =  2.3669 , time =  3.0798\n",
      "Validation loss =  2.3741\n",
      "Validation loss improved... Saving model...\n",
      "Epoch  4  finished... Average loss =  2.3408 , time =  2.705\n",
      "Validation loss =  2.3473\n",
      "Validation loss improved... Saving model...\n",
      "Epoch  5  finished... Average loss =  2.3206 , time =  2.6651\n",
      "Validation loss =  2.3321\n",
      "Validation loss improved... Saving model...\n",
      "Epoch  6  finished... Average loss =  2.303 , time =  2.7313\n",
      "Validation loss =  2.3231\n",
      "Validation loss improved... Saving model...\n",
      "Epoch  7  finished... Average loss =  2.2886 , time =  2.7583\n",
      "Validation loss =  2.3141\n",
      "Epoch  8  finished... Average loss =  2.2753 , time =  2.7189\n",
      "Validation loss =  2.3142\n",
      "Validation loss improved... Saving model...\n",
      "Epoch  9  finished... Average loss =  2.2639 , time =  2.6894\n",
      "Validation loss =  2.3019\n",
      "Validation loss improved... Saving model...\n",
      "Epoch 10  finished... Average loss =  2.254 , time =  2.6097\n",
      "Validation loss =  2.2985\n",
      "Validation loss improved... Saving model...\n",
      "Epoch 11  finished... Average loss =  2.243 , time =  2.596\n",
      "Validation loss =  2.2959\n",
      "Validation loss improved... Saving model...\n",
      "Epoch 12  finished... Average loss =  2.2346 , time =  2.5502\n",
      "Validation loss =  2.2916\n",
      "Validation loss improved... Saving model...\n",
      "Epoch 13  finished... Average loss =  2.2268 , time =  3.0918\n",
      "Validation loss =  2.291\n",
      "Validation loss improved... Saving model...\n",
      "Epoch 14  finished... Average loss =  2.2209 , time =  2.6827\n",
      "Validation loss =  2.289\n",
      "Validation loss improved... Saving model...\n",
      "Epoch 15  finished... Average loss =  2.2143 , time =  3.155\n",
      "Validation loss =  2.2874\n",
      "Validation loss improved... Saving model...\n",
      "Epoch 16  finished... Average loss =  2.2081 , time =  2.5458\n",
      "Validation loss =  2.2836\n",
      "Epoch 17  finished... Average loss =  2.2034 , time =  2.6181\n",
      "Validation loss =  2.2896\n",
      "Validation loss improved... Saving model...\n",
      "Epoch 18  finished... Average loss =  2.1992 , time =  2.634\n",
      "Validation loss =  2.2781\n",
      "Epoch 19  finished... Average loss =  2.1946 , time =  2.2948\n",
      "Validation loss =  2.2909\n",
      "Validation loss improved... Saving model...\n",
      "Epoch 20  finished... Average loss =  2.192 , time =  2.4545\n",
      "Validation loss =  2.2768\n",
      "Epoch 21  finished... Average loss =  2.1866 , time =  2.805\n",
      "Validation loss =  2.2817\n",
      "Epoch 22  finished... Average loss =  2.1852 , time =  2.6864\n",
      "Validation loss =  2.2815\n",
      "Epoch 23  finished... Average loss =  2.1815 , time =  2.7001\n",
      "Validation loss =  2.2802\n",
      "Epoch 24  finished... Average loss =  2.1794 , time =  2.7185\n",
      "Validation loss =  2.2778\n",
      "Epoch 25  finished... Average loss =  2.1766 , time =  2.7049\n",
      "Validation loss =  2.2777\n",
      "Epoch 26  finished... Average loss =  2.1739 , time =  2.5508\n",
      "Validation loss =  2.278\n",
      "Validation loss improved... Saving model...\n",
      "Epoch 27  finished... Average loss =  2.1716 , time =  2.4382\n",
      "Validation loss =  2.2744\n",
      "Epoch 28  finished... Average loss =  2.17 , time =  2.495\n",
      "Validation loss =  2.2761\n",
      "Epoch 29  finished... Average loss =  2.1678 , time =  2.5795\n",
      "Validation loss =  2.2762\n",
      "Epoch 30  finished... Average loss =  2.1665 , time =  2.6808\n",
      "Validation loss =  2.2759\n",
      "Validation loss improved... Saving model...\n",
      "Epoch 31  finished... Average loss =  2.164 , time =  2.8325\n",
      "Validation loss =  2.2718\n",
      "Epoch 32  finished... Average loss =  2.1601 , time =  2.5304\n",
      "Validation loss =  2.2774\n",
      "Epoch 33  finished... Average loss =  2.1608 , time =  2.4997\n",
      "Validation loss =  2.2821\n",
      "Epoch 34  finished... Average loss =  2.1592 , time =  2.5841\n",
      "Validation loss =  2.2723\n",
      "Epoch 35  finished... Average loss =  2.1562 , time =  2.5663\n",
      "Validation loss =  2.2747\n",
      "Validation loss improved... Saving model...\n",
      "Epoch 36  finished... Average loss =  2.1558 , time =  2.6331\n",
      "Validation loss =  2.2708\n",
      "Epoch 37  finished... Average loss =  2.1537 , time =  2.6545\n",
      "Validation loss =  2.276\n",
      "Epoch 38  finished... Average loss =  2.1525 , time =  2.6602\n",
      "Validation loss =  2.278\n",
      "Epoch 39  finished... Average loss =  2.1517 , time =  2.7607\n",
      "Validation loss =  2.2827\n",
      "Epoch 40  finished... Average loss =  2.1491 , time =  2.7223\n",
      "Validation loss =  2.2711\n",
      "Validation loss improved... Saving model...\n",
      "Epoch 41  finished... Average loss =  2.1488 , time =  2.7607\n",
      "Validation loss =  2.2668\n",
      "Epoch 42  finished... Average loss =  2.1484 , time =  2.6436\n",
      "Validation loss =  2.2695\n",
      "Epoch 43  finished... Average loss =  2.1454 , time =  2.6473\n",
      "Validation loss =  2.2777\n",
      "Epoch 44  finished... Average loss =  2.1462 , time =  2.7046\n",
      "Validation loss =  2.2728\n",
      "Epoch 45  finished... Average loss =  2.1429 , time =  2.7347\n",
      "Validation loss =  2.2675\n",
      "Epoch 46  finished... Average loss =  2.1428 , time =  2.6956\n",
      "Validation loss =  2.2742\n",
      "Epoch 47  finished... Average loss =  2.1413 , time =  2.6999\n",
      "Validation loss =  2.2804\n",
      "Epoch 48  finished... Average loss =  2.1422 , time =  2.6857\n",
      "Validation loss =  2.2722\n",
      "Epoch 49  finished... Average loss =  2.1401 , time =  2.7837\n",
      "Validation loss =  2.2844\n",
      "Epoch 50  finished... Average loss =  2.1396 , time =  2.7157\n",
      "Validation loss =  2.2701\n",
      "Epoch 51  finished... Average loss =  2.1391 , time =  2.796\n",
      "Validation loss =  2.2884\n",
      "Validation loss has not improved for 10 epochs... Stopping training...\n",
      "INFO:tensorflow:Restoring parameters from models/gcnn_5_1_70000.ckpt\n"
     ]
    }
   ],
   "source": [
    "# first 60k observations are training data\n",
    "nontest_data_2D_train = nontest_data_2D[:50000]\n",
    "nontest_labels_encoded_train = nontest_labels_encoded[:50000]\n",
    "\n",
    "# last 10k observations are validation data\n",
    "nontest_data_2D_val = nontest_data_2D[50000:]\n",
    "nontest_labels_encoded_val = nontest_labels_encoded[50000:]\n",
    "\n",
    "# test data\n",
    "test_data_2D = test_data_2D\n",
    "test_labels_encoded = test_labels_encoded\n",
    "\n",
    "patience = 10\n",
    "\n",
    "train_loss = {}\n",
    "val_loss = {}\n",
    "min_val = np.inf\n",
    "for epoch_nr in range(1, n_epochs+1):\n",
    "    loss_average = 0\n",
    "    data = nontest_data_2D_train\n",
    "    labels = nontest_labels_encoded_train\n",
    "    # KBatch settings\n",
    "    NItPerEpoch = m.floor(len(data)/batch_size) #number of iterations per epoch\n",
    "    samples=np.random.permutation(len(data))\n",
    "    # Loop over dataset\n",
    "    tStart = time.time()\n",
    "    for iteration in range(NItPerEpoch):\n",
    "        feed_dict = {\n",
    "                inputs_ph: np.array(data[samples[iteration*batch_size:(iteration+1)*batch_size]]),\n",
    "                labels_ph: np.array(labels[samples[iteration*batch_size:(iteration+1)*batch_size]])\n",
    "                }\n",
    "        operators_output = session.run([ loss , train_op ], feed_dict)\n",
    "        loss_average += operators_output[0]/NItPerEpoch\n",
    "\n",
    "    # Validation loss\n",
    "    val_loss_average = 0\n",
    "    data = nontest_data_2D_val\n",
    "    labels = nontest_labels_encoded_val\n",
    "    # KBatch settings\n",
    "    NItPerEpoch = m.floor(len(data)/batch_size) #number of iterations per epoch\n",
    "    samples=np.random.permutation(len(data))\n",
    "    # Loop over dataset\n",
    "    for iteration in range(NItPerEpoch):\n",
    "        feed_dict = {\n",
    "                inputs_ph: np.array(data[samples[iteration*batch_size:(iteration+1)*batch_size]]),\n",
    "                labels_ph: np.array(labels[samples[iteration*batch_size:(iteration+1)*batch_size]])\n",
    "                }\n",
    "        operators_output = session.run([ loss ], feed_dict)\n",
    "        val_loss_average += operators_output[0]/NItPerEpoch\n",
    "\n",
    "\n",
    "    tElapsed = time.time() - tStart\n",
    "\n",
    "    train_loss[epoch_nr] = loss_average\n",
    "    val_loss[epoch_nr] = val_loss_average\n",
    "\n",
    "    if val_loss_average < min_val:\n",
    "        min_val = val_loss_average\n",
    "        print('Validation loss improved... Saving model...')\n",
    "        saver = tf.train.Saver()\n",
    "        save_path = saver.save(session, f\"models/gcnn_{code_distance}_{error_rate}_{observations}.ckpt\")\n",
    "        min_val_epoch = epoch_nr\n",
    "\n",
    "    if val_loss_average > min_val:\n",
    "        if epoch_nr - min_val_epoch > patience:\n",
    "            print('Validation loss has not improved for 10 epochs... Stopping training...')\n",
    "            break\n",
    "\n",
    "    \n",
    "\n",
    "    if epoch_nr < 10:\n",
    "        print('Epoch ' , epoch_nr , ' finished... Average loss = ' , round(loss_average,4) , ', time = ',round(tElapsed,4))\n",
    "    else:\n",
    "        print('Epoch' , epoch_nr , ' finished... Average loss = ' , round(loss_average,4) , ', time = ',round(tElapsed,4))\n",
    "\n",
    "    print ('Validation loss = ', round(val_loss_average,4))\n",
    "\n",
    "# load the best model\n",
    "saver = tf.train.Saver()\n",
    "saver.restore(session, f\"models/gcnn_{code_distance}_{error_rate}_{observations}.ckpt\")\n",
    "\n",
    "\n",
    "    "
   ]
  },
  {
   "cell_type": "markdown",
   "metadata": {},
   "source": [
    "## Validation"
   ]
  },
  {
   "cell_type": "code",
   "execution_count": 29,
   "metadata": {},
   "outputs": [
    {
     "name": "stdout",
     "output_type": "stream",
     "text": [
      "Time elapsed for prediction =  0.2271  seconds\n"
     ]
    }
   ],
   "source": [
    "import time\n",
    "batch_size = 1000\n",
    "labels_pred = []\n",
    "# start time\n",
    "tStart = time.time()\n",
    "for i in range(round(len(test_data_2D)/batch_size)):\n",
    "    [ labels_pred_batch ] = session.run([ predictions ], { inputs_ph: test_data_2D[i*batch_size:(i+1)*batch_size] })\n",
    "    labels_pred = labels_pred + list(labels_pred_batch)\n",
    "# end time\n",
    "tElapsed = time.time() - tStart\n",
    "print('Time elapsed for prediction = ',round(tElapsed,4),' seconds')\n",
    "labels_pred = np.array(labels_pred)\n",
    "\n",
    "with open(f'gc/scores/ti_{code_distance}_{error_rate}.txt', 'a') as f:\n",
    "    f.write(f\"{tElapsed}\\n\")"
   ]
  },
  {
   "cell_type": "code",
   "execution_count": 30,
   "metadata": {},
   "outputs": [
    {
     "name": "stdout",
     "output_type": "stream",
     "text": [
      "[0 0 0 8 0 2 0 0 5 8]\n",
      "[3 8 0 2 9 6 1 0 8 8]\n"
     ]
    }
   ],
   "source": [
    "print(labels_pred[0:10])\n",
    "print(test_labels_encoded[0:10])\n",
    "\n",
    "with open(f'gc/scores/pr_{code_distance}_{error_rate}.txt', 'a') as f:\n",
    "    for label in labels_pred:\n",
    "        f.write(f\"{label}\\n\")"
   ]
  },
  {
   "cell_type": "markdown",
   "metadata": {},
   "source": [
    "Accuracy"
   ]
  },
  {
   "cell_type": "code",
   "execution_count": 31,
   "metadata": {},
   "outputs": [
    {
     "name": "stdout",
     "output_type": "stream",
     "text": [
      "Accuracy =  0.249\n"
     ]
    }
   ],
   "source": [
    "ac_score = ((labels_pred - test_labels_encoded)**2==0).astype(float).mean()\n",
    "\n",
    "with open(f\"gc/scores/ac_{code_distance}_{error_rate}.txt\", \"a\") as f:\n",
    "    f.write(f'{ac_score}\\n')\n",
    "\n",
    "print('Accuracy = ', round(ac_score,4))"
   ]
  },
  {
   "cell_type": "markdown",
   "metadata": {},
   "source": [
    "Total Errors"
   ]
  },
  {
   "cell_type": "code",
   "execution_count": 32,
   "metadata": {},
   "outputs": [
    {
     "data": {
      "text/plain": [
       "7510.0"
      ]
     },
     "execution_count": 32,
     "metadata": {},
     "output_type": "execute_result"
    }
   ],
   "source": [
    "((labels_pred - test_labels_encoded)**2>0).astype(float).sum()"
   ]
  },
  {
   "cell_type": "markdown",
   "metadata": {},
   "source": [
    "Error Rate"
   ]
  },
  {
   "cell_type": "code",
   "execution_count": 33,
   "metadata": {},
   "outputs": [
    {
     "data": {
      "text/plain": [
       "75.1"
      ]
     },
     "execution_count": 33,
     "metadata": {},
     "output_type": "execute_result"
    }
   ],
   "source": [
    "100*((labels_pred - test_labels_encoded)**2>0).astype(float).mean()"
   ]
  },
  {
   "cell_type": "code",
   "execution_count": 34,
   "metadata": {},
   "outputs": [
    {
     "name": "stdout",
     "output_type": "stream",
     "text": [
      "Confusion matrix, without normalization\n"
     ]
    },
    {
     "data": {
      "image/png": "[encoded data removed]",
      "text/plain": [
       "<Figure size 800x800 with 2 Axes>"
      ]
     },
     "metadata": {},
     "output_type": "display_data"
    }
   ],
   "source": [
    "def plot_confusion_matrix(cm, classes,\n",
    "                          normalize=False,\n",
    "                          title=f'GCNN with L={code_distance}, p={0.155/error_rate}',\n",
    "                          cmap=plt.cm.Blues):\n",
    "    \"\"\"\n",
    "    This function prints and plots the confusion matrix.\n",
    "    Normalization can be applied by setting `normalize=True`.\n",
    "    \"\"\"\n",
    "    if normalize:\n",
    "        cm = cm.astype('float') / cm.sum(axis=1)[:, np.newaxis]\n",
    "        print(\"Normalized confusion matrix\")\n",
    "    else:\n",
    "        print('Confusion matrix, without normalization')\n",
    "\n",
    "    plt.imshow(cm, interpolation='nearest', cmap=cmap)\n",
    "    plt.title(title)\n",
    "    plt.colorbar()\n",
    "    tick_marks = np.arange(len(classes))\n",
    "    plt.xticks(tick_marks, classes, rotation=45)\n",
    "    plt.yticks(tick_marks, classes)\n",
    "\n",
    "    fmt = '.2f' if normalize else 'd'\n",
    "    thresh = cm.max() / 2.\n",
    "    for i, j in itertools.product(range(cm.shape[0]), range(cm.shape[1])):\n",
    "        plt.text(j, i, format(cm[i, j], fmt),\n",
    "                 horizontalalignment=\"center\",\n",
    "                 color=\"white\" if cm[i, j] > thresh else \"black\")\n",
    "\n",
    "    plt.tight_layout()\n",
    "    plt.ylabel('True label')\n",
    "    plt.xlabel('Predicted label')\n",
    "    # make bigger\n",
    "    plt.gcf().set_size_inches(8, 8)\n",
    "\n",
    "    #plt.savefig(f\"cms/cm_L_{code_distance}_p_{error_rate}.png\")\n",
    "\n",
    "    \n",
    "    plt.show()\n",
    "\n",
    "\n",
    "\n",
    "cm = confusion_matrix(test_labels_encoded, labels_pred)\n",
    "if cm.shape[0] < 16:\n",
    "    cm = np.pad(cm, (0, 16-cm.shape[0]), 'constant')\n",
    "plot_confusion_matrix(cm, range(16))\n"
   ]
  },
  {
   "cell_type": "code",
   "execution_count": 35,
   "metadata": {},
   "outputs": [
    {
     "name": "stdout",
     "output_type": "stream",
     "text": [
      "[0.4158343925912475, 0.2721726888784608, 0.1440846001321877, 0.07228915662650602, 0.1906779661016949, 0.19803600654664485, 0.01644736842105263, 0.025, 0.3231850117096019, 0.13280212483399734, 0.19107142857142856, 0.030211480362537766, 0.08567208271787297, 0.026755852842809364, 0.03134796238244514, 0.011834319526627219]\n"
     ]
    }
   ],
   "source": [
    "# calculate the per class f1 score\n",
    "cm = confusion_matrix(test_labels_encoded, labels_pred)\n",
    "def f1_score(cm):\n",
    "    f1 = []\n",
    "    for i in range(len(cm)):\n",
    "        tp = cm[i][i]\n",
    "        fp = np.sum(cm[:,i]) - tp\n",
    "        fn = np.sum(cm[i,:]) - tp\n",
    "        f1.append(tp/(tp + 0.5*(fp + fn)))\n",
    "    return f1\n",
    "\n",
    "f1_scores = f1_score(cm)\n",
    "\n",
    "print(f1_scores)\n",
    "\n",
    "# save to file\n",
    "with open(f\"gc/scores/f1_{code_distance}_{error_rate}.txt\", \"a\") as f:\n",
    "    f.write(f'{f1_scores}\\n')\n"
   ]
  },
  {
   "cell_type": "code",
   "execution_count": 36,
   "metadata": {},
   "outputs": [
    {
     "data": {
      "image/png": "[encoded data removed]",
      "text/plain": [
       "<Figure size 640x480 with 1 Axes>"
      ]
     },
     "metadata": {},
     "output_type": "display_data"
    }
   ],
   "source": [
    "# plot the f1 score\n",
    "plt.bar(range(cm.shape[0]), f1_score(cm))\n",
    "plt.xlabel('Class')\n",
    "plt.ylabel('F1 Score')\n",
    "plt.title(f'GCNN F1-Scores with L={code_distance}, p={0.155/error_rate}')\n",
    "plt.xticks(range(cm.shape[0]))\n",
    "plt.show()"
   ]
  },
  {
   "cell_type": "code",
   "execution_count": 37,
   "metadata": {},
   "outputs": [
    {
     "name": "stdout",
     "output_type": "stream",
     "text": [
      "{1: 2.4294432640075696, 2: 2.3912200188636783, 3: 2.374112477302552, 4: 2.347326164245604, 5: 2.3321466779708864, 6: 2.3231014013290405, 7: 2.3140982818603515, 8: 2.3141750121116647, 9: 2.301852903366088, 10: 2.2985112023353578, 11: 2.295883855819703, 12: 2.2916105556488024, 13: 2.2909848833084103, 14: 2.289035220146179, 15: 2.28735829114914, 16: 2.283602511882782, 17: 2.2895557498931893, 18: 2.2781468081474303, 19: 2.2908775091171263, 20: 2.2768291115760797, 21: 2.2816987037658705, 22: 2.2814636468887324, 23: 2.280247313976288, 24: 2.277822682857513, 25: 2.277672324180603, 26: 2.2779768133163443, 27: 2.274434530735015, 28: 2.276058390140533, 29: 2.2762012481689453, 30: 2.2758861398696903, 31: 2.271841022968292, 32: 2.2773705673217775, 33: 2.2821209549903876, 34: 2.272334399223328, 35: 2.2747280979156486, 36: 2.2707686233520508, 37: 2.2759581327438347, 38: 2.2779562592506397, 39: 2.2826671648025507, 40: 2.271125285625457, 41: 2.2668453335762018, 42: 2.2695202648639663, 43: 2.277678573131562, 44: 2.272817270755768, 45: 2.2675040602684016, 46: 2.274192395210265, 47: 2.280426602363586, 48: 2.272220335006713, 49: 2.2844134640693667, 50: 2.270086542367936, 51: 2.2884388685226438, 52: 2.27058157801628}\n"
     ]
    }
   ],
   "source": [
    "print(val_loss)"
   ]
  },
  {
   "cell_type": "code",
   "execution_count": 38,
   "metadata": {},
   "outputs": [
    {
     "data": {
      "image/png": "[encoded data removed]",
      "text/plain": [
       "<Figure size 640x480 with 1 Axes>"
      ]
     },
     "metadata": {},
     "output_type": "display_data"
    }
   ],
   "source": [
    "# plot losses\n",
    "plt.plot(train_loss.keys(), train_loss.values())\n",
    "plt.plot(val_loss.keys(), val_loss.values())\n",
    "plt.legend(['Train', 'Validation'])\n",
    "\n",
    "plt.xlabel('Epoch')\n",
    "plt.ylabel('Average Loss')\n",
    "plt.title(f'GCNN Losses with L={code_distance}, p={0.155/error_rate}')\n",
    "\n",
    "plt.xticks(np.arange(0, len(train_loss)+1, 20))\n",
    "\n",
    "\n",
    "plt.show()"
   ]
  },
  {
   "cell_type": "code",
   "execution_count": 39,
   "metadata": {},
   "outputs": [
    {
     "data": {
      "text/plain": [
       "0.13546390264031968"
      ]
     },
     "execution_count": 39,
     "metadata": {},
     "output_type": "execute_result"
    }
   ],
   "source": [
    "\n",
    "from sklearn.metrics import f1_score\n",
    "f1_score(test_labels_encoded, labels_pred, average='macro')\n"
   ]
  },
  {
   "cell_type": "code",
   "execution_count": 40,
   "metadata": {},
   "outputs": [
    {
     "name": "stdout",
     "output_type": "stream",
     "text": [
      "1909\n"
     ]
    }
   ],
   "source": [
    "\n",
    "print(np.count_nonzero(test_labels_encoded == 0))"
   ]
  }
 ],
 "metadata": {
  "kernelspec": {
   "display_name": "tf_gpu",
   "language": "python",
   "name": "python3"
  },
  "language_info": {
   "codemirror_mode": {
    "name": "ipython",
    "version": 3
   },
   "file_extension": ".py",
   "mimetype": "text/x-python",
   "name": "python",
   "nbconvert_exporter": "python",
   "pygments_lexer": "ipython3",
   "version": "3.9.18"
  }
 },
 "nbformat": 4,
 "nbformat_minor": 2
}
