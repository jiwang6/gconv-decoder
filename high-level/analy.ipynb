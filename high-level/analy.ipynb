{
 "cells": [
  {
   "cell_type": "code",
   "execution_count": 82,
   "metadata": {},
   "outputs": [],
   "source": [
    "import numpy as np\n",
    "\n",
    "code_dist = 5\n",
    "error_div = 1\n",
    "\n",
    "truth = []\n",
    "with open(f'al/scores/ar_{code_dist}_{error_div}.txt', 'r') as f:\n",
    "\tlines = f.readlines()\n",
    "\tfor line in lines:\n",
    "\t\ttruth.append(line.strip())\n",
    "truth = np.array([int(x) for x in truth])\n",
    "\n",
    "AL_preds = []\n",
    "with open(f'al/scores/pr_{code_dist}_{error_div}.txt', 'r') as f:\n",
    "\tlines = f.readlines()\n",
    "\tfor line in lines:\n",
    "\t\tAL_preds.append(line.strip())\n",
    "AL_preds = np.array([int(x) for x in AL_preds])\n",
    "\n",
    "NN_preds = []\n",
    "with open(f'nn/scores/pr_{code_dist}_{error_div}.txt', 'r') as f:\n",
    "\tlines = f.readlines()\n",
    "\tfor line in lines:\n",
    "\t\tNN_preds.append(line.strip())\n",
    "NN_preds = np.array([int(x) for x in NN_preds])\n",
    "\n",
    "GC_preds = []\n",
    "with open(f'gc/scores/pr_{code_dist}_{error_div}.txt', 'r') as f:\n",
    "\tlines = f.readlines()\n",
    "\tfor line in lines:\n",
    "\t\tGC_preds.append(line.strip())\n",
    "GC_preds = np.array([int(x) for x in GC_preds])\n"
   ]
  },
  {
   "cell_type": "code",
   "execution_count": 83,
   "metadata": {},
   "outputs": [
    {
     "name": "stdout",
     "output_type": "stream",
     "text": [
      "(10000,)\n",
      "(10000,)\n",
      "(10000,)\n"
     ]
    }
   ],
   "source": [
    "for thing in [AL_preds, NN_preds, GC_preds]:\n",
    "    print(thing.shape)"
   ]
  },
  {
   "cell_type": "markdown",
   "metadata": {},
   "source": [
    "## McNemar's"
   ]
  },
  {
   "cell_type": "code",
   "execution_count": 84,
   "metadata": {},
   "outputs": [
    {
     "name": "stdout",
     "output_type": "stream",
     "text": [
      "[5.837391644679784e-30, 3.2953365780915903e-22, 6.533530498570246e-17, 0.005806457757237117, 2.466108903006419e-16, 0.0031578053755281672, 0.0007391449726795083, 5.163066699869979e-19, 3.1728868618476305e-23, 2.661773198705298e-21, 3.6136524515591436e-15, 3.6560529290999794e-23, 4.1488294011343945e-26, 1.6881420396965357e-16, 2.6220182611087364e-17, 3.4441291566632383e-06]\n"
     ]
    },
    {
     "data": {
      "image/png": "[encoded data removed]",
      "text/plain": [
       "<Figure size 1000x500 with 1 Axes>"
      ]
     },
     "metadata": {},
     "output_type": "display_data"
    }
   ],
   "source": [
    "pvals = []\n",
    "\n",
    "for logical in range(16):\n",
    "    truth_binary = np.array([1 if x == logical else 0 for x in truth])\n",
    "    al_binary = np.array([1 if x == logical else 0 for x in AL_preds])\n",
    "    nn_binary = np.array([1 if x == logical else 0 for x in NN_preds])\n",
    "    gc_binary = np.array([1 if x == logical else 0 for x in GC_preds])\n",
    "\n",
    "    al_success = al_binary == truth_binary\n",
    "    nn_success = nn_binary == truth_binary\n",
    "    gc_success = gc_binary == truth_binary\n",
    "\n",
    "    n00 = np.sum(np.logical_and(np.logical_not(nn_success), np.logical_not(gc_success)))\n",
    "    n01 = np.sum(np.logical_and(np.logical_not(nn_success), gc_success))\n",
    "    n10 = np.sum(np.logical_and(nn_success, np.logical_not(gc_success)))\n",
    "    n11 = np.sum(np.logical_and(nn_success, gc_success))\n",
    "\n",
    "    table = np.array([[n00, n01], [n10, n11]])\n",
    "\n",
    "    # perform mcnemar's test\n",
    "\n",
    "\n",
    "    # Import library \n",
    "    from statsmodels.stats.contingency_tables import mcnemar \n",
    "\n",
    "\n",
    "    # McNemar's Test without any continuity correction \n",
    "    result = mcnemar(table, exact=False, correction=False)\n",
    "\n",
    "    pvals.append(result.pvalue)\n",
    "\n",
    "print(pvals)\n",
    "\n",
    "# plot pvales\n",
    "import matplotlib.pyplot as plt\n",
    "\n",
    "plt.figure(figsize=(10, 5))\n",
    "plt.bar(range(16), np.log(pvals))\n",
    "plt.xlabel('Logical')\n",
    "plt.ylabel('log(p-value)')\n",
    "plt.title('McNemar\\'s Test Between GCNN and NN Decoders')\n",
    "plt.show()\n",
    "\n"
   ]
  },
  {
   "cell_type": "markdown",
   "metadata": {},
   "source": [
    "## Chi2"
   ]
  },
  {
   "cell_type": "code",
   "execution_count": 85,
   "metadata": {},
   "outputs": [],
   "source": [
    "from sklearn.metrics import confusion_matrix\n",
    "from scipy.stats import chi2_contingency\n",
    "\n",
    "# contingency table\n",
    "al_cm = confusion_matrix(truth, AL_preds)\n",
    "al_pred_count = al_cm.sum(axis=0)\n",
    "\n",
    "gc_cm = confusion_matrix(truth, GC_preds)\n",
    "gc_pred_count = gc_cm.sum(axis=0)\n",
    "\n",
    "nn_cm = confusion_matrix(truth, NN_preds)\n",
    "nn_pred_count = nn_cm.sum(axis=0)\n",
    "\n"
   ]
  },
  {
   "cell_type": "code",
   "execution_count": 86,
   "metadata": {},
   "outputs": [],
   "source": [
    "contingency_table = np.hstack((al_cm.T, gc_cm.T, nn_cm.T))\n",
    "\n",
    "#display(contingency_table)\n"
   ]
  },
  {
   "cell_type": "code",
   "execution_count": 87,
   "metadata": {},
   "outputs": [
    {
     "name": "stdout",
     "output_type": "stream",
     "text": [
      "stat=63819.112, p=0.000\n"
     ]
    }
   ],
   "source": [
    "# calculate Cochran's Q test\n",
    "stat, p, dof, expected = chi2_contingency(contingency_table)\n",
    "print('stat=%.3f, p=%.3f' % (stat, p))"
   ]
  },
  {
   "cell_type": "markdown",
   "metadata": {},
   "source": [
    "## Cochran Q"
   ]
  },
  {
   "cell_type": "code",
   "execution_count": null,
   "metadata": {},
   "outputs": [],
   "source": []
  },
  {
   "cell_type": "markdown",
   "metadata": {},
   "source": [
    "## F1 Analysis"
   ]
  },
  {
   "cell_type": "code",
   "execution_count": 88,
   "metadata": {},
   "outputs": [
    {
     "name": "stdout",
     "output_type": "stream",
     "text": [
      "0.1827209705221806 0.2532391134634186 0.5243436075003909\n"
     ]
    }
   ],
   "source": [
    "import numpy as np\n",
    "\n",
    "code_dist = 5\n",
    "error_div = 1\n",
    "\n",
    "gc_strings = []\n",
    "with open(f'gc/scores/f1_{code_dist}_{error_div}.txt', 'r') as f:\n",
    "    lines = f.readlines()\n",
    "    for line in lines:\n",
    "        gc_strings.append(line.strip())\n",
    "\n",
    "gc_scores = []\n",
    "for array in gc_strings:\n",
    "    # strip brackets and split by comma\n",
    "    array = array[1:-1].split(', ')\n",
    "    # convert to float\n",
    "    array = [float(x) for x in array]\n",
    "    gc_scores.append(array)\n",
    "\n",
    "gc_scores = np.array(gc_scores)\n",
    "\n",
    "# avarage over axis 0\n",
    "gc_avg = np.mean(gc_scores, axis=0)\n",
    "gc_big_avg = np.mean(gc_avg)\n",
    "\n",
    "\n",
    "nn_strings = []\n",
    "with open(f'nn/scores/f1_{code_dist}_{error_div}.txt', 'r') as f:\n",
    "    lines = f.readlines()\n",
    "    for line in lines:\n",
    "        nn_strings.append(line.strip())\n",
    "\n",
    "nn_scores = []\n",
    "for array in nn_strings:\n",
    "    # strip brackets and split by comma\n",
    "    array = array[1:-1].split(', ')\n",
    "    # convert to float\n",
    "    array = [float(x) for x in array]\n",
    "    nn_scores.append(array)\n",
    "\n",
    "nn_scores = np.array(nn_scores)\n",
    "\n",
    "# avarage over axis 0\n",
    "nn_avg = np.mean(nn_scores, axis=0)\n",
    "nn_big_avg = np.mean(nn_avg)\n",
    "\n",
    "al_strings = []\n",
    "with open(f'al/scores/f1_{code_dist}_{error_div}.txt', 'r') as f:\n",
    "    lines = f.readlines()\n",
    "    for line in lines:\n",
    "        al_strings.append(line.strip())\n",
    "\n",
    "al_scores = []\n",
    "\n",
    "for array in al_strings:\n",
    "    # strip brackets and split by comma\n",
    "    array = array[1:-1].split(', ')\n",
    "    # convert to float\n",
    "    array = [float(x) for x in array]\n",
    "    al_scores.append(array)\n",
    "\n",
    "al_scores = np.array(al_scores)\n",
    "\n",
    "# avarage over axis 0\n",
    "al_avg = np.mean(al_scores, axis=0)\n",
    "\n",
    "al_big_avg = np.mean(al_avg)\n",
    "\n",
    "print(gc_big_avg, nn_big_avg, al_big_avg)"
   ]
  }
 ],
 "metadata": {
  "kernelspec": {
   "display_name": "tf_gpu",
   "language": "python",
   "name": "python3"
  },
  "language_info": {
   "codemirror_mode": {
    "name": "ipython",
    "version": 3
   },
   "file_extension": ".py",
   "mimetype": "text/x-python",
   "name": "python",
   "nbconvert_exporter": "python",
   "pygments_lexer": "ipython3",
   "version": "3.9.18"
  }
 },
 "nbformat": 4,
 "nbformat_minor": 2
}
