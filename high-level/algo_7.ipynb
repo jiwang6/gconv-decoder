{
 "cells": [
  {
   "cell_type": "code",
   "execution_count": 37,
   "metadata": {},
   "outputs": [],
   "source": [
    "import numpy as np\n",
    "import matplotlib.pyplot as plt\n",
    "from scipy.sparse import hstack, kron, eye, csc_matrix, block_diag\n",
    "import time\n",
    "from sklearn.metrics import confusion_matrix\n",
    "import itertools\n",
    "import pandas as pd\n",
    "from Datavis import *\n",
    "\n",
    "\n",
    "from pymatching import Matching\n",
    "\n",
    "def repetition_code(n):\n",
    "    \"\"\"\n",
    "    Parity check matrix of a repetition code with length n.\n",
    "    \"\"\"\n",
    "    row_ind, col_ind = zip(*((i, j) for i in range(n) for j in (i, (i+1)%n)))\n",
    "    data = np.ones(2*n, dtype=np.uint8)\n",
    "    return csc_matrix((data, (row_ind, col_ind)))\n",
    "\n",
    "\n",
    "def toric_code_x_stabilisers(L):\n",
    "    \"\"\"\n",
    "    Sparse check matrix for the X stabilisers of a toric code with \n",
    "    lattice size L, constructed as the hypergraph product of \n",
    "    two repetition codes.\n",
    "    \"\"\"\n",
    "    Hr = repetition_code(L)\n",
    "    H = hstack(\n",
    "            [kron(Hr, eye(Hr.shape[1])), kron(eye(Hr.shape[0]), Hr.T)],\n",
    "            dtype=np.uint8\n",
    "        )\n",
    "    H.data = H.data % 2\n",
    "    H.eliminate_zeros()\n",
    "    return csc_matrix(H)\n",
    "\n",
    "def toric_code_z_stabilisers(L):\n",
    "    \"\"\"\n",
    "    Sparse check matrix for the Z stabilisers of a toric code with \n",
    "    lattice size L, constructed as the hypergraph product of \n",
    "    two repetition codes.\n",
    "    \"\"\"\n",
    "    Hr = repetition_code(L)\n",
    "    H = hstack(\n",
    "            [kron(eye(Hr.shape[0]), Hr), kron(Hr.T, eye(Hr.shape[1]))],\n",
    "            dtype=np.uint8\n",
    "        )\n",
    "    H.data = H.data % 2\n",
    "    H.eliminate_zeros()\n",
    "    return csc_matrix(H)\n",
    "\n",
    "def toric_code_x_logicals(L):\n",
    "    \"\"\"\n",
    "    Sparse binary matrix with each row corresponding to an X logical operator \n",
    "    of a toric code with lattice size L. Constructed from the \n",
    "    homology groups of the repetition codes using the Kunneth \n",
    "    theorem.\n",
    "    \"\"\"\n",
    "    H1 = csc_matrix(([1], ([0],[0])), shape=(1,L), dtype=np.uint8)\n",
    "    H0 = csc_matrix(np.ones((1, L), dtype=np.uint8))\n",
    "    x_logicals = block_diag([kron(H1, H0), kron(H0, H1)])\n",
    "    x_logicals.data = x_logicals.data % 2\n",
    "    x_logicals.eliminate_zeros()\n",
    "    return csc_matrix(x_logicals)\n",
    "\n",
    "def toric_code_z_logicals(L):\n",
    "    \"\"\"\n",
    "    Sparse binary matrix with each row corresponding to a Z logical operator \n",
    "    of a toric code with lattice size L. Constructed from the \n",
    "    homology groups of the repetition codes using the Kunneth \n",
    "    theorem.\n",
    "    \"\"\"\n",
    "    H1 = csc_matrix(([1], ([0],[0])), shape=(1,L), dtype=np.uint8)\n",
    "    H0 = csc_matrix(np.ones((1, L), dtype=np.uint8))\n",
    "    z_logicals = block_diag([kron(H0, H1), kron(H1, H0)])\n",
    "    z_logicals.data = z_logicals.data % 2\n",
    "    z_logicals.eliminate_zeros()\n",
    "    return csc_matrix(z_logicals)\n",
    "\n",
    "\n",
    "def inv_arrange_x_syndrome(syndrome):\n",
    "    L = int(np.sqrt(len(syndrome)))\n",
    "    syndrome = syndrome.reshape((L, L))\n",
    "    # bring last row to the top\n",
    "    syndrome = np.roll(syndrome, -1, axis=0)\n",
    "    syndrome = syndrome.flatten()\n",
    "    return syndrome"
   ]
  },
  {
   "cell_type": "markdown",
   "metadata": {},
   "source": [
    "## Load Data"
   ]
  },
  {
   "cell_type": "code",
   "execution_count": 38,
   "metadata": {},
   "outputs": [
    {
     "name": "stdout",
     "output_type": "stream",
     "text": [
      "(60000, 98)\n",
      "(10000, 98)\n"
     ]
    }
   ],
   "source": [
    "code_distance = 7\n",
    "error_rate = 1000\n",
    "\n",
    "observations = 70000\n",
    "\n",
    "dataset = np.load(f'test-datasets/HL_data_{code_distance}_{error_rate}_{observations}.npy')\n",
    "\n",
    "nontest, test = np.split(dataset, [60000])\n",
    "\n",
    "nontest_data = nontest[:, :code_distance**2 *2]\n",
    "# last 4 columns are the labels\n",
    "nontest_labels= nontest[:, -4:]\n",
    "\n",
    "test_data = test[:, :code_distance**2 *2]\n",
    "test_labels= test[:, -4:]\n",
    "\n",
    "\n",
    "nontest_data = np.array(nontest_data)\n",
    "test_data = np.array(test_data)\n",
    "\n",
    "print(nontest_data.shape)\n",
    "print(test_data.shape)\n",
    "\n",
    "\n"
   ]
  },
  {
   "cell_type": "markdown",
   "metadata": {},
   "source": [
    "## Preprocess Data"
   ]
  },
  {
   "cell_type": "code",
   "execution_count": 39,
   "metadata": {},
   "outputs": [],
   "source": [
    "# init new \n",
    "batch_synx = []\n",
    "batch_synz = []\n",
    "\n",
    "batch_logx = []\n",
    "batch_logz = []\n",
    "\n",
    "for observation in test_data:\n",
    "    syn0 = observation\n",
    "\n",
    "    synx = inv_arrange_x_syndrome(syn0[:code_distance**2])\n",
    "    synz = syn0[code_distance**2:]\n",
    "\n",
    "    batch_synx.append(synx)\n",
    "    batch_synz.append(synz)\n",
    "\n",
    "for label in test_labels:\n",
    "    logx = label[:2]\n",
    "    logz = label[2:]\n",
    "\n",
    "    batch_logx.append(logx)\n",
    "    batch_logz.append(logz)\n",
    "\n",
    "\n",
    "batch_synx = np.array(batch_synx)\n",
    "batch_synz = np.array(batch_synz)\n",
    "batch_logx = np.array(batch_logx)\n",
    "batch_logz = np.array(batch_logz)"
   ]
  },
  {
   "cell_type": "markdown",
   "metadata": {},
   "source": [
    "## Init Matching Vars"
   ]
  },
  {
   "cell_type": "code",
   "execution_count": 40,
   "metadata": {},
   "outputs": [],
   "source": [
    "err = 155/1000\n",
    "\n",
    "Hx = toric_code_x_stabilisers(code_distance)\n",
    "Hz = toric_code_z_stabilisers(code_distance)\n",
    "Lx = toric_code_x_logicals(code_distance)\n",
    "Lz = toric_code_z_logicals(code_distance)\n",
    "\n",
    "\n",
    "matchingx = Matching.from_check_matrix(Hx, weights=np.log((1-err)/err), faults_matrix=Lx)\n",
    "matchingz = Matching.from_check_matrix(Hz, weights=np.log((1-err)/err), faults_matrix=Lz)\n"
   ]
  },
  {
   "cell_type": "markdown",
   "metadata": {},
   "source": [
    "## Actual Matching Algo big important"
   ]
  },
  {
   "cell_type": "code",
   "execution_count": 41,
   "metadata": {},
   "outputs": [
    {
     "name": "stdout",
     "output_type": "stream",
     "text": [
      "[0 0 0 ... 0 0 0]\n"
     ]
    }
   ],
   "source": [
    "start_time = time.time()\n",
    "\n",
    "predicted_observablesx = matchingx.decode_batch(batch_synx)\n",
    "predicted_observablesz = matchingz.decode_batch(batch_synz)\n",
    "\n",
    "predicted_observablesx = np.array(predicted_observablesx)\n",
    "predicted_observablesz = np.array(predicted_observablesz)\n",
    "\n",
    "predicted_observables = np.concatenate((predicted_observablesx, predicted_observablesz), axis=1)\n",
    "\n",
    "predicted_observables = np.array([int(''.join(map(str,single_label)),2) for single_label in predicted_observables])\n",
    "\n",
    "print(predicted_observables)\n",
    "\n",
    "with open(f\"al/scores/pr_{code_distance}_{error_rate}.txt\", \"w\") as f:\n",
    "    for i in range(len(predicted_observables)):\n",
    "        f.write(f\"{predicted_observables[i]}\\n\")\n",
    "total_time = time.time() - start_time\n",
    "\n",
    "with open(f'al/scores/ti_{code_distance}_{error_rate}.txt', 'a') as f:\n",
    "    f.write(f'{total_time}\\n')\n"
   ]
  },
  {
   "cell_type": "markdown",
   "metadata": {},
   "source": [
    "## Analy\n"
   ]
  },
  {
   "cell_type": "code",
   "execution_count": 42,
   "metadata": {},
   "outputs": [
    {
     "name": "stdout",
     "output_type": "stream",
     "text": [
      "Errors: 0\n"
     ]
    }
   ],
   "source": [
    "\n",
    "errors = np.sum(np.any(predicted_observablesx != batch_logx, axis=1)) + np.sum(np.any(predicted_observablesz != batch_logz, axis=1))\n",
    "print(f'Errors: {errors}')"
   ]
  },
  {
   "cell_type": "code",
   "execution_count": 43,
   "metadata": {},
   "outputs": [
    {
     "name": "stdout",
     "output_type": "stream",
     "text": [
      "Accuracy = 1.0\n"
     ]
    }
   ],
   "source": [
    "accuracy = 1-(errors / len(test_data))\n",
    "print(f\"Accuracy = {accuracy}\")\n",
    "\n",
    "with open(f'al/scores/ac_{code_distance}_{error_rate}.txt', 'a') as f:\n",
    "    f.write(f\"{accuracy}\\n\")"
   ]
  },
  {
   "cell_type": "code",
   "execution_count": 44,
   "metadata": {},
   "outputs": [
    {
     "name": "stdout",
     "output_type": "stream",
     "text": [
      "[[0 0 0 0]\n",
      " [0 0 0 0]\n",
      " [0 0 0 0]\n",
      " [0 0 0 0]\n",
      " [0 0 0 0]\n",
      " [0 0 0 0]\n",
      " [0 0 0 0]\n",
      " [0 0 0 0]\n",
      " [0 0 0 0]\n",
      " [0 0 0 0]]\n",
      "[0 0 0 0 0 0 0 0 0 0]\n"
     ]
    }
   ],
   "source": [
    "test_labels_encoded = np.array([int(''.join(map(str,single_label)),2) for single_label in test_labels])\n",
    "\n",
    "print(test_labels[:10])\n",
    "print(test_labels_encoded[:10])"
   ]
  },
  {
   "cell_type": "code",
   "execution_count": 45,
   "metadata": {},
   "outputs": [],
   "source": [
    "all_pred_labels = np.hstack((predicted_observablesx, predicted_observablesz))\n",
    "labels_pred_dec = np.array([int(''.join(map(str,single_label)),2) for single_label in all_pred_labels])"
   ]
  },
  {
   "cell_type": "code",
   "execution_count": 46,
   "metadata": {},
   "outputs": [
    {
     "name": "stdout",
     "output_type": "stream",
     "text": [
      "Confusion matrix, without normalization\n"
     ]
    },
    {
     "data": {
      "image/png": "[encoded data removed]",
      "text/plain": [
       "<Figure size 800x800 with 2 Axes>"
      ]
     },
     "metadata": {},
     "output_type": "display_data"
    }
   ],
   "source": [
    "def plot_confusion_matrix(cm, classes,\n",
    "                          normalize=False,\n",
    "                          title=f'MWPM with L={code_distance}, p={0.155/error_rate}',\n",
    "                          cmap=plt.cm.Blues):\n",
    "    \"\"\"\n",
    "    This function prints and plots the confusion matrix.\n",
    "    Normalization can be applied by setting `normalize=True`.\n",
    "    \"\"\"\n",
    "    if normalize:\n",
    "        cm = cm.astype('float') / cm.sum(axis=1)[:, np.newaxis]\n",
    "        print(\"Normalized confusion matrix\")\n",
    "    else:\n",
    "        print('Confusion matrix, without normalization')\n",
    "\n",
    "    plt.imshow(cm, interpolation='nearest', cmap=cmap)\n",
    "    plt.title(title)\n",
    "    plt.colorbar()\n",
    "    tick_marks = np.arange(len(classes))\n",
    "    plt.xticks(tick_marks, classes, rotation=45)\n",
    "    plt.yticks(tick_marks, classes)\n",
    "\n",
    "    fmt = '.2f' if normalize else 'd'\n",
    "    thresh = cm.max() / 2.\n",
    "    for i, j in itertools.product(range(cm.shape[0]), range(cm.shape[1])):\n",
    "        plt.text(j, i, format(cm[i, j], fmt),\n",
    "                 horizontalalignment=\"center\",\n",
    "                 color=\"white\" if cm[i, j] > thresh else \"black\")\n",
    "\n",
    "    plt.tight_layout()\n",
    "    plt.ylabel('True label')\n",
    "    plt.xlabel('Predicted label')\n",
    "    # make bigger\n",
    "    plt.gcf().set_size_inches(8, 8)\n",
    "\n",
    "    #plt.savefig(f\"cms/cm_L_{code_distance}_p_{error_rate}.png\")\n",
    "\n",
    "    \n",
    "    plt.show()\n",
    "\n",
    "\n",
    "\n",
    "cm = confusion_matrix(test_labels_encoded, labels_pred_dec)\n",
    "if cm.shape[0] < 16:\n",
    "    cm = np.pad(cm, (0, 16-cm.shape[0]), 'constant')\n",
    "plot_confusion_matrix(cm, range(16))\n"
   ]
  },
  {
   "cell_type": "code",
   "execution_count": 47,
   "metadata": {},
   "outputs": [
    {
     "name": "stdout",
     "output_type": "stream",
     "text": [
      "[1.0, 1.0, 1.0, 1.0, 1.0]\n"
     ]
    }
   ],
   "source": [
    "# calculate the per class f1 score\n",
    "cm = confusion_matrix(test_labels_encoded, labels_pred_dec)\n",
    "def f1_score(cm):\n",
    "    f1 = []\n",
    "    for i in range(len(cm)):\n",
    "        tp = cm[i][i]\n",
    "        fp = np.sum(cm[:,i]) - tp\n",
    "        fn = np.sum(cm[i,:]) - tp\n",
    "        f1.append(tp/(tp + 0.5*(fp + fn)))\n",
    "    return f1\n",
    "\n",
    "f1_scores = f1_score(cm)\n",
    "\n",
    "print(f1_scores)\n",
    "\n",
    "# save to file\n",
    "with open(f\"al/scores/f1_{code_distance}_{error_rate}.txt\", \"a\") as f:\n",
    "    f.write(f'{f1_scores}\\n')\n"
   ]
  },
  {
   "cell_type": "code",
   "execution_count": 48,
   "metadata": {},
   "outputs": [
    {
     "data": {
      "image/png": "[encoded data removed]",
      "text/plain": [
       "<Figure size 640x480 with 1 Axes>"
      ]
     },
     "metadata": {},
     "output_type": "display_data"
    }
   ],
   "source": [
    "# plot the f1 score\n",
    "plt.bar(range(cm.shape[0]), f1_score(cm))\n",
    "plt.xlabel('Class')\n",
    "plt.ylabel('F1 Score')\n",
    "plt.title(f'MWPM F1 Scores with L={code_distance}, p={0.155/error_rate}')\n",
    "plt.xticks(range(cm.shape[0]))\n",
    "plt.show()"
   ]
  }
 ],
 "metadata": {
  "kernelspec": {
   "display_name": "tf_gpu",
   "language": "python",
   "name": "python3"
  },
  "language_info": {
   "codemirror_mode": {
    "name": "ipython",
    "version": 3
   },
   "file_extension": ".py",
   "mimetype": "text/x-python",
   "name": "python",
   "nbconvert_exporter": "python",
   "pygments_lexer": "ipython3",
   "version": "3.9.18"
  }
 },
 "nbformat": 4,
 "nbformat_minor": 2
}
