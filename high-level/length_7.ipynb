{
 "cells": [
  {
   "cell_type": "code",
   "execution_count": 1,
   "metadata": {},
   "outputs": [
    {
     "name": "stdout",
     "output_type": "stream",
     "text": [
      "WARNING:tensorflow:From c:\\Users\\jimzw\\miniconda3\\envs\\tf_gpu\\lib\\site-packages\\tensorflow\\python\\compat\\v2_compat.py:101: disable_resource_variables (from tensorflow.python.ops.variable_scope) is deprecated and will be removed in a future version.\n",
      "Instructions for updating:\n",
      "non-resource variables are not supported in the long term\n"
     ]
    }
   ],
   "source": [
    "# Impor tensorflow and numpy\n",
    "#import tensorflow as tf\n",
    "import tensorflow.compat.v1 as tf\n",
    "tf.disable_v2_behavior()\n",
    "import numpy as np\n",
    "import math as m\n",
    "import time\n",
    "# For validation\n",
    "from sklearn.metrics import confusion_matrix\n",
    "import itertools\n",
    "\n",
    "\n",
    "\n",
    "# For plotting\n",
    "from matplotlib import pyplot as plt\n",
    "\n",
    "# Add the library to the system path\n",
    "import os,sys\n",
    "se2cnn_source =  os.path.join(os.getcwd(),'..')\n",
    "if se2cnn_source not in sys.path:\n",
    "    sys.path.append(se2cnn_source)\n",
    "\n",
    "# Import the library\n",
    "import se2cnn.layers"
   ]
  },
  {
   "cell_type": "code",
   "execution_count": 2,
   "metadata": {},
   "outputs": [
    {
     "name": "stdout",
     "output_type": "stream",
     "text": [
      "[name: \"/device:CPU:0\"\n",
      "device_type: \"CPU\"\n",
      "memory_limit: 268435456\n",
      "locality {\n",
      "}\n",
      "incarnation: 44502021644827353\n",
      ", name: \"/device:GPU:0\"\n",
      "device_type: \"GPU\"\n",
      "memory_limit: 9844031488\n",
      "locality {\n",
      "  bus_id: 1\n",
      "  links {\n",
      "  }\n",
      "}\n",
      "incarnation: 17229812914605599604\n",
      "physical_device_desc: \"device: 0, name: NVIDIA GeForce RTX 4070 Ti, pci bus id: 0000:06:00.0, compute capability: 8.9\"\n",
      "]\n"
     ]
    }
   ],
   "source": [
    "# check tf can see the GPU\n",
    "from tensorflow.python.client import device_lib\n",
    "print(device_lib.list_local_devices())"
   ]
  },
  {
   "cell_type": "code",
   "execution_count": 3,
   "metadata": {},
   "outputs": [],
   "source": [
    "# Xavier's/He-Rang-Zhen-Sun initialization for layers that are followed ReLU\n",
    "def weight_initializer(n_in, n_out):\n",
    "    return tf.random_normal_initializer(mean=0.0, stddev=m.sqrt(2.0 / (n_in))\n",
    "    )\n",
    "\n",
    "def size_of(tensor) :\n",
    "    # Multiply elements one by one\n",
    "    result = 1\n",
    "    for x in tensor.get_shape().as_list():\n",
    "         result = result * x \n",
    "    return result "
   ]
  },
  {
   "cell_type": "markdown",
   "metadata": {},
   "source": [
    "## Load and Format Dataset"
   ]
  },
  {
   "cell_type": "code",
   "execution_count": 4,
   "metadata": {},
   "outputs": [],
   "source": [
    "code_distance = 7\n",
    "error_rate = 155\n",
    "\n",
    "observations = 70000\n",
    "\n",
    "dataset = np.load(f'test-datasets/HL_data_{code_distance}_{error_rate}_{observations}.npy')\n",
    "\n",
    "nontest, test = np.split(dataset, [60000])\n",
    "\n",
    "nontest_data_unzipped = nontest[:, :code_distance**2 *2]\n",
    "# last 4 columns are the labels\n",
    "nontest_labels= nontest[:, -4:]\n",
    "\n",
    "test_data_unzipped = test[:, :code_distance**2 *2]\n",
    "test_labels= test[:, -4:]\n",
    "\n"
   ]
  },
  {
   "cell_type": "code",
   "execution_count": 5,
   "metadata": {},
   "outputs": [
    {
     "name": "stdout",
     "output_type": "stream",
     "text": [
      "[0 0 1 1]\n"
     ]
    }
   ],
   "source": [
    "from Datavis import visualize_observation\n",
    "\n",
    "# visualizing observation and label\n",
    "# red: x-error, yellow: z-error, green: x and z error, blue: stabilizer activation\n",
    "\n",
    "observation_index = 0\n",
    "\n",
    "#visualize_observation(nontest[observation_index][:-4])\n",
    "print(nontest[observation_index][-4:])\n"
   ]
  },
  {
   "cell_type": "markdown",
   "metadata": {},
   "source": [
    "## Zip Together Syndromes"
   ]
  },
  {
   "cell_type": "code",
   "execution_count": 6,
   "metadata": {},
   "outputs": [
    {
     "name": "stdout",
     "output_type": "stream",
     "text": [
      "(60000, 98)\n",
      "(10000, 98)\n"
     ]
    }
   ],
   "source": [
    "# new np ndarrays\n",
    "nontest_data = []\n",
    "\n",
    "test_data = []\n",
    "\n",
    "for observation in nontest_data_unzipped:\n",
    "\n",
    "    # split in half\n",
    "    observation = observation.reshape(code_distance *2, code_distance)\n",
    "    first_half = observation[:code_distance]\n",
    "    second_half = observation[code_distance:]\n",
    "    # zip them together\n",
    "    observation = np.array(list(zip(first_half, second_half))).flatten()\n",
    "\n",
    "\n",
    "    nontest_data.append(observation)\n",
    "\n",
    "for observation in test_data_unzipped:\n",
    "    # split in half\n",
    "    observation = observation.reshape(code_distance *2, code_distance)\n",
    "    first_half = observation[:code_distance]\n",
    "    second_half = observation[code_distance:]\n",
    "    # zip them together\n",
    "    observation = np.array(list(zip(first_half, second_half))).flatten()\n",
    "\n",
    "    test_data.append(observation)\n",
    "\n",
    "nontest_data = np.array(nontest_data)\n",
    "test_data = np.array(test_data)\n",
    "\n",
    "print(nontest_data.shape)\n",
    "print(test_data.shape)\n"
   ]
  },
  {
   "cell_type": "markdown",
   "metadata": {},
   "source": [
    "## Closed Surface Padding"
   ]
  },
  {
   "cell_type": "code",
   "execution_count": 7,
   "metadata": {},
   "outputs": [],
   "source": [
    "temp_nt = nontest_data\n",
    "temp_t = test_data\n",
    "\n",
    "nontest_data = []\n",
    "test_data = []\n",
    "\n",
    "kernellll = 3\n",
    "\n",
    "pad_size = kernellll - 1\n",
    "\n",
    "for observation in temp_nt:\n",
    "    # reshape to 2D\n",
    "    observation = observation.reshape(2*code_distance, code_distance)\n",
    "\n",
    "    observation = np.hstack((observation, observation))\n",
    "    # left pad is last two columns of observation\n",
    "    left_pad = observation[:,-pad_size:]\n",
    "    # right pad is first two columns of observation\n",
    "    right_pad = observation[:,:pad_size]    \n",
    "    # pad the observation\n",
    "    observation = np.hstack((left_pad, observation, right_pad))\n",
    "\n",
    "    bottom_pad = observation[:pad_size,:]\n",
    "    top_pad = observation[-pad_size:,:]\n",
    "\n",
    "    observation = np.vstack((top_pad, observation, bottom_pad))\n",
    "\n",
    "    # flatten the observation\n",
    "    observation = observation.flatten()\n",
    "\n",
    "    nontest_data.append(observation)\n",
    "\n",
    "for observation in temp_t:\n",
    "    # reshape to 2D\n",
    "    observation = observation.reshape(2*code_distance, code_distance)\n",
    "\n",
    "    observation = np.hstack((observation, observation))\n",
    "    # left pad is last two columns of observation\n",
    "    right_pad = observation[:,:pad_size]\n",
    "    # right pad is first two columns of observation\n",
    "    left_pad = observation[:,-pad_size:]\n",
    "\n",
    "    # pad the observation\n",
    "    observation = np.hstack((left_pad, observation, right_pad))\n",
    "\n",
    "    bottom_pad = observation[:pad_size,:]\n",
    "    top_pad = observation[-pad_size:,:]\n",
    "\n",
    "    observation = np.vstack((top_pad, observation, bottom_pad))\n",
    "\n",
    "    # flatten the observation\n",
    "    observation = observation.flatten()\n",
    "\n",
    "    test_data.append(observation)\n",
    "\n",
    "nontest_data = np.array(nontest_data)\n",
    "test_data = np.array(test_data)\n"
   ]
  },
  {
   "cell_type": "code",
   "execution_count": 8,
   "metadata": {},
   "outputs": [
    {
     "name": "stdout",
     "output_type": "stream",
     "text": [
      "nontest_data_2D.shape = (60000, 18, 18, 1)\n"
     ]
    }
   ],
   "source": [
    "# Reshape to 2D multi-channel images\n",
    "nontest_data_2D = nontest_data.reshape(len(nontest_data), code_distance*2 + 2 * pad_size, code_distance*2 + 2* pad_size, 1) # data shape here\n",
    "test_data_2D = test_data.reshape(len(test_data), code_distance*2 + 2*pad_size, code_distance*2 + 2*pad_size, 1)\n",
    "\n",
    "print(f\"nontest_data_2D.shape = {nontest_data_2D.shape}\")\n"
   ]
  },
  {
   "cell_type": "code",
   "execution_count": 9,
   "metadata": {},
   "outputs": [
    {
     "name": "stdout",
     "output_type": "stream",
     "text": [
      "[0 0 0 0 0 1 0 0 0 0 0 0 1 0 0 0 0 0 1 0 0 0 0 0 0 1 0 0 0 0 0 0 1 0 0 0 1\n",
      " 1 1 1 0 0 0 1 1 1 1 0 0 0 1 1 1 1 1 1 0 0 0 1 1 1 1 0 0 0 1 1 1 1 0 0 1 1\n",
      " 1 0 1 1 1 1 1 1 0 1 1 1 1 1 1 0 0 0 0 0 0 0 0 0 0 0 0 0 0 0 0 0 0 0 0 0 1\n",
      " 1 0 1 0 0 0 1 1 0 1 0 0 0 1 1 1 1 1 0 1 0 0 1 1 1 0 1 0 0 1 1 1 0 0 1 0 1\n",
      " 0 1 0 0 1 0 1 0 1 0 0 1 0 1 1 0 0 0 1 0 0 1 0 0 0 1 0 0 1 0 0 0 1 1 0 0 1\n",
      " 0 0 1 1 0 0 1 0 0 1 1 0 0 1 0 0 1 1 0 0 1 0 0 1 1 0 0 1 0 0 1 0 0 0 0 1 1\n",
      " 0 0 0 0 0 1 1 0 0 0 0 0 0 0 0 0 0 0 0 0 0 0 0 0 0 0 0 0 0 0 0 0 0 0 0 1 0\n",
      " 0 0 0 0 0 1 0 0 0 0 0 1 0 0 0 0 0 0 1 0 0 0 0 0 0 1 0 0 0 1 1 1 1 0 0 0 1\n",
      " 1 1 1 0 0 0 1 1 1 1 1 1 0 0 0 1 1 1 1 0 0 0 1 1 1 1 0 0]\n",
      "[[0 0 0 0 0 1 0 0 0 0 0 0 1 0 0 0 0 0]\n",
      " [1 0 0 0 0 0 0 1 0 0 0 0 0 0 1 0 0 0]\n",
      " [1 1 1 1 0 0 0 1 1 1 1 0 0 0 1 1 1 1]\n",
      " [1 1 0 0 0 1 1 1 1 0 0 0 1 1 1 1 0 0]\n",
      " [1 1 1 0 1 1 1 1 1 1 0 1 1 1 1 1 1 0]\n",
      " [0 0 0 0 0 0 0 0 0 0 0 0 0 0 0 0 0 0]\n",
      " [0 0 1 1 0 1 0 0 0 1 1 0 1 0 0 0 1 1]\n",
      " [1 1 1 0 1 0 0 1 1 1 0 1 0 0 1 1 1 0]\n",
      " [0 1 0 1 0 1 0 0 1 0 1 0 1 0 0 1 0 1]\n",
      " [1 0 0 0 1 0 0 1 0 0 0 1 0 0 1 0 0 0]\n",
      " [1 1 0 0 1 0 0 1 1 0 0 1 0 0 1 1 0 0]\n",
      " [1 0 0 1 1 0 0 1 0 0 1 1 0 0 1 0 0 1]\n",
      " [0 0 0 0 1 1 0 0 0 0 0 1 1 0 0 0 0 0]\n",
      " [0 0 0 0 0 0 0 0 0 0 0 0 0 0 0 0 0 0]\n",
      " [0 0 0 0 0 1 0 0 0 0 0 0 1 0 0 0 0 0]\n",
      " [1 0 0 0 0 0 0 1 0 0 0 0 0 0 1 0 0 0]\n",
      " [1 1 1 1 0 0 0 1 1 1 1 0 0 0 1 1 1 1]\n",
      " [1 1 0 0 0 1 1 1 1 0 0 0 1 1 1 1 0 0]]\n"
     ]
    }
   ],
   "source": [
    "print(nontest_data[0])\n",
    "\n",
    "print(nontest_data_2D[0,:,:,0])"
   ]
  },
  {
   "cell_type": "code",
   "execution_count": 10,
   "metadata": {},
   "outputs": [
    {
     "name": "stdout",
     "output_type": "stream",
     "text": [
      "[0 0 0 0 0 0 0 0 0 0 0 0 0 0 0 0 0 0 0 0 0 0 0 0 0 0 0 0 0 0 0 0 0 0 0 0 0\n",
      " 0 0 0 0 0 1 0 0 0 0 0 0 1 0 0 0 0 0 0 0 0 0 0 0 0 0 0 0 0 0 0 0 0 0 0 0 1\n",
      " 0 0 0 0 1 0 1 0 0 0 0 1 0 1 0 0 1 0 0 0 0 0 0 1 0 0 0 0 0 0 1 0 0 0 1 0 1\n",
      " 1 0 0 0 1 0 1 1 0 0 0 1 0 1 1 0 1 1 1 0 0 0 0 1 1 1 0 0 0 0 1 1 1 1 0 0 1\n",
      " 0 0 1 1 0 0 1 0 0 1 1 0 0 1 0 1 0 0 0 1 1 0 1 0 0 0 1 1 0 1 0 0 0 1 1 0 0\n",
      " 0 1 0 1 1 0 0 0 1 0 1 1 0 0 1 0 0 0 0 0 0 1 0 0 0 0 0 0 1 0 0 0 0 0 0 0 0\n",
      " 0 0 0 0 0 0 0 0 0 0 0 0 1 0 0 0 0 0 1 1 0 0 0 0 0 1 1 0 0 0 0 0 0 0 0 0 0\n",
      " 0 0 0 0 0 0 0 0 0 0 0 0 0 0 0 0 0 0 0 0 0 0 0 0 0 0 0 0 0 0 0 0 0 0 0 1 0\n",
      " 0 0 0 0 0 1 0 0 0 0 0 0 0 0 0 0 0 0 0 0 0 0 0 0 0 0 0 0]\n",
      "[[0 0 0 0 0 0 0 0 0 0 0 0 0 0 0 0 0 0]\n",
      " [0 0 0 0 0 0 0 0 0 0 0 0 0 0 0 0 0 0]\n",
      " [0 0 0 0 0 0 1 0 0 0 0 0 0 1 0 0 0 0]\n",
      " [0 0 0 0 0 0 0 0 0 0 0 0 0 0 0 0 0 0]\n",
      " [0 1 0 0 0 0 1 0 1 0 0 0 0 1 0 1 0 0]\n",
      " [1 0 0 0 0 0 0 1 0 0 0 0 0 0 1 0 0 0]\n",
      " [1 0 1 1 0 0 0 1 0 1 1 0 0 0 1 0 1 1]\n",
      " [0 1 1 1 0 0 0 0 1 1 1 0 0 0 0 1 1 1]\n",
      " [1 0 0 1 0 0 1 1 0 0 1 0 0 1 1 0 0 1]\n",
      " [0 1 0 0 0 1 1 0 1 0 0 0 1 1 0 1 0 0]\n",
      " [0 1 1 0 0 0 1 0 1 1 0 0 0 1 0 1 1 0]\n",
      " [0 1 0 0 0 0 0 0 1 0 0 0 0 0 0 1 0 0]\n",
      " [0 0 0 0 0 0 0 0 0 0 0 0 0 0 0 0 0 0]\n",
      " [1 0 0 0 0 0 1 1 0 0 0 0 0 1 1 0 0 0]\n",
      " [0 0 0 0 0 0 0 0 0 0 0 0 0 0 0 0 0 0]\n",
      " [0 0 0 0 0 0 0 0 0 0 0 0 0 0 0 0 0 0]\n",
      " [0 0 0 0 0 0 1 0 0 0 0 0 0 1 0 0 0 0]\n",
      " [0 0 0 0 0 0 0 0 0 0 0 0 0 0 0 0 0 0]]\n",
      "[1 0 0 0]\n"
     ]
    }
   ],
   "source": [
    "print(test_data[0])\n",
    "\n",
    "print(test_data_2D[0,:,:,0])\\\n",
    "\n",
    "print(test_labels[0])"
   ]
  },
  {
   "cell_type": "markdown",
   "metadata": {},
   "source": [
    "# one-hot encode all labels"
   ]
  },
  {
   "cell_type": "code",
   "execution_count": 11,
   "metadata": {},
   "outputs": [
    {
     "name": "stdout",
     "output_type": "stream",
     "text": [
      "[[0 0 1 1]\n",
      " [0 1 0 1]\n",
      " [1 1 0 1]\n",
      " [1 1 0 1]\n",
      " [0 0 0 0]]\n",
      "[ 3  5 13 13  0]\n",
      "[[1 0 0 0]\n",
      " [0 0 0 0]\n",
      " [1 0 1 0]\n",
      " [1 0 0 0]\n",
      " [1 1 0 0]]\n",
      "[ 8  0 10  8 12]\n"
     ]
    }
   ],
   "source": [
    "nontest_labels_encoded = np.array([int(''.join(map(str,single_label)),2) for single_label in nontest_labels])\n",
    "test_labels_encoded = np.array([int(''.join(map(str,single_label)),2) for single_label in test_labels])\n",
    "\n",
    "print(nontest_labels[:5])\n",
    "print(nontest_labels_encoded[:5])\n",
    "\n",
    "print(test_labels[:5])\n",
    "print(test_labels_encoded[:5])\n",
    "\n"
   ]
  },
  {
   "cell_type": "code",
   "execution_count": 12,
   "metadata": {},
   "outputs": [
    {
     "name": "stdout",
     "output_type": "stream",
     "text": [
      "[[1 0 0 0]\n",
      " [0 0 0 0]\n",
      " [1 0 1 0]\n",
      " [1 0 0 0]\n",
      " [1 1 0 0]]\n",
      "[ 8  0 10  8 12]\n"
     ]
    }
   ],
   "source": [
    "\n",
    "print(test_labels[:5])\n",
    "# head of labels\n",
    "print(test_labels_encoded[:5])\n"
   ]
  },
  {
   "cell_type": "code",
   "execution_count": 13,
   "metadata": {},
   "outputs": [
    {
     "data": {
      "image/png": "[encoded data removed]",
      "text/plain": [
       "<Figure size 640x480 with 1 Axes>"
      ]
     },
     "metadata": {},
     "output_type": "display_data"
    }
   ],
   "source": [
    "# histogram of nontest_labels_encoded\n",
    "plt.title(f\"Histogram of labels, L={code_distance}, p=0.{error_rate}\")\n",
    "plt.hist(nontest_labels_encoded, bins=16)\n",
    "# show all x ticks\n",
    "plt.xticks(np.arange(16))\n",
    "plt.savefig(f\"images/histogram_L_{code_distance}_p_{error_rate}.png\")\n",
    "\n",
    "plt.show()\n",
    "\n",
    "\n"
   ]
  },
  {
   "cell_type": "markdown",
   "metadata": {},
   "source": [
    "## Define GCNN Structure"
   ]
  },
  {
   "cell_type": "code",
   "execution_count": 14,
   "metadata": {},
   "outputs": [],
   "source": [
    "Ntheta = 4 # Kernel size in angular direction\n",
    "Nxy = kernellll     # Kernel size in spatial direction\n",
    "Nc = 4     # Number of channels in the initial layer\n",
    "\n",
    "graph = tf.Graph()\n",
    "graph.as_default()\n",
    "tf.compat.v1.reset_default_graph()\n",
    "\n",
    "inputs_ph = tf.placeholder( dtype = tf.float32, shape = [\n",
    "    None, \n",
    "    nontest_data_2D.shape[1], \n",
    "    nontest_data_2D.shape[2], \n",
    "    nontest_data_2D.shape[3]] )\n",
    "labels_ph = tf.placeholder( dtype = tf.int32, shape = [None,] )\n",
    "\n",
    "\n",
    "tensor_in = inputs_ph\n",
    "Nc_in = 1\n",
    "\n",
    "kernels={}"
   ]
  },
  {
   "cell_type": "code",
   "execution_count": 15,
   "metadata": {},
   "outputs": [
    {
     "name": "stdout",
     "output_type": "stream",
     "text": [
      "(?, 18, 18, 1)\n",
      "(?,)\n"
     ]
    }
   ],
   "source": [
    "print(inputs_ph.shape)\n",
    "print(labels_ph.shape)"
   ]
  },
  {
   "cell_type": "markdown",
   "metadata": {},
   "source": [
    "### Layer 1"
   ]
  },
  {
   "cell_type": "code",
   "execution_count": 16,
   "metadata": {},
   "outputs": [
    {
     "name": "stdout",
     "output_type": "stream",
     "text": [
      "Z2-SE2N BASE KERNEL SHAPE: (3, 3, 1, 4)\n",
      "Z2-SE2N ROTATED KERNEL SET SHAPE: (4, 3, 3, 1, 4)\n",
      "OUTPUT SE2N ACTIVATIONS SHAPE: (?, 16, 16, 4, 4)\n"
     ]
    }
   ],
   "source": [
    "with tf.variable_scope(\"Layer_{}\".format(1)) as _scope:\n",
    "    ## Settings\n",
    "    Nc_out = Nc\n",
    "\n",
    "    ## Perform lifting convolution\n",
    "    # The kernels used in the lifting layer\n",
    "    kernels_raw = tf.get_variable(\n",
    "                        'kernel', \n",
    "                        [Nxy,Nxy,Nc_in,Nc_out],\n",
    "                        initializer=weight_initializer(Nxy*Nxy*Nc_in,Nc_out))\n",
    "    tf.add_to_collection('raw_kernels', kernels_raw)\n",
    "    bias = tf.get_variable( # Same bias for all orientations\n",
    "                        \"bias\",\n",
    "                        [1, 1, 1, 1, Nc_out], \n",
    "                        initializer=tf.constant_initializer(value=0.01))\n",
    "    # Lifting layer\n",
    "    tensor_out, kernels_formatted = se2cnn.layers.z2_se2n(\n",
    "                            input_tensor = tensor_in,\n",
    "                            kernel = kernels_raw,\n",
    "                            orientations_nb = Ntheta)\n",
    "    # Add bias\n",
    "    tensor_out = tensor_out + bias\n",
    "    \n",
    "    ## Perform (spatial) max-pooling\n",
    "    #tensor_out = se2cnn.layers.spatial_max_pool( input_tensor=tensor_out, nbOrientations=Ntheta)\n",
    "    \n",
    "    ## Apply ReLU\n",
    "    tensor_out = tf.nn.relu(tensor_out)\n",
    "\n",
    "    ## Prepare for the next layer\n",
    "    tensor_in = tensor_out\n",
    "    Nc_in = Nc_out\n",
    "    \n",
    "    ## Save kernels for inspection\n",
    "    kernels[_scope.name] = kernels_formatted"
   ]
  },
  {
   "cell_type": "code",
   "execution_count": 17,
   "metadata": {},
   "outputs": [
    {
     "name": "stdout",
     "output_type": "stream",
     "text": [
      "(?, 16, 16, 4, 4)\n"
     ]
    }
   ],
   "source": [
    "print(tensor_in.get_shape())"
   ]
  },
  {
   "cell_type": "markdown",
   "metadata": {},
   "source": [
    "### Layer 2"
   ]
  },
  {
   "cell_type": "code",
   "execution_count": 18,
   "metadata": {},
   "outputs": [
    {
     "name": "stdout",
     "output_type": "stream",
     "text": [
      "SE2N-SE2N BASE KERNEL SHAPE: (3, 3, 4, 4, 8)\n",
      "SE2N-SE2N ROTATED KERNEL SET SHAPE: (4, 3, 3, 4, 4, 8)\n",
      "OUTPUT SE2N ACTIVATIONS SHAPE: (?, 14, 14, 4, 8)\n"
     ]
    }
   ],
   "source": [
    "with tf.variable_scope(\"Layer_{}\".format(2)) as _scope:\n",
    "    ## Settings\n",
    "    Nc_out = 2*Nc\n",
    "\n",
    "    ## Perform group convolution\n",
    "    # The kernels used in the group convolution layer\n",
    "    kernels_raw = tf.get_variable(\n",
    "                        'kernel', \n",
    "                        [Nxy,Nxy,Ntheta,Nc_in,Nc_out],\n",
    "                        initializer=weight_initializer(Nxy*Nxy*Ntheta*Nc_in,Nc_out))\n",
    "    tf.add_to_collection('raw_kernels', kernels_raw)\n",
    "    bias = tf.get_variable( # Same bias for all orientations\n",
    "                        \"bias\",\n",
    "                        [1, 1, 1, 1, Nc_out], \n",
    "                        initializer=tf.constant_initializer(value=0.01))\n",
    "    # The group convolution layer\n",
    "    tensor_out, kernels_formatted = se2cnn.layers.se2n_se2n(\n",
    "                            input_tensor = tensor_in,\n",
    "                            kernel = kernels_raw)\n",
    "    tensor_out = tensor_out + bias\n",
    "    \n",
    "    #tensor_out = se2cnn.layers.spatial_max_pool( input_tensor=tensor_out, nbOrientations=Ntheta)\n",
    "\n",
    "    ## Apply ReLU\n",
    "    tensor_out = tf.nn.relu(tensor_out)\n",
    "    \n",
    "    ## Prepare for the next layer\n",
    "    tensor_in = tensor_out\n",
    "    Nc_in = Nc_out\n",
    "    \n",
    "    ## Save kernels for inspection\n",
    "    kernels[_scope.name] = kernels_formatted"
   ]
  },
  {
   "cell_type": "code",
   "execution_count": 19,
   "metadata": {},
   "outputs": [
    {
     "name": "stdout",
     "output_type": "stream",
     "text": [
      "(?, 14, 14, 4, 8)\n"
     ]
    }
   ],
   "source": [
    "print(tensor_in.get_shape())"
   ]
  },
  {
   "cell_type": "markdown",
   "metadata": {},
   "source": [
    "### Layer 3"
   ]
  },
  {
   "cell_type": "code",
   "execution_count": 20,
   "metadata": {},
   "outputs": [
    {
     "name": "stdout",
     "output_type": "stream",
     "text": [
      "SE2N-SE2N BASE KERNEL SHAPE: (3, 3, 4, 8, 16)\n",
      "SE2N-SE2N ROTATED KERNEL SET SHAPE: (4, 3, 3, 4, 8, 16)\n",
      "OUTPUT SE2N ACTIVATIONS SHAPE: (?, 12, 12, 4, 16)\n"
     ]
    }
   ],
   "source": [
    "with tf.variable_scope(\"Layer_{}\".format(3)) as _scope:\n",
    "    ## Settings\n",
    "    Nc_out = 4*Nc\n",
    "\n",
    "    ## Perform group convolution\n",
    "    # The kernels used in the group convolution layer\n",
    "    kernels_raw = tf.get_variable(\n",
    "                        'kernel', \n",
    "                        [Nxy,Nxy,Ntheta,Nc_in,Nc_out],\n",
    "                        initializer=weight_initializer(Nxy*Nxy*Ntheta*Nc_in,Nc_out))\n",
    "    tf.add_to_collection('raw_kernels', kernels_raw)\n",
    "    bias = tf.get_variable( # Same bias for all orientations\n",
    "                        \"bias\",\n",
    "                        [1, 1, 1, 1, Nc_out], \n",
    "                        initializer=tf.constant_initializer(value=0.01))\n",
    "    # The group convolution layer\n",
    "    tensor_out, kernels_formatted = se2cnn.layers.se2n_se2n(\n",
    "                            input_tensor = tensor_in,\n",
    "                            kernel = kernels_raw)\n",
    "    tensor_out = tensor_out + bias\n",
    "\n",
    "    #tensor_out = se2cnn.layers.spatial_max_pool( input_tensor=tensor_out, nbOrientations=Ntheta)\n",
    "    \n",
    "    ## Apply ReLU\n",
    "    tensor_out = tf.nn.relu(tensor_out)\n",
    "    \n",
    "    ## Prepare for the next layer\n",
    "    tensor_in = tensor_out\n",
    "    Nc_in = Nc_out\n",
    "    \n",
    "    ## Save kernels for inspection\n",
    "    kernels[_scope.name] = kernels_formatted"
   ]
  },
  {
   "cell_type": "code",
   "execution_count": 21,
   "metadata": {},
   "outputs": [
    {
     "name": "stdout",
     "output_type": "stream",
     "text": [
      "(?, 12, 12, 4, 16)\n"
     ]
    }
   ],
   "source": [
    "print(tensor_in.get_shape())"
   ]
  },
  {
   "cell_type": "markdown",
   "metadata": {},
   "source": [
    "### Layer 4"
   ]
  },
  {
   "cell_type": "code",
   "execution_count": 22,
   "metadata": {},
   "outputs": [
    {
     "name": "stdout",
     "output_type": "stream",
     "text": [
      "SE2N-SE2N BASE KERNEL SHAPE: (3, 3, 4, 16, 32)\n",
      "SE2N-SE2N ROTATED KERNEL SET SHAPE: (4, 3, 3, 4, 16, 32)\n",
      "OUTPUT SE2N ACTIVATIONS SHAPE: (?, 10, 10, 4, 32)\n"
     ]
    }
   ],
   "source": [
    "with tf.variable_scope(\"Layer_{}\".format(4)) as _scope:\n",
    "    ## Settings\n",
    "    Nc_out = 8*Nc\n",
    "\n",
    "    ## Perform group convolution\n",
    "    # The kernels used in the group convolution layer\n",
    "    kernels_raw = tf.get_variable(\n",
    "                        'kernel', \n",
    "                        [Nxy,Nxy,Ntheta,Nc_in,Nc_out],\n",
    "                        initializer=weight_initializer(Nxy*Nxy*Ntheta*Nc_in,Nc_out))\n",
    "    tf.add_to_collection('raw_kernels', kernels_raw)\n",
    "    bias = tf.get_variable( # Same bias for all orientations\n",
    "                        \"bias\",\n",
    "                        [1, 1, 1, 1, Nc_out], \n",
    "                        initializer=tf.constant_initializer(value=0.01))\n",
    "    # The group convolution layer\n",
    "    tensor_out, kernels_formatted = se2cnn.layers.se2n_se2n(\n",
    "                            input_tensor = tensor_in,\n",
    "                            kernel = kernels_raw)\n",
    "    tensor_out = tensor_out + bias\n",
    "    \n",
    "    ## Apply ReLU\n",
    "    tensor_out = tf.nn.relu(tensor_out)\n",
    "    \n",
    "    ## Prepare for the next layer\n",
    "    tensor_in = tensor_out\n",
    "    Nc_in = Nc_out\n",
    "    \n",
    "    ## Save kernels for inspection\n",
    "    kernels[_scope.name] = kernels_formatted"
   ]
  },
  {
   "cell_type": "code",
   "execution_count": 23,
   "metadata": {},
   "outputs": [
    {
     "name": "stdout",
     "output_type": "stream",
     "text": [
      "(?, 10, 10, 4, 32)\n"
     ]
    }
   ],
   "source": [
    "print(tensor_in.get_shape())"
   ]
  },
  {
   "cell_type": "markdown",
   "metadata": {},
   "source": [
    "### Layer 5"
   ]
  },
  {
   "cell_type": "code",
   "execution_count": 24,
   "metadata": {},
   "outputs": [
    {
     "name": "stdout",
     "output_type": "stream",
     "text": [
      "SE2N-SE2N BASE KERNEL SHAPE: (3, 3, 4, 32, 64)\n",
      "SE2N-SE2N ROTATED KERNEL SET SHAPE: (4, 3, 3, 4, 32, 64)\n",
      "OUTPUT SE2N ACTIVATIONS SHAPE: (?, 8, 8, 4, 64)\n"
     ]
    }
   ],
   "source": [
    "with tf.variable_scope(\"Layer_{}\".format(5)) as _scope:\n",
    "    ## Settings\n",
    "    Nc_out = 16*Nc\n",
    "\n",
    "\n",
    "    ## Perform group convolution\n",
    "    # The kernels used in the group convolution layer\n",
    "    kernels_raw = tf.get_variable(\n",
    "                        'kernel', \n",
    "                        [Nxy,Nxy,Ntheta,Nc_in,Nc_out],\n",
    "                        initializer=weight_initializer(Nxy* Nxy*Ntheta*Nc_in,Nc_out))\n",
    "    tf.add_to_collection('raw_kernels', kernels_raw)\n",
    "    bias = tf.get_variable( # Same bias for all orientations\n",
    "                        \"bias\",\n",
    "                        [1, 1, 1, 1, Nc_out], \n",
    "                        initializer=tf.constant_initializer(value=0.01))\n",
    "    # The group convolution layer\n",
    "    tensor_out, kernels_formatted = se2cnn.layers.se2n_se2n(\n",
    "                            input_tensor = tensor_in,\n",
    "                            kernel = kernels_raw)\n",
    "    tensor_out = tensor_out + bias\n",
    "    \n",
    "    ## Apply ReLU\n",
    "    tensor_out = tf.nn.relu(tensor_out)\n",
    "    \n",
    "    ## Prepare for the next layer\n",
    "    tensor_in = tensor_out\n",
    "    Nc_in = Nc_out\n",
    "    \n",
    "    ## Save kernels for inspection\n",
    "    kernels[_scope.name] = kernels_formatted"
   ]
  },
  {
   "cell_type": "code",
   "execution_count": 25,
   "metadata": {},
   "outputs": [
    {
     "name": "stdout",
     "output_type": "stream",
     "text": [
      "(?, 8, 8, 4, 64)\n"
     ]
    }
   ],
   "source": [
    "print(tensor_in.get_shape())"
   ]
  },
  {
   "cell_type": "markdown",
   "metadata": {},
   "source": [
    "### Layer 6"
   ]
  },
  {
   "cell_type": "code",
   "execution_count": 26,
   "metadata": {},
   "outputs": [
    {
     "name": "stdout",
     "output_type": "stream",
     "text": [
      "SE2N-SE2N BASE KERNEL SHAPE: (3, 3, 4, 64, 128)\n",
      "SE2N-SE2N ROTATED KERNEL SET SHAPE: (4, 3, 3, 4, 64, 128)\n",
      "OUTPUT SE2N ACTIVATIONS SHAPE: (?, 6, 6, 4, 128)\n"
     ]
    }
   ],
   "source": [
    "with tf.variable_scope(\"Layer_{}\".format(6)) as _scope:\n",
    "    ## Settings\n",
    "    Nc_out = 32*Nc\n",
    "\n",
    "\n",
    "    ## Perform group convolution\n",
    "    # The kernels used in the group convolution layer\n",
    "    kernels_raw = tf.get_variable(\n",
    "                        'kernel', \n",
    "                        [Nxy,Nxy,Ntheta,Nc_in,Nc_out],\n",
    "                        initializer=weight_initializer(Nxy* Nxy*Ntheta*Nc_in,Nc_out))\n",
    "    tf.add_to_collection('raw_kernels', kernels_raw)\n",
    "    bias = tf.get_variable( # Same bias for all orientations\n",
    "                        \"bias\",\n",
    "                        [1, 1, 1, 1, Nc_out], \n",
    "                        initializer=tf.constant_initializer(value=0.01))\n",
    "    # The group convolution layer\n",
    "    tensor_out, kernels_formatted = se2cnn.layers.se2n_se2n(\n",
    "                            input_tensor = tensor_in,\n",
    "                            kernel = kernels_raw)\n",
    "    tensor_out = tensor_out + bias\n",
    "    tensor_out = se2cnn.layers.spatial_max_pool( input_tensor=tensor_out, nbOrientations=Ntheta)\n",
    "    ## Apply ReLU\n",
    "    tensor_out = tf.nn.relu(tensor_out)\n",
    "    \n",
    "    ## Prepare for the next layer\n",
    "    tensor_in = tensor_out\n",
    "    Nc_in = Nc_out\n",
    "    \n",
    "    ## Save kernels for inspection\n",
    "    kernels[_scope.name] = kernels_formatted"
   ]
  },
  {
   "cell_type": "code",
   "execution_count": 27,
   "metadata": {},
   "outputs": [
    {
     "name": "stdout",
     "output_type": "stream",
     "text": [
      "(?, 3, 3, 4, 128)\n"
     ]
    }
   ],
   "source": [
    "print(tensor_in.get_shape())"
   ]
  },
  {
   "cell_type": "markdown",
   "metadata": {},
   "source": [
    "### Layer 7"
   ]
  },
  {
   "cell_type": "code",
   "execution_count": 28,
   "metadata": {},
   "outputs": [
    {
     "name": "stdout",
     "output_type": "stream",
     "text": [
      "SE2N-SE2N BASE KERNEL SHAPE: (1, 1, 4, 128, 16)\n",
      "SE2N-SE2N ROTATED KERNEL SET SHAPE: (4, 1, 1, 4, 128, 16)\n",
      "OUTPUT SE2N ACTIVATIONS SHAPE: (?, 3, 3, 4, 16)\n",
      "(?, 3, 3, 4, 16)\n",
      "(?, 4, 16)\n"
     ]
    }
   ],
   "source": [
    "# create mapping matrix\n",
    "identity = np.identity(4)\n",
    "# swap 2n and 3rd rows\n",
    "identity[[1, 2]] = identity[[2, 1]]\n",
    "rearr = np.kron(identity, identity)\n",
    "\n",
    "\n",
    "with tf.variable_scope(\"Layer_{}\".format(7)) as _scope:\n",
    "    ## Settings\n",
    "    Nc_out = 16\n",
    "\n",
    "    ## Perform group convolution\n",
    "    # The kernels used in the group convolution layer\n",
    "    kernels_raw = tf.get_variable(\n",
    "                        'kernel', \n",
    "                        [1,1,Ntheta,Nc_in,Nc_out],\n",
    "                        initializer=weight_initializer(1*1*Ntheta*Nc_in,Nc_out))\n",
    "    tf.add_to_collection('raw_kernels', kernels_raw)\n",
    "    bias = tf.get_variable( # Same bias for all orientations\n",
    "                        \"bias\",\n",
    "                        [1, 1, 1, 1, Nc_out], \n",
    "                        initializer=tf.constant_initializer(value=0.01))\n",
    "\n",
    "    \n",
    "    ## Convolution layer\n",
    "    tensor_out, kernels_formatted = se2cnn.layers.se2n_se2n(\n",
    "                            input_tensor = tensor_in,\n",
    "                            kernel = kernels_raw)\n",
    "    tensor_out = tensor_out + bias\n",
    "\n",
    "    print(tensor_out.get_shape())\n",
    "    \n",
    "    ## The output logits\n",
    "    logits = tensor_out[:,0,0,:,:] # reduces shape to tensor \n",
    "\n",
    "    print(logits.get_shape())\n",
    "    \n",
    "    logits = logits[:,0,:] + logits[:,1,:] @ rearr + logits[:,2,:] + logits[:,3,:] @ rearr\n",
    "\n",
    "    predictions = tf.argmax(input=logits, axis=1)\n",
    "    probabilities = tf.nn.softmax(logits)\n",
    "    \n",
    "    ## Save the kernels for later inspection\n",
    "    kernels[_scope.name] = kernels_formatted"
   ]
  },
  {
   "cell_type": "code",
   "execution_count": 29,
   "metadata": {},
   "outputs": [
    {
     "name": "stdout",
     "output_type": "stream",
     "text": [
      "(?, 16)\n"
     ]
    }
   ],
   "source": [
    "print(logits.get_shape())"
   ]
  },
  {
   "cell_type": "markdown",
   "metadata": {},
   "source": [
    "## Loss Function and Optimizers"
   ]
  },
  {
   "cell_type": "code",
   "execution_count": 30,
   "metadata": {},
   "outputs": [],
   "source": [
    "# Cross-entropy loss\n",
    "loss = tf.losses.sparse_softmax_cross_entropy(labels=labels_ph, logits=logits)"
   ]
  },
  {
   "cell_type": "code",
   "execution_count": 31,
   "metadata": {},
   "outputs": [
    {
     "name": "stdout",
     "output_type": "stream",
     "text": [
      "-----\n",
      "RAW kernel shapes:\n",
      "[Layer_1/kernel:0]: (3, 3, 1, 4), total nr of weights = 36\n",
      "[Layer_2/kernel:0]: (3, 3, 4, 4, 8), total nr of weights = 1152\n",
      "[Layer_3/kernel:0]: (3, 3, 4, 8, 16), total nr of weights = 4608\n",
      "[Layer_4/kernel:0]: (3, 3, 4, 16, 32), total nr of weights = 18432\n",
      "[Layer_5/kernel:0]: (3, 3, 4, 32, 64), total nr of weights = 73728\n",
      "[Layer_6/kernel:0]: (3, 3, 4, 64, 128), total nr of weights = 294912\n",
      "[Layer_7/kernel:0]: (1, 1, 4, 128, 16), total nr of weights = 8192\n",
      "-----\n"
     ]
    }
   ],
   "source": [
    "#-- Define the l2 loss \n",
    "weightDecay=5e-4\n",
    "# Get the raw kernels\n",
    "variables_wd = tf.get_collection('raw_kernels')\n",
    "print('-----')\n",
    "print('RAW kernel shapes:')\n",
    "for v in variables_wd: print( \"[{}]: {}, total nr of weights = {}\".format(v.name, v.get_shape(), size_of(v)))\n",
    "print('-----')\n",
    "loss_l2 = weightDecay*sum([tf.nn.l2_loss(ker) for ker in variables_wd])"
   ]
  },
  {
   "cell_type": "code",
   "execution_count": 32,
   "metadata": {},
   "outputs": [],
   "source": [
    "# Configure the Training Op (for TRAIN mode)\n",
    "optimizer = tf.train.AdamOptimizer(learning_rate=0.001)\n",
    "\n",
    "train_op = optimizer.minimize(\n",
    "    loss=loss + loss_l2,\n",
    "    global_step=tf.train.get_global_step())"
   ]
  },
  {
   "cell_type": "code",
   "execution_count": 33,
   "metadata": {},
   "outputs": [],
   "source": [
    "#-- Start the (GPU) session\n",
    "initializer = tf.global_variables_initializer()\n",
    "session = tf.Session(graph=tf.get_default_graph()) #-- Session created\n",
    "session.run(initializer)"
   ]
  },
  {
   "cell_type": "code",
   "execution_count": 34,
   "metadata": {},
   "outputs": [],
   "source": [
    "batch_size=100\n",
    "n_epochs=50"
   ]
  },
  {
   "cell_type": "code",
   "execution_count": 35,
   "metadata": {},
   "outputs": [
    {
     "name": "stdout",
     "output_type": "stream",
     "text": [
      "Epoch  1  finished... Average loss =  2.6971 , time =  16.6202\n",
      "Epoch  2  finished... Average loss =  2.6587 , time =  5.773\n",
      "Epoch  3  finished... Average loss =  2.6428 , time =  5.644\n",
      "Epoch  4  finished... Average loss =  2.6298 , time =  5.724\n",
      "Epoch  5  finished... Average loss =  2.6196 , time =  5.649\n",
      "Epoch  6  finished... Average loss =  2.61 , time =  5.715\n",
      "Epoch  7  finished... Average loss =  2.5989 , time =  5.759\n",
      "Epoch  8  finished... Average loss =  2.588 , time =  5.668\n",
      "Epoch  9  finished... Average loss =  2.5769 , time =  5.682\n",
      "Epoch 10  finished... Average loss =  2.5642 , time =  5.615\n",
      "Epoch 11  finished... Average loss =  2.552 , time =  5.354\n",
      "Epoch 12  finished... Average loss =  2.5351 , time =  5.435\n",
      "Epoch 13  finished... Average loss =  2.5208 , time =  5.583\n",
      "Epoch 14  finished... Average loss =  2.5039 , time =  5.668\n",
      "Epoch 15  finished... Average loss =  2.4848 , time =  5.404\n",
      "Epoch 16  finished... Average loss =  2.4665 , time =  5.606\n",
      "Epoch 17  finished... Average loss =  2.4507 , time =  5.562\n",
      "Epoch 18  finished... Average loss =  2.4313 , time =  5.663\n",
      "Epoch 19  finished... Average loss =  2.4151 , time =  5.611\n",
      "Epoch 20  finished... Average loss =  2.4011 , time =  5.629\n",
      "Epoch 21  finished... Average loss =  2.3836 , time =  5.669\n",
      "Epoch 22  finished... Average loss =  2.37 , time =  5.612\n",
      "Epoch 23  finished... Average loss =  2.3545 , time =  5.574\n",
      "Epoch 24  finished... Average loss =  2.3419 , time =  5.603\n",
      "Epoch 25  finished... Average loss =  2.3262 , time =  5.702\n",
      "Epoch 26  finished... Average loss =  2.3147 , time =  5.629\n",
      "Epoch 27  finished... Average loss =  2.3002 , time =  5.663\n",
      "Epoch 28  finished... Average loss =  2.289 , time =  6.093\n",
      "Epoch 29  finished... Average loss =  2.2766 , time =  5.865\n",
      "Epoch 30  finished... Average loss =  2.2672 , time =  5.789\n",
      "Epoch 31  finished... Average loss =  2.2576 , time =  5.849\n",
      "Epoch 32  finished... Average loss =  2.2483 , time =  6.054\n",
      "Epoch 33  finished... Average loss =  2.2375 , time =  5.6\n",
      "Epoch 34  finished... Average loss =  2.2276 , time =  5.53\n",
      "Epoch 35  finished... Average loss =  2.2182 , time =  5.674\n",
      "Epoch 36  finished... Average loss =  2.2116 , time =  5.666\n",
      "Epoch 37  finished... Average loss =  2.2057 , time =  5.5926\n",
      "Epoch 38  finished... Average loss =  2.1955 , time =  5.715\n",
      "Epoch 39  finished... Average loss =  2.1855 , time =  5.698\n",
      "Epoch 40  finished... Average loss =  2.1796 , time =  5.703\n",
      "Epoch 41  finished... Average loss =  2.1775 , time =  5.69\n",
      "Epoch 42  finished... Average loss =  2.1692 , time =  5.643\n",
      "Epoch 43  finished... Average loss =  2.161 , time =  5.593\n",
      "Epoch 44  finished... Average loss =  2.1554 , time =  5.633\n",
      "Epoch 45  finished... Average loss =  2.1505 , time =  5.6943\n",
      "Epoch 46  finished... Average loss =  2.1461 , time =  5.754\n",
      "Epoch 47  finished... Average loss =  2.1397 , time =  5.639\n",
      "Epoch 48  finished... Average loss =  2.1367 , time =  5.646\n",
      "Epoch 49  finished... Average loss =  2.1317 , time =  5.892\n",
      "Epoch 50  finished... Average loss =  2.1247 , time =  5.556\n"
     ]
    }
   ],
   "source": [
    "average_losses = {}\n",
    "\n",
    "for epoch_nr in range(1, n_epochs+1):\n",
    "    loss_average = 0\n",
    "    data = nontest_data_2D\n",
    "    labels = nontest_labels_encoded\n",
    "    # KBatch settings\n",
    "    NItPerEpoch = m.floor(len(data)/batch_size) #number of iterations per epoch\n",
    "    samples=np.random.permutation(len(data))\n",
    "    # Loop over dataset\n",
    "    tStart = time.time()\n",
    "    for iteration in range(NItPerEpoch):\n",
    "        feed_dict = {\n",
    "                inputs_ph: np.array(data[samples[iteration*batch_size:(iteration+1)*batch_size]]),\n",
    "                labels_ph: np.array(labels[samples[iteration*batch_size:(iteration+1)*batch_size]])\n",
    "                }\n",
    "        operators_output = session.run([ loss , train_op ], feed_dict)\n",
    "        loss_average += operators_output[0]/NItPerEpoch\n",
    "    tElapsed = time.time() - tStart\n",
    "\n",
    "    average_losses[epoch_nr] = loss_average\n",
    "\n",
    "    if epoch_nr < 10:\n",
    "        print('Epoch ' , epoch_nr , ' finished... Average loss = ' , round(loss_average,4) , ', time = ',round(tElapsed,4))\n",
    "    else:\n",
    "        print('Epoch' , epoch_nr , ' finished... Average loss = ' , round(loss_average,4) , ', time = ',round(tElapsed,4))"
   ]
  },
  {
   "cell_type": "markdown",
   "metadata": {},
   "source": [
    "## Validation"
   ]
  },
  {
   "cell_type": "code",
   "execution_count": 35,
   "metadata": {},
   "outputs": [
    {
     "name": "stdout",
     "output_type": "stream",
     "text": [
      "Time elapsed for prediction =  0.2935  seconds\n"
     ]
    }
   ],
   "source": [
    "import time\n",
    "batch_size = 1000\n",
    "labels_pred = []\n",
    "# start time\n",
    "tStart = time.time()\n",
    "for i in range(round(len(test_data_2D)/batch_size)):\n",
    "    [ labels_pred_batch ] = session.run([ predictions ], { inputs_ph: test_data_2D[i*batch_size:(i+1)*batch_size] })\n",
    "    labels_pred = labels_pred + list(labels_pred_batch)\n",
    "# end time\n",
    "tElapsed = time.time() - tStart\n",
    "print('Time elapsed for prediction = ',round(tElapsed,4),' seconds')\n",
    "labels_pred = np.array(labels_pred)"
   ]
  },
  {
   "cell_type": "code",
   "execution_count": 36,
   "metadata": {},
   "outputs": [
    {
     "name": "stdout",
     "output_type": "stream",
     "text": [
      "[ 0  2 14  6  4  4  0  5  2  5]\n",
      "[ 4 10  8  0  1  8  2  0  5  3]\n"
     ]
    }
   ],
   "source": [
    "print(labels_pred[0:10])\n",
    "print(test_labels_encoded[0:10])"
   ]
  },
  {
   "cell_type": "markdown",
   "metadata": {},
   "source": [
    "Accuracy"
   ]
  },
  {
   "cell_type": "code",
   "execution_count": 37,
   "metadata": {},
   "outputs": [
    {
     "data": {
      "text/plain": [
       "0.1734"
      ]
     },
     "execution_count": 37,
     "metadata": {},
     "output_type": "execute_result"
    }
   ],
   "source": [
    "((labels_pred - test_labels_encoded)**2==0).astype(float).mean()"
   ]
  },
  {
   "cell_type": "markdown",
   "metadata": {},
   "source": [
    "Total Errors"
   ]
  },
  {
   "cell_type": "code",
   "execution_count": 38,
   "metadata": {},
   "outputs": [
    {
     "data": {
      "text/plain": [
       "8266.0"
      ]
     },
     "execution_count": 38,
     "metadata": {},
     "output_type": "execute_result"
    }
   ],
   "source": [
    "((labels_pred - test_labels_encoded)**2>0).astype(float).sum()"
   ]
  },
  {
   "cell_type": "markdown",
   "metadata": {},
   "source": [
    "Error Rate"
   ]
  },
  {
   "cell_type": "code",
   "execution_count": 39,
   "metadata": {},
   "outputs": [
    {
     "data": {
      "text/plain": [
       "82.66"
      ]
     },
     "execution_count": 39,
     "metadata": {},
     "output_type": "execute_result"
    }
   ],
   "source": [
    "100*((labels_pred - test_labels_encoded)**2>0).astype(float).mean()"
   ]
  },
  {
   "cell_type": "code",
   "execution_count": 40,
   "metadata": {},
   "outputs": [],
   "source": [
    "def plot_confusion_matrix(cm, classes,\n",
    "                          normalize=False,\n",
    "                          title=f'GCNN Decoder with L={code_distance}, p=0.{error_rate}',\n",
    "                          cmap=plt.cm.Blues):\n",
    "    \"\"\"\n",
    "    This function prints and plots the confusion matrix.\n",
    "    Normalization can be applied by setting `normalize=True`.\n",
    "    \"\"\"\n",
    "    if normalize:\n",
    "        cm = cm.astype('float') / cm.sum(axis=1)[:, np.newaxis]\n",
    "        print(\"Normalized confusion matrix\")\n",
    "    else:\n",
    "        print('Confusion matrix, without normalization')\n",
    "\n",
    "    plt.imshow(cm, interpolation='nearest', cmap=cmap)\n",
    "    plt.title(title)\n",
    "    plt.colorbar()\n",
    "    tick_marks = np.arange(len(classes))\n",
    "    plt.xticks(tick_marks, classes, rotation=45)\n",
    "    plt.yticks(tick_marks, classes)\n",
    "\n",
    "    fmt = '.2f' if normalize else 'd'\n",
    "    thresh = cm.max() / 2.\n",
    "    for i, j in itertools.product(range(cm.shape[0]), range(cm.shape[1])):\n",
    "        plt.text(j, i, format(cm[i, j], fmt),\n",
    "                 horizontalalignment=\"center\",\n",
    "                 color=\"white\" if cm[i, j] > thresh else \"black\")\n",
    "\n",
    "    plt.tight_layout()\n",
    "    plt.ylabel('True label')\n",
    "    plt.xlabel('Predicted label')\n",
    "    # make bigger\n",
    "    plt.gcf().set_size_inches(8, 8)\n",
    "\n",
    "    #plt.savefig(f\"cms/cm_L_{code_distance}_p_{error_rate}.png\")\n",
    "\n",
    "    \n",
    "    plt.show()"
   ]
  },
  {
   "cell_type": "code",
   "execution_count": 41,
   "metadata": {},
   "outputs": [
    {
     "name": "stdout",
     "output_type": "stream",
     "text": [
      "Confusion matrix, without normalization\n"
     ]
    },
    {
     "data": {
      "image/png": "[encoded data removed]",
      "text/plain": [
       "<Figure size 800x800 with 2 Axes>"
      ]
     },
     "metadata": {},
     "output_type": "display_data"
    }
   ],
   "source": [
    "cm = confusion_matrix(test_labels_encoded, labels_pred)\n",
    "plot_confusion_matrix(cm, range(16))\n",
    "# save to file\n"
   ]
  },
  {
   "cell_type": "code",
   "execution_count": 42,
   "metadata": {},
   "outputs": [
    {
     "name": "stdout",
     "output_type": "stream",
     "text": [
      "[0.3094674556213018, 0.20464656450815621, 0.19763882815916048, 0.10912906610703044, 0.1868407835258664, 0.1094834232845027, 0.07110091743119266, 0.04700854700854701, 0.20855057351407716, 0.11551528878822197, 0.1266891891891892, 0.05639913232104121, 0.08647450110864745, 0.09215017064846416, 0.05904059040590406, 0.04743083003952569]\n"
     ]
    }
   ],
   "source": [
    "# calculate the per class f1 score\n",
    "\n",
    "def f1_score(cm):\n",
    "    f1 = []\n",
    "    for i in range(len(cm)):\n",
    "        tp = cm[i][i]\n",
    "        fp = np.sum(cm[:,i]) - tp\n",
    "        fn = np.sum(cm[i,:]) - tp\n",
    "        f1.append(tp/(tp + 0.5*(fp + fn)))\n",
    "    return f1\n",
    "\n",
    "f1_scores = f1_score(cm)\n",
    "\n",
    "print(f1_scores)\n",
    "\n",
    "# save to file\n",
    "with open(f\"f1-scores/f1_L_{code_distance}_p_{error_rate}.txt\", \"a\") as f:\n",
    "    f.write(str(f1_scores))\n"
   ]
  },
  {
   "cell_type": "code",
   "execution_count": 43,
   "metadata": {},
   "outputs": [
    {
     "data": {
      "image/png": "[encoded data removed]",
      "text/plain": [
       "<Figure size 640x480 with 1 Axes>"
      ]
     },
     "metadata": {},
     "output_type": "display_data"
    }
   ],
   "source": [
    "# plot the f1 score\n",
    "plt.bar(range(16), f1_score(cm))\n",
    "plt.xlabel('Class')\n",
    "plt.ylabel('F1 Score')\n",
    "plt.title(f'F1 Score per Class, L={code_distance}, p=0.{error_rate}')\n",
    "plt.xticks(range(16))\n",
    "plt.savefig(f\"images/f1_score_L_{code_distance}_p_{error_rate}.png\")\n",
    "plt.show()"
   ]
  },
  {
   "cell_type": "code",
   "execution_count": 44,
   "metadata": {},
   "outputs": [
    {
     "data": {
      "image/png": "[encoded data removed]",
      "text/plain": [
       "<Figure size 640x480 with 1 Axes>"
      ]
     },
     "metadata": {},
     "output_type": "display_data"
    }
   ],
   "source": [
    "# plot losses\n",
    "plt.plot(average_losses.keys(), average_losses.values())\n",
    "plt.xlabel('Epoch')\n",
    "plt.ylabel('Average Loss')\n",
    "plt.title(f'Average Loss per Epoch, L={code_distance}, p=0.{error_rate}')\n",
    "plt.xticks(range(1, n_epochs+1))\n",
    "plt.savefig(f\"images/loss_L_{code_distance}_p_{error_rate}.png\")"
   ]
  }
 ],
 "metadata": {
  "kernelspec": {
   "display_name": "tf_gpu",
   "language": "python",
   "name": "python3"
  },
  "language_info": {
   "codemirror_mode": {
    "name": "ipython",
    "version": 3
   },
   "file_extension": ".py",
   "mimetype": "text/x-python",
   "name": "python",
   "nbconvert_exporter": "python",
   "pygments_lexer": "ipython3",
   "version": "3.9.18"
  }
 },
 "nbformat": 4,
 "nbformat_minor": 2
}
